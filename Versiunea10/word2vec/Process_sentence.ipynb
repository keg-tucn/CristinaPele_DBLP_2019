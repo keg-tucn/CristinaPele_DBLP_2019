{
 "cells": [
  {
   "cell_type": "code",
   "execution_count": null,
   "metadata": {},
   "outputs": [],
   "source": [
    "import json"
   ]
  },
  {
   "cell_type": "code",
   "execution_count": null,
   "metadata": {},
   "outputs": [],
   "source": [
    "r = open('../Preprocess_venue/venues_final.json','r',encoding='utf-8')\n",
    "\n",
    "sentences = []\n",
    "\n",
    "for line in r:\n",
    "    vector = line.split(' ')    \n",
    "    vector = vector[0:len(vector)-1]\n",
    "    word_list = []\n",
    "    for word in vector:\n",
    "        word_list.append(word)\n",
    "    sentences.append(word_list)\n",
    "        \n",
    "r.close()"
   ]
  },
  {
   "cell_type": "code",
   "execution_count": null,
   "metadata": {},
   "outputs": [],
   "source": [
    "print(len(sentences))\n",
    "\n",
    "with open('sentences.txt', 'w') as f:\n",
    "    f.write(json.dumps(sentences))"
   ]
  },
  {
   "cell_type": "code",
   "execution_count": null,
   "metadata": {},
   "outputs": [],
   "source": []
  }
 ],
 "metadata": {
  "kernelspec": {
   "display_name": "Python 3",
   "language": "python",
   "name": "python3"
  },
  "language_info": {
   "codemirror_mode": {
    "name": "ipython",
    "version": 3
   },
   "file_extension": ".py",
   "mimetype": "text/x-python",
   "name": "python",
   "nbconvert_exporter": "python",
   "pygments_lexer": "ipython3",
   "version": "3.7.1"
  }
 },
 "nbformat": 4,
 "nbformat_minor": 2
}
