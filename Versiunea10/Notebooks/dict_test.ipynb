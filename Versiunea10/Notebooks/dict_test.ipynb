{
 "cells": [
  {
   "cell_type": "code",
   "execution_count": 2,
   "metadata": {},
   "outputs": [],
   "source": [
    "import json"
   ]
  },
  {
   "cell_type": "code",
   "execution_count": 3,
   "metadata": {},
   "outputs": [],
   "source": [
    "dict_ = {}\n",
    "nr = 0\n",
    "for comp_p in range(1,306):\n",
    "    fisier = '../../LAB/DATA/v11_file' + str(0) + '.txt'\n",
    "    r = open(fisier,'r')\n",
    "\n",
    "    for linie in r:\n",
    "        linie_curenta = json.loads(linie)\n",
    "        try:\n",
    "            title = dict_[linie_curenta['title']]\n",
    "            nr += 1\n",
    "        except:\n",
    "            dict_[linie_curenta['title']] = linie_curenta['fos']\n",
    "   "
   ]
  },
  {
   "cell_type": "code",
   "execution_count": 4,
   "metadata": {},
   "outputs": [
    {
     "name": "stdout",
     "output_type": "stream",
     "text": [
      "3039696\n",
      "9999\n"
     ]
    }
   ],
   "source": [
    "print(nr)\n",
    "print(len(dict_))"
   ]
  },
  {
   "cell_type": "code",
   "execution_count": null,
   "metadata": {},
   "outputs": [],
   "source": []
  }
 ],
 "metadata": {
  "kernelspec": {
   "display_name": "Python 3",
   "language": "python",
   "name": "python3"
  },
  "language_info": {
   "codemirror_mode": {
    "name": "ipython",
    "version": 3
   },
   "file_extension": ".py",
   "mimetype": "text/x-python",
   "name": "python",
   "nbconvert_exporter": "python",
   "pygments_lexer": "ipython3",
   "version": "3.7.3"
  }
 },
 "nbformat": 4,
 "nbformat_minor": 2
}
