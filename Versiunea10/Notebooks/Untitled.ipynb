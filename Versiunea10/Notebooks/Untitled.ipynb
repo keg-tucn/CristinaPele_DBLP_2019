{
 "cells": [
  {
   "cell_type": "code",
   "execution_count": 1,
   "metadata": {},
   "outputs": [],
   "source": [
    "import json"
   ]
  },
  {
   "cell_type": "code",
   "execution_count": 10,
   "metadata": {},
   "outputs": [],
   "source": [
    "def get_title(filePath):\n",
    "    r = open(filePath, 'r')\n",
    "    crt_line = 1\n",
    "    title_list = []\n",
    "    for line in r:\n",
    "        crt_line += 1\n",
    "        crt_p = line\n",
    "        if crt_line % 2 == 0:\n",
    "            continue\n",
    "        title_list.append(line)\n",
    "    return title_list\n",
    "title_list = get_title('all.txt')\n",
    "\n",
    "def find_title(title_list):\n",
    "    "
   ]
  },
  {
   "cell_type": "code",
   "execution_count": 11,
   "metadata": {},
   "outputs": [
    {
     "name": "stdout",
     "output_type": "stream",
     "text": [
      "206\n"
     ]
    }
   ],
   "source": [
    "print(len(title_list))"
   ]
  },
  {
   "cell_type": "code",
   "execution_count": 12,
   "metadata": {},
   "outputs": [
    {
     "name": "stdout",
     "output_type": "stream",
     "text": [
      "['Domain-Specific Heuristics in Answer Set Programming\\n', 'Solving Security Games on Graphs via Marginal Probabilities\\n', 'On the Value of Using Group Discounts under Price Competition\\n', 'Answering Counting Aggregate Queries over Ontologies of the DL-Lite Family\\n', 'Generating Natural-Language Video Descriptions Using Text-Mined Knowledge\\n', 'Simple Temporal Problems with Taboo Regions\\n', 'How to Cut a Cake Before the Party Ends\\n', 'Composition Games for Distributed Systems: The EU Grant Games\\n', 'Structured Kernel-Based Reinforcement Learning\\n', 'Extending STR to a Higher-Order Consistency\\n']\n"
     ]
    }
   ],
   "source": [
    "print(title_list[0:10])"
   ]
  },
  {
   "cell_type": "code",
   "execution_count": null,
   "metadata": {},
   "outputs": [],
   "source": []
  }
 ],
 "metadata": {
  "kernelspec": {
   "display_name": "Python 3",
   "language": "python",
   "name": "python3"
  },
  "language_info": {
   "codemirror_mode": {
    "name": "ipython",
    "version": 3
   },
   "file_extension": ".py",
   "mimetype": "text/x-python",
   "name": "python",
   "nbconvert_exporter": "python",
   "pygments_lexer": "ipython3",
   "version": "3.7.3"
  }
 },
 "nbformat": 4,
 "nbformat_minor": 2
}
