{
 "cells": [
  {
   "cell_type": "markdown",
   "metadata": {},
   "source": [
    "## Terminologie\n",
    "TF \n",
    "- term trequency\n",
    "- numarul de aparitii al unui termen intr-un anumit document\n",
    "   \n",
    "   \n",
    "DF \n",
    "- document frequency \n",
    "- numarul de documente in care apare un anumit termen\n",
    "    \n",
    "IDF \n",
    "- invers document frequency\n",
    "- idf(t) = log(N / (df(t) + 1 )\n",
    "- termenii comuni (ce au o frecventa de aparitie mare) au idf mic, nu sunt relevanti"
   ]
  },
  {
   "cell_type": "code",
   "execution_count": 1,
   "metadata": {},
   "outputs": [],
   "source": [
    "import json\n",
    "import numpy as np\n",
    "from collections import Counter\n",
    "from collections import OrderedDict\n",
    "import pickle"
   ]
  },
  {
   "cell_type": "markdown",
   "metadata": {},
   "source": [
    "# Calculeaza DF"
   ]
  },
  {
   "cell_type": "code",
   "execution_count": 3,
   "metadata": {},
   "outputs": [],
   "source": [
    "def compute_df(file, DF, i)\n",
    "    r = open(file,'r',encoding='utf-8')\n",
    "\n",
    "    for line in r:   \n",
    "        crt_paper = json.loads(line)\n",
    "        abstract = crt_paper['abstract']\n",
    "\n",
    "        for w in abstract:\n",
    "            try:\n",
    "                DF[w].add(i)\n",
    "            except:\n",
    "                DF[w] = {i}\n",
    "        i = i + 1\n",
    "\n",
    "    r.close()\n",
    "    return DF, i"
   ]
  },
  {
   "cell_type": "code",
   "execution_count": 4,
   "metadata": {},
   "outputs": [
    {
     "name": "stdout",
     "output_type": "stream",
     "text": [
      "433159\n",
      "564714\n"
     ]
    }
   ],
   "source": [
    "DF = {}\n",
    "i = 0\n",
    "\n",
    "DF,i = compute_df('./../dblp-vn-0.json', DF, i)\n",
    "print(len(DF))\n",
    "print(i)"
   ]
  },
  {
   "cell_type": "code",
   "execution_count": 6,
   "metadata": {},
   "outputs": [
    {
     "name": "stdout",
     "output_type": "stream",
     "text": [
      "747119\n",
      "1295648\n"
     ]
    }
   ],
   "source": [
    "DF, i = compute_df('./../dblp-vn-1.json', DF, i)\n",
    "print(len(DF))\n",
    "print(i)"
   ]
  },
  {
   "cell_type": "code",
   "execution_count": 8,
   "metadata": {},
   "outputs": [
    {
     "name": "stdout",
     "output_type": "stream",
     "text": [
      "977505\n",
      "1948200\n"
     ]
    }
   ],
   "source": [
    "DF, i = compute_df('./../dblp-vn-2.json', DF, i)\n",
    "print(len(DF))\n",
    "print(i)"
   ]
  },
  {
   "cell_type": "code",
   "execution_count": 10,
   "metadata": {},
   "outputs": [
    {
     "name": "stdout",
     "output_type": "stream",
     "text": [
      "988791\n",
      "1975474\n"
     ]
    }
   ],
   "source": [
    "DF, i = compute_df('./../dblp-vn-3.json', DF, i)\n",
    "print(len(DF))\n",
    "print(i)"
   ]
  },
  {
   "cell_type": "markdown",
   "metadata": {},
   "source": [
    "## Prelucrare dictionar DF"
   ]
  },
  {
   "cell_type": "code",
   "execution_count": 11,
   "metadata": {},
   "outputs": [
    {
     "name": "stdout",
     "output_type": "stream",
     "text": [
      "988791\n"
     ]
    }
   ],
   "source": [
    "for i in DF:\n",
    "    DF[i] = len(DF[i])\n",
    "print(len(DF))"
   ]
  },
  {
   "cell_type": "markdown",
   "metadata": {},
   "source": [
    "## Scrie DF dict in fisier"
   ]
  },
  {
   "cell_type": "code",
   "execution_count": 12,
   "metadata": {},
   "outputs": [],
   "source": [
    "with open('df_VN.txt', 'w') as file:\n",
    "     file.write(json.dumps(DF))"
   ]
  },
  {
   "cell_type": "markdown",
   "metadata": {},
   "source": [
    "# Calculeaza IDF"
   ]
  },
  {
   "cell_type": "code",
   "execution_count": 13,
   "metadata": {},
   "outputs": [],
   "source": [
    "N = 1975474 # numarul de articole\n",
    "DF_read = eval(open('df_VN.txt', 'r').read())"
   ]
  },
  {
   "cell_type": "code",
   "execution_count": 14,
   "metadata": {},
   "outputs": [],
   "source": [
    "idf = {}\n",
    "for elem in DF_read:\n",
    "    idf[elem] = np.log(N/(DF_read[elem]+1))"
   ]
  },
  {
   "cell_type": "code",
   "execution_count": 15,
   "metadata": {},
   "outputs": [],
   "source": [
    "with open('idf_VN.txt', 'w') as file:\n",
    "     file.write(json.dumps(idf))"
   ]
  },
  {
   "cell_type": "markdown",
   "metadata": {},
   "source": [
    "# Calculeaza TF_IDF"
   ]
  },
  {
   "cell_type": "code",
   "execution_count": 2,
   "metadata": {},
   "outputs": [],
   "source": [
    "IDF_read = eval(open('idf_VN.txt', 'r').read())"
   ]
  },
  {
   "cell_type": "code",
   "execution_count": 3,
   "metadata": {},
   "outputs": [],
   "source": [
    "def compute_tf_idf(file):\n",
    "    tf_idf = {}\n",
    "    r = open(file,'r',encoding='utf-8')\n",
    "    doc = 0\n",
    "    for line in r:   \n",
    "        crt_paper = json.loads(line)\n",
    "        abstract = crt_paper['abstract']\n",
    "    \n",
    "        counter = Counter(abstract)\n",
    "        words_count = len(abstract)\n",
    "\n",
    "        for token in np.unique(abstract):\n",
    "            tf = counter[token]/words_count\n",
    "            idf = IDF_read[token]\n",
    "            tf_idf[doc,token] = tf * idf\n",
    "        doc += 1\n",
    "    \n",
    "    r.close()\n",
    "    return tf_idf\n",
    "\n",
    "def sort_dict(tf_idf):\n",
    "    sorted_x = sorted(tf_idf.items(), key=lambda kv: kv[1])\n",
    "    sorted_dict = OrderedDict(sorted_x)\n",
    "    return sorted_dict\n",
    "\n",
    "def write_tf_idf(tf_idf, file):\n",
    "    f = open(file,\"w\")\n",
    "    \n",
    "    for elem in tf_idf:\n",
    "        f.write(str(elem[0]) + \" \" + str(elem[1]) + \" \" + str(tf_idf[elem]) + \"\\n\")\n",
    "\n",
    "    f.close()"
   ]
  },
  {
   "cell_type": "code",
   "execution_count": 4,
   "metadata": {},
   "outputs": [],
   "source": [
    "def process_tf_idf(file_in, file_out):\n",
    "    tf_idf = {}\n",
    "    tf_idf = compute_tf_idf(file_in)\n",
    "    print(\"tf-idf computed\\nsorting...\")\n",
    "    print(len(tf_idf))\n",
    "    sortd = sort_dict(tf_idf)\n",
    "    print(\"sorted\\nwriting..\")\n",
    "    write_tf_idf(sortd,file_out)\n",
    "    print(\"done\")"
   ]
  },
  {
   "cell_type": "code",
   "execution_count": 7,
   "metadata": {},
   "outputs": [
    {
     "name": "stdout",
     "output_type": "stream",
     "text": [
      "tf-idf computed\n",
      "sorting...\n",
      "25981126\n",
      "sorted\n",
      "writing..\n",
      "done\n"
     ]
    }
   ],
   "source": [
    "process_tf_idf('./../dblp-vn-0.json', \"tf_idf0_VN.txt\")"
   ]
  },
  {
   "cell_type": "code",
   "execution_count": null,
   "metadata": {},
   "outputs": [
    {
     "name": "stdout",
     "output_type": "stream",
     "text": [
      "tf-idf computed\n",
      "sorting...\n",
      "34828274\n"
     ]
    }
   ],
   "source": [
    "process_tf_idf('./../dblp-vn-1.json', \"tf_idf1_VN.txt\")"
   ]
  },
  {
   "cell_type": "code",
   "execution_count": null,
   "metadata": {},
   "outputs": [],
   "source": [
    "process_tf_idf('./../dblp-vn-2.json', \"tf_idf2_VN.txt\")"
   ]
  },
  {
   "cell_type": "code",
   "execution_count": 21,
   "metadata": {},
   "outputs": [
    {
     "name": "stdout",
     "output_type": "stream",
     "text": [
      "1490384\n"
     ]
    }
   ],
   "source": [
    "process_tf_idf('./../dblp-vn-3.json', \"tf_idf3_VN.txt\")"
   ]
  },
  {
   "cell_type": "code",
   "execution_count": null,
   "metadata": {},
   "outputs": [],
   "source": []
  }
 ],
 "metadata": {
  "kernelspec": {
   "display_name": "Python 3",
   "language": "python",
   "name": "python3"
  },
  "language_info": {
   "codemirror_mode": {
    "name": "ipython",
    "version": 3
   },
   "file_extension": ".py",
   "mimetype": "text/x-python",
   "name": "python",
   "nbconvert_exporter": "python",
   "pygments_lexer": "ipython3",
   "version": "3.7.1"
  }
 },
 "nbformat": 4,
 "nbformat_minor": 2
}
