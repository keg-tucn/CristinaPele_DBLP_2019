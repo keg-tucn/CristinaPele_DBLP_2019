{
 "cells": [
  {
   "cell_type": "markdown",
   "metadata": {},
   "source": [
    "# PREPROCES DATA\n",
    "### 1. Elimina articolele care nu au: id, title, autors, venue, year, keywords, fos, references, n_citation, lang (!=en), abstract sau indexed_abstract"
   ]
  },
  {
   "cell_type": "code",
   "execution_count": 1,
   "metadata": {},
   "outputs": [],
   "source": [
    "import json"
   ]
  },
  {
   "cell_type": "code",
   "execution_count": 2,
   "metadata": {},
   "outputs": [],
   "source": [
    "def elimina_articole_incomplete(fileIn, fileOut):\n",
    "    fileOut = 'completeData/' + fileOut\n",
    "    wrongPapers = 0\n",
    "    okPapers = 0\n",
    "    i = 0\n",
    "    r = open(fileIn,'r',encoding='utf-8')\n",
    "    w = open(fileOut,'w',encoding='utf-8')\n",
    "    for line in r:\n",
    "        if i % 1000000 == 0:\n",
    "            print(i, wrongPapers, okPapers)\n",
    "        i += 1\n",
    "        crt_paper = json.loads(line)\n",
    "        try:\n",
    "            lang_cp = crt_paper[\"year\"] \n",
    "        except:\n",
    "            wrongPapers += 1\n",
    "            continue\n",
    "        \n",
    "        okPapers += 1\n",
    "        w.write(json.dumps(crt_paper))\n",
    "        w.write('\\n')\n",
    "            \n",
    "    print(fileIn, wrongPapers, okPapers)\n",
    "    w.close()\n",
    "    r.close()"
   ]
  },
  {
   "cell_type": "code",
   "execution_count": 3,
   "metadata": {},
   "outputs": [
    {
     "name": "stdout",
     "output_type": "stream",
     "text": [
      "0 0 0\n",
      "1000000 0 1000000\n",
      "2000000 0 2000000\n",
      "3000000 0 3000000\n",
      "completeData/dblp_v11_4.json 0 3270412\n"
     ]
    }
   ],
   "source": [
    "elimina_articole_incomplete('completeData/dblp_v11_4.json', 'dblp_v11_5.json')\n"
   ]
  },
  {
   "cell_type": "code",
   "execution_count": null,
   "metadata": {},
   "outputs": [],
   "source": []
  }
 ],
 "metadata": {
  "kernelspec": {
   "display_name": "Python 3",
   "language": "python",
   "name": "python3"
  },
  "language_info": {
   "codemirror_mode": {
    "name": "ipython",
    "version": 3
   },
   "file_extension": ".py",
   "mimetype": "text/x-python",
   "name": "python",
   "nbconvert_exporter": "python",
   "pygments_lexer": "ipython3",
   "version": "3.7.1"
  }
 },
 "nbformat": 4,
 "nbformat_minor": 2
}
