{
 "cells": [
  {
   "cell_type": "code",
   "execution_count": 11,
   "metadata": {},
   "outputs": [],
   "source": [
    "import json\n",
    "import string\n",
    "import re"
   ]
  },
  {
   "cell_type": "code",
   "execution_count": 5,
   "metadata": {},
   "outputs": [],
   "source": [
    "def fc1():\n",
    "   \n",
    "    i = 0\n",
    "    r = open('completeData/dblp_v11_4.json','r',encoding='utf-8')\n",
    "    a = 0\n",
    "    ia = 0 \n",
    "    b = 0 \n",
    "    n = 0\n",
    "    for line in r:\n",
    "        if i % 1000000 == 0:\n",
    "            print(i)\n",
    "        i += 1\n",
    "        \n",
    "        crt_paper = json.loads(line)\n",
    "        try:\n",
    "            abstr = crt_paper[\"abstract\"] \n",
    "            a += 1\n",
    "            iabstr = crt_paper[\"indexed_abstract\"] \n",
    "            ia += 1\n",
    "            b += 1\n",
    "        except:\n",
    "            \n",
    "            try:\n",
    "                iabstr = crt_paper[\"indexed_abstract\"] \n",
    "                ia += 1\n",
    "            except:\n",
    "                n += 1\n",
    "    print(a,ia,b,n)\n",
    "    r.close()"
   ]
  },
  {
   "cell_type": "code",
   "execution_count": 6,
   "metadata": {},
   "outputs": [
    {
     "name": "stdout",
     "output_type": "stream",
     "text": [
      "0\n",
      "1000000\n",
      "2000000\n",
      "3000000\n",
      "0 3270412 0 0\n"
     ]
    }
   ],
   "source": [
    "fc1()"
   ]
  },
  {
   "cell_type": "code",
   "execution_count": 14,
   "metadata": {},
   "outputs": [
    {
     "name": "stdout",
     "output_type": "stream",
     "text": [
      "joa\n"
     ]
    }
   ],
   "source": [
    "def elimina_punctuatia(word):\n",
    "    new_word = \"\"\n",
    "    for ch in word:\n",
    "        if ch not in string.punctuation:\n",
    "            new_word += ch\n",
    "    new_word = re.sub(r'\\d+', '', new_word)\n",
    "    return new_word\n",
    "\n",
    "print(elimina_punctuatia('jo-a.'))"
   ]
  },
  {
   "cell_type": "code",
   "execution_count": null,
   "metadata": {},
   "outputs": [],
   "source": []
  }
 ],
 "metadata": {
  "kernelspec": {
   "display_name": "Python 3",
   "language": "python",
   "name": "python3"
  },
  "language_info": {
   "codemirror_mode": {
    "name": "ipython",
    "version": 3
   },
   "file_extension": ".py",
   "mimetype": "text/x-python",
   "name": "python",
   "nbconvert_exporter": "python",
   "pygments_lexer": "ipython3",
   "version": "3.7.1"
  }
 },
 "nbformat": 4,
 "nbformat_minor": 2
}
