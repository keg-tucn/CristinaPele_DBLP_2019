{
 "cells": [
  {
   "cell_type": "code",
   "execution_count": 1,
   "metadata": {},
   "outputs": [],
   "source": [
    "import json"
   ]
  },
  {
   "cell_type": "code",
   "execution_count": 2,
   "metadata": {},
   "outputs": [],
   "source": [
    "import sys\n",
    "sys.path.insert(0, '../../library')\n",
    "\n",
    "from json_file_preprocessing import *\n",
    "from text_preprocessing import *\n",
    "from helpers import *"
   ]
  },
  {
   "cell_type": "markdown",
   "metadata": {},
   "source": [
    "# Preprocesare fos"
   ]
  },
  {
   "cell_type": "code",
   "execution_count": 3,
   "metadata": {},
   "outputs": [
    {
     "name": "stdout",
     "output_type": "stream",
     "text": [
      "0\n",
      "1\n",
      "2\n",
      "3\n",
      "4\n",
      "5\n",
      "6\n",
      "7\n",
      "8\n",
      "9\n",
      "10\n",
      "11\n",
      "12\n",
      "13\n",
      "14\n",
      "15\n",
      "16\n",
      "17\n",
      "18\n",
      "19\n",
      "20\n",
      "21\n",
      "22\n",
      "23\n",
      "24\n",
      "25\n",
      "26\n",
      "27\n",
      "28\n",
      "29\n",
      "30\n",
      "31\n",
      "32\n",
      "len initial fos list 29256\n",
      "first 10 elem of initial fos list \n",
      "['Fuzzy measure theory', 'Type-2 fuzzy sets and systems', 'Mathematical optimization', 'Fuzzy mathematics', 'Fuzzy associative matrix', 'Fuzzy classification', 'Machine learning', 'Fuzzy set operations', 'Artificial intelligence', 'Fuzzy number']\n",
      "first 10 elem of fos without punctuation \n",
      "[['fuzzy', 'measure', 'theory'], ['type', '', 'fuzzy', 'sets', 'and', 'systems'], ['mathematical', 'optimization'], ['fuzzy', 'mathematics'], ['fuzzy', 'associative', 'matrix'], ['fuzzy', 'classification'], ['machine', 'learning'], ['fuzzy', 'set', 'operations'], ['artificial', 'intelligence'], ['fuzzy', 'number']]\n",
      "first 10 elem of fos without stop_words \n",
      "[['fuzzy', 'measure', 'theory'], ['type', 'fuzzy', 'sets', 'systems'], ['mathematical', 'optimization'], ['fuzzy', 'mathematics'], ['fuzzy', 'associative', 'matrix'], ['fuzzy', 'classification'], ['machine', 'learning'], ['fuzzy', 'set', 'operations'], ['artificial', 'intelligence'], ['fuzzy', 'number']]\n",
      "first 10 elem of fos lemmatized \n",
      "[['fuzzy', 'measure', 'theory'], ['type', 'fuzzy', 'set', 'system'], ['mathematical', 'optimization'], ['fuzzy', 'mathematics'], ['fuzzy', 'associative', 'matrix'], ['fuzzy', 'classification'], ['machine', 'learn'], ['fuzzy', 'set', 'operation'], ['artificial', 'intelligence'], ['fuzzy', 'number']]\n",
      "len of fos without empty fos 29192\n"
     ]
    }
   ],
   "source": [
    "fos_list = []\n",
    "for i in range(0,33):\n",
    "    print(i)\n",
    "    filePath = '../dblp_data/preprocessedIA/file'+ str(i) + '.txt'\n",
    "    fos_list = get_field_of_field(['fos','name'],filePath, current_list = [])\n",
    "    fos_list = remove_duplicates_lol(fos_list)\n",
    "    \n",
    "print('len initial fos list ' + str(len(fos_list)))\n",
    "print('first 10 elem of initial fos list ')\n",
    "print(fos_list[0:10])\n",
    "\n",
    "fos_fara_punctuatie = elimina_punctuatia(fos_list)\n",
    "print('first 10 elem of fos without punctuation ')\n",
    "print(fos_fara_punctuatie[0:10])\n",
    "\n",
    "fos_fara_stop_words = elimina_stopwords(fos_fara_punctuatie)\n",
    "print('first 10 elem of fos without stop_words ')\n",
    "print(fos_fara_stop_words[0:10])\n",
    "\n",
    "fos_lemma = lemmatize(fos_fara_stop_words)\n",
    "print('first 10 elem of fos lemmatized ')\n",
    "print(fos_lemma[0:10])\n",
    "\n",
    "fos_preproces = eliminate_empty_lists(fos_lemma)\n",
    "print('len of fos without empty fos ' + str(len(fos_preproces)))\n"
   ]
  },
  {
   "cell_type": "markdown",
   "metadata": {},
   "source": [
    "## Scrie in fisier"
   ]
  },
  {
   "cell_type": "code",
   "execution_count": 5,
   "metadata": {},
   "outputs": [],
   "source": [
    "w = open(\"fos_preprocesat.txt\",'w')\n",
    "w.write(json.dumps(fos_preproces))\n",
    "w.close()"
   ]
  },
  {
   "cell_type": "code",
   "execution_count": 3,
   "metadata": {},
   "outputs": [],
   "source": [
    "r = open(\"fos_preprocesat.txt\",'r')\n",
    "f = json.load(r)\n",
    "r.close()\n",
    "\n",
    "# w = open(\"fos_lista_unice.txt\",'w')\n",
    "# w.write(json.dumps(get_word_list(f)))\n",
    "# w.close()\n",
    "            "
   ]
  },
  {
   "cell_type": "code",
   "execution_count": 4,
   "metadata": {},
   "outputs": [
    {
     "name": "stdout",
     "output_type": "stream",
     "text": [
      "29192\n"
     ]
    }
   ],
   "source": [
    "print(len(f))\n",
    "word_dict = calculeaza_dict_aparitii(f)\n"
   ]
  },
  {
   "cell_type": "code",
   "execution_count": 5,
   "metadata": {},
   "outputs": [
    {
     "name": "stdout",
     "output_type": "stream",
     "text": [
      "12600\n"
     ]
    }
   ],
   "source": [
    "print(len(word_dict))"
   ]
  },
  {
   "cell_type": "code",
   "execution_count": 6,
   "metadata": {
    "scrolled": true
   },
   "outputs": [
    {
     "name": "stdout",
     "output_type": "stream",
     "text": [
      "12600\n"
     ]
    }
   ],
   "source": [
    "word_dict_sorted = sort_dict_value(word_dict)\n",
    "print(len(word_dict_sorted))\n",
    "w = open(\"fos_dict_aparitii.txt\",'w')\n",
    "w.write(json.dumps(word_dict_sorted))\n",
    "w.close()"
   ]
  },
  {
   "cell_type": "code",
   "execution_count": 18,
   "metadata": {
    "scrolled": false
   },
   "outputs": [
    {
     "name": "stdout",
     "output_type": "stream",
     "text": [
      "438\n",
      "12600\n",
      "21364\n"
     ]
    }
   ],
   "source": [
    "max_ = get_max_dict(word_dict)\n",
    "print(max_)\n",
    "new_f = elimina_aparitii(f, word_dict, 5, 100)\n",
    "print(len(word_dict))\n",
    "print(len(new_f))\n",
    "w = open(\"fos_5_100.txt\",'w')\n",
    "w.write(json.dumps(new_f))\n",
    "w.close()"
   ]
  },
  {
   "cell_type": "code",
   "execution_count": 13,
   "metadata": {},
   "outputs": [],
   "source": []
  },
  {
   "cell_type": "code",
   "execution_count": null,
   "metadata": {},
   "outputs": [],
   "source": []
  }
 ],
 "metadata": {
  "kernelspec": {
   "display_name": "Python 3",
   "language": "python",
   "name": "python3"
  },
  "language_info": {
   "codemirror_mode": {
    "name": "ipython",
    "version": 3
   },
   "file_extension": ".py",
   "mimetype": "text/x-python",
   "name": "python",
   "nbconvert_exporter": "python",
   "pygments_lexer": "ipython3",
   "version": "3.7.3"
  }
 },
 "nbformat": 4,
 "nbformat_minor": 2
}
