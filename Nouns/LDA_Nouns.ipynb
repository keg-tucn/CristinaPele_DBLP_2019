{
 "cells": [
  {
   "cell_type": "code",
   "execution_count": 1,
   "metadata": {},
   "outputs": [],
   "source": [
    "import json\n",
    "import pickle\n",
    "\n",
    "from gensim import corpora\n",
    "import gensim \n",
    "\n",
    "import pyLDAvis.gensim"
   ]
  },
  {
   "cell_type": "markdown",
   "metadata": {},
   "source": [
    "## Global Vars"
   ]
  },
  {
   "cell_type": "code",
   "execution_count": 2,
   "metadata": {},
   "outputs": [],
   "source": [
    "NUM_TOPICS = 6\n",
    "NUM_WORDS = 6\n",
    "ITERATIONS = 15"
   ]
  },
  {
   "cell_type": "markdown",
   "metadata": {},
   "source": [
    "## Citire lista de cuvinte "
   ]
  },
  {
   "cell_type": "code",
   "execution_count": 3,
   "metadata": {},
   "outputs": [],
   "source": [
    "word_list = []\n",
    "with open('list-reduced-n.json','rb') as r:\n",
    "    word_list = pickle.load(r)"
   ]
  },
  {
   "cell_type": "markdown",
   "metadata": {},
   "source": [
    "## Creare dictionar si corpus"
   ]
  },
  {
   "cell_type": "code",
   "execution_count": 4,
   "metadata": {},
   "outputs": [],
   "source": [
    "dictionary = corpora.Dictionary([word_list])\n",
    "corpus = [dictionary.doc2bow(word) for word in [word_list]]\n",
    "pickle.dump(corpus, open('corpus.pkl', 'wb'))\n",
    "dictionary.save('dictionary.gensim')"
   ]
  },
  {
   "cell_type": "markdown",
   "metadata": {},
   "source": [
    "## Rulare LDA"
   ]
  },
  {
   "cell_type": "code",
   "execution_count": 5,
   "metadata": {},
   "outputs": [
    {
     "name": "stdout",
     "output_type": "stream",
     "text": [
      "(0, '0.000*\"fast-deploy\" + 0.000*\"kolesnik\" + 0.000*\"cryst\" + 0.000*\"semitrivi\" + 0.000*\"semnaa\" + 0.000*\"easley\"')\n",
      "(1, '0.000*\"x-map\" + 0.000*\"beguin\" + 0.000*\"organization-inform\" + 0.000*\"similarit\" + 0.000*\"p-wave\" + 0.000*\"rate-qu\"')\n",
      "(2, '0.000*\"plast\" + 0.000*\"blti\" + 0.000*\"osthu\" + 0.000*\"divonn\" + 0.000*\"fs-eocc\" + 0.000*\"one-product\"')\n",
      "(3, '0.000*\"damas-miln\" + 0.000*\"adaptive-backstep\" + 0.000*\"no-refer\" + 0.000*\"waveform-divers\" + 0.000*\"aviabl\" + 0.000*\"free-styl\"')\n",
      "(4, '0.000*\"armrayan\" + 0.000*\"i-protect\" + 0.000*\"anulib\" + 0.000*\"elm-oao\" + 0.000*\"mesh-fre\" + 0.000*\"action-observ\"')\n",
      "(5, '0.000*\"senso\" + 0.000*\"crkg\" + 0.000*\"nation\" + 0.000*\"failure-prob\" + 0.000*\"antibody-target\" + 0.000*\"scalari\"')\n"
     ]
    }
   ],
   "source": [
    "ldamodel = gensim.models.ldamodel.LdaModel(corpus, num_topics = NUM_TOPICS, id2word = dictionary, passes = ITERATIONS)\n",
    "ldamodel.save('model1.gensim')\n",
    "topics = ldamodel.print_topics(num_words=NUM_WORDS)\n",
    "for topic in topics:\n",
    "    print(topic)"
   ]
  },
  {
   "cell_type": "code",
   "execution_count": null,
   "metadata": {},
   "outputs": [],
   "source": [
    "dictionary = gensim.corpora.Dictionary.load('dictionary.gensim')\n",
    "corpus = pickle.load(open('corpus.pkl', 'rb'))\n",
    "lda = gensim.models.ldamodel.LdaModel.load('model1.gensim')\n",
    "\n",
    "lda_display = pyLDAvis.gensim.prepare(lda, corpus, dictionary, sort_topics=False)\n",
    "pyLDAvis.display(lda_display)"
   ]
  },
  {
   "cell_type": "code",
   "execution_count": null,
   "metadata": {},
   "outputs": [],
   "source": []
  }
 ],
 "metadata": {
  "kernelspec": {
   "display_name": "Python 3",
   "language": "python",
   "name": "python3"
  },
  "language_info": {
   "codemirror_mode": {
    "name": "ipython",
    "version": 3
   },
   "file_extension": ".py",
   "mimetype": "text/x-python",
   "name": "python",
   "nbconvert_exporter": "python",
   "pygments_lexer": "ipython3",
   "version": "3.7.1"
  }
 },
 "nbformat": 4,
 "nbformat_minor": 2
}
