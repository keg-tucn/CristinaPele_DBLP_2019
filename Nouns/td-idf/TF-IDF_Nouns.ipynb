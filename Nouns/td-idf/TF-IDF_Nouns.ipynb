{
 "cells": [
  {
   "cell_type": "markdown",
   "metadata": {},
   "source": [
    "## Terminologie\n",
    "TF \n",
    "- term trequency\n",
    "- numarul de aparitii al unui termen intr-un anumit document\n",
    "   \n",
    "   \n",
    "DF \n",
    "- document frequency \n",
    "- numarul de documente in care apare un anumit termen\n",
    "    \n",
    "IDF \n",
    "- invers document frequency\n",
    "- idf(t) = log(N / (df(t) + 1 )\n",
    "- termenii comuni (ce au o frecventa de aparitie mare) au idf mic, nu sunt relevanti"
   ]
  },
  {
   "cell_type": "code",
   "execution_count": 1,
   "metadata": {},
   "outputs": [],
   "source": [
    "import json\n",
    "import numpy as np\n",
    "from collections import Counter\n",
    "import pickle"
   ]
  },
  {
   "cell_type": "markdown",
   "metadata": {},
   "source": [
    "# Calculeaza DF"
   ]
  },
  {
   "cell_type": "markdown",
   "metadata": {},
   "source": [
    "## Calculeaza DF din fisierul 0"
   ]
  },
  {
   "cell_type": "code",
   "execution_count": 20,
   "metadata": {},
   "outputs": [],
   "source": [
    "r = open('./../dblp-n-0.json','r',encoding='utf-8')\n",
    "\n",
    "DF = {}\n",
    "i = 0\n",
    "\n",
    "for line in r:   \n",
    "    crt_paper = json.loads(line)\n",
    "    abstract = crt_paper['abstract']\n",
    "\n",
    "    for w in abstract:\n",
    "        try:\n",
    "            DF[w].add(i)\n",
    "        except:\n",
    "            DF[w] = {i}\n",
    "    i = i + 1\n",
    "    \n",
    "r.close()"
   ]
  },
  {
   "cell_type": "code",
   "execution_count": 22,
   "metadata": {},
   "outputs": [
    {
     "name": "stdout",
     "output_type": "stream",
     "text": [
      "429391\n",
      "564714\n"
     ]
    }
   ],
   "source": [
    "print(len(DF))\n",
    "print(i)"
   ]
  },
  {
   "cell_type": "markdown",
   "metadata": {},
   "source": [
    "## Calculeaza DF din fisierul 1"
   ]
  },
  {
   "cell_type": "code",
   "execution_count": 23,
   "metadata": {},
   "outputs": [],
   "source": [
    "r = open('./../dblp-n-1.json','r',encoding='utf-8')\n",
    "\n",
    "for line in r:   \n",
    "    crt_paper = json.loads(line)\n",
    "    abstract = crt_paper['abstract']\n",
    "\n",
    "    for w in abstract:\n",
    "        try:\n",
    "            DF[w].add(i)\n",
    "        except:\n",
    "            DF[w] = {i}\n",
    "    i = i + 1\n",
    "    \n",
    "r.close()"
   ]
  },
  {
   "cell_type": "code",
   "execution_count": 24,
   "metadata": {},
   "outputs": [
    {
     "name": "stdout",
     "output_type": "stream",
     "text": [
      "743014\n",
      "1295648\n"
     ]
    }
   ],
   "source": [
    "print(len(DF))\n",
    "print(i)"
   ]
  },
  {
   "cell_type": "markdown",
   "metadata": {},
   "source": [
    "## Calculeaza DF din fisierul 2"
   ]
  },
  {
   "cell_type": "code",
   "execution_count": 25,
   "metadata": {},
   "outputs": [],
   "source": [
    "r = open('./../dblp-n-2.json','r',encoding='utf-8')\n",
    "\n",
    "for line in r:   \n",
    "    crt_paper = json.loads(line)\n",
    "    abstract = crt_paper['abstract']\n",
    "\n",
    "    for w in abstract:\n",
    "        try:\n",
    "            DF[w].add(i)\n",
    "        except:\n",
    "            DF[w] = {i}\n",
    "    i = i + 1\n",
    "    \n",
    "r.close()"
   ]
  },
  {
   "cell_type": "code",
   "execution_count": 26,
   "metadata": {},
   "outputs": [
    {
     "name": "stdout",
     "output_type": "stream",
     "text": [
      "973241\n",
      "1948200\n"
     ]
    }
   ],
   "source": [
    "print(len(DF))\n",
    "print(i)"
   ]
  },
  {
   "cell_type": "markdown",
   "metadata": {},
   "source": [
    "## Calculeaza DF din fisierul 3"
   ]
  },
  {
   "cell_type": "code",
   "execution_count": 27,
   "metadata": {},
   "outputs": [],
   "source": [
    "r = open('./../dblp-n-3.json','r',encoding='utf-8')\n",
    "\n",
    "for line in r:   \n",
    "    crt_paper = json.loads(line)\n",
    "    abstract = crt_paper['abstract']\n",
    "\n",
    "    for w in abstract:\n",
    "        try:\n",
    "            DF[w].add(i)\n",
    "        except:\n",
    "            DF[w] = {i}\n",
    "    i = i + 1\n",
    "    \n",
    "r.close()"
   ]
  },
  {
   "cell_type": "code",
   "execution_count": 28,
   "metadata": {},
   "outputs": [
    {
     "name": "stdout",
     "output_type": "stream",
     "text": [
      "984525\n",
      "1975474\n"
     ]
    }
   ],
   "source": [
    "print(len(DF))\n",
    "print(i)"
   ]
  },
  {
   "cell_type": "markdown",
   "metadata": {},
   "source": [
    "## Prelucrare dictionar DF"
   ]
  },
  {
   "cell_type": "code",
   "execution_count": 29,
   "metadata": {},
   "outputs": [
    {
     "name": "stdout",
     "output_type": "stream",
     "text": [
      "984525\n"
     ]
    }
   ],
   "source": [
    "for i in DF:\n",
    "    DF[i] = len(DF[i])\n",
    "print(len(DF))"
   ]
  },
  {
   "cell_type": "markdown",
   "metadata": {},
   "source": [
    "## Scrie DF dict in fisier"
   ]
  },
  {
   "cell_type": "code",
   "execution_count": 30,
   "metadata": {},
   "outputs": [],
   "source": [
    "with open('df.txt', 'w') as file:\n",
    "     file.write(json.dumps(DF))"
   ]
  },
  {
   "cell_type": "markdown",
   "metadata": {},
   "source": [
    "# Calculeaza IDF"
   ]
  },
  {
   "cell_type": "code",
   "execution_count": 41,
   "metadata": {},
   "outputs": [],
   "source": [
    "N = 1975474 # numarul de articole\n",
    "DF_read = eval(open('df.txt', 'r').read())"
   ]
  },
  {
   "cell_type": "code",
   "execution_count": 51,
   "metadata": {},
   "outputs": [],
   "source": [
    "idf = {}\n",
    "for elem in DF_read:\n",
    "    idf[elem] = np.log(N/(DF_read[elem]+1))"
   ]
  },
  {
   "cell_type": "code",
   "execution_count": 53,
   "metadata": {},
   "outputs": [],
   "source": [
    "with open('idf.txt', 'w') as file:\n",
    "     file.write(json.dumps(idf))"
   ]
  },
  {
   "cell_type": "markdown",
   "metadata": {},
   "source": [
    "# Calculeaza TF_IDF"
   ]
  },
  {
   "cell_type": "markdown",
   "metadata": {},
   "source": [
    "## Calculeaza TD_IDF pentru fisierul 0"
   ]
  },
  {
   "cell_type": "code",
   "execution_count": 2,
   "metadata": {},
   "outputs": [],
   "source": [
    "IDF_read = eval(open('idf.txt', 'r').read())"
   ]
  },
  {
   "cell_type": "code",
   "execution_count": 3,
   "metadata": {},
   "outputs": [],
   "source": [
    "def compute_tf_idf(file):\n",
    "    tf_idf = {}\n",
    "    r = open(file,'r',encoding='utf-8')\n",
    "    doc = 0\n",
    "    for line in r:   \n",
    "        crt_paper = json.loads(line)\n",
    "        abstract = crt_paper['abstract']\n",
    "    \n",
    "        counter = Counter(abstract)\n",
    "        words_count = len(abstract)\n",
    "\n",
    "        for token in np.unique(abstract):\n",
    "            tf = counter[token]/words_count\n",
    "            idf = IDF_read[token]\n",
    "            tf_idf[doc,token] = tf * idf\n",
    "        doc += 1\n",
    "    \n",
    "    r.close()\n",
    "    return tf_idf\n",
    "\n",
    "def write_tf_idf(tf_idf, file):\n",
    "    f = open(file,\"w\")\n",
    "    \n",
    "    for elem in tf_idf:\n",
    "        f.write(str(elem[0]) + \" \" + str(elem[1]) + \" \" + str(tf_idf[elem]) + \"\\n\")\n",
    "\n",
    "    f.close()"
   ]
  },
  {
   "cell_type": "code",
   "execution_count": 16,
   "metadata": {},
   "outputs": [
    {
     "name": "stdout",
     "output_type": "stream",
     "text": [
      "18149860\n"
     ]
    }
   ],
   "source": [
    "tf_idf0 = {}\n",
    "tf_idf0 = compute_tf_idf('./../dblp-n-0.json')\n",
    "print(len(tf_idf0))\n",
    "write_tf_idf(tf_idf0,\"tf_idf0.txt\")"
   ]
  },
  {
   "cell_type": "code",
   "execution_count": 6,
   "metadata": {},
   "outputs": [
    {
     "name": "stdout",
     "output_type": "stream",
     "text": [
      "24383065\n"
     ]
    }
   ],
   "source": [
    "tf_idf1 = {}\n",
    "tf_idf1 = compute_tf_idf('./../dblp-n-1.json')\n",
    "print(len(tf_idf1))\n",
    "write_tf_idf(tf_idf1,\"tf_idf1.txt\")"
   ]
  },
  {
   "cell_type": "code",
   "execution_count": 4,
   "metadata": {},
   "outputs": [
    {
     "name": "stdout",
     "output_type": "stream",
     "text": [
      "22421044\n"
     ]
    }
   ],
   "source": [
    "tf_idf2 = {}\n",
    "tf_idf2 = compute_tf_idf('./../dblp-n-2.json')\n",
    "print(len(tf_idf2))\n",
    "write_tf_idf(tf_idf2,\"tf_idf2.txt\")"
   ]
  },
  {
   "cell_type": "code",
   "execution_count": 5,
   "metadata": {},
   "outputs": [
    {
     "name": "stdout",
     "output_type": "stream",
     "text": [
      "1042718\n"
     ]
    }
   ],
   "source": [
    "tf_idf3 = {}\n",
    "tf_idf3 = compute_tf_idf('./../dblp-n-3.json')\n",
    "print(len(tf_idf3))\n",
    "write_tf_idf(tf_idf3,\"tf_idf3.txt\")"
   ]
  },
  {
   "cell_type": "code",
   "execution_count": 7,
   "metadata": {},
   "outputs": [
    {
     "name": "stdout",
     "output_type": "stream",
     "text": [
      "ok\n"
     ]
    }
   ],
   "source": [
    "print(\"ok\")"
   ]
  },
  {
   "cell_type": "code",
   "execution_count": null,
   "metadata": {},
   "outputs": [],
   "source": []
  }
 ],
 "metadata": {
  "kernelspec": {
   "display_name": "Python 3",
   "language": "python",
   "name": "python3"
  },
  "language_info": {
   "codemirror_mode": {
    "name": "ipython",
    "version": 3
   },
   "file_extension": ".py",
   "mimetype": "text/x-python",
   "name": "python",
   "nbconvert_exporter": "python",
   "pygments_lexer": "ipython3",
   "version": "3.7.1"
  }
 },
 "nbformat": 4,
 "nbformat_minor": 2
}
