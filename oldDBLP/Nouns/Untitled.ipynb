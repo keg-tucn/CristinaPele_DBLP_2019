{
 "cells": [
  {
   "cell_type": "code",
   "execution_count": 1,
   "metadata": {},
   "outputs": [],
   "source": [
    "import json\n",
    "import pickle"
   ]
  },
  {
   "cell_type": "code",
   "execution_count": 2,
   "metadata": {},
   "outputs": [],
   "source": [
    "with open('list-n3.json','rb') as r:\n",
    "    wl3 = pickle.load(r)"
   ]
  },
  {
   "cell_type": "code",
   "execution_count": 3,
   "metadata": {},
   "outputs": [
    {
     "name": "stdout",
     "output_type": "stream",
     "text": [
      "['adaboost', 'algorithm', 'haarlike', 'feature', 'high', 'accuracy', 'object', 'detection', 'massive', 'computing', 'power', 'classifier', 'problem', 'hardware', 'solution', 'realtime', 'application', 'novel', 'architecture', 'detector', 'performance', 'resource', 'processor', 'accelerator', 'loading', 'parameter', 'parallelism', 'unit', 'combination', 'flexibility', 'scheme', 'xilinx', 'platform', 'experiment', 'result', 'qvga', 'frame', 'second', 'face', 'time', 'improvement', 'opencv', 'implementation', 'standalone', 'execution', 'speed', 'fpga', 'priorart', 'paper', 'study', 'autonomous', 'underwater', 'vehicle', 'auv', 'source', 'signal', 'environment', 'redundant', 'gradient', 'method', 'sourceseeking', 'strategy', 'field', 'model', 'measurement', 'gradientclimbing', 'path', 'convergence', 'sequential', 'leastsquares', 'estimation', 'programming', 'maximum', 'potential', 'waypoint', 'control', 'predictive', 'nmpc', 'lineofsight', 'los', 'guidance', 'law', 'effectiveness', 'efficiency', 'simulation', 'methodology', 'change', 'corpus', 'linguistics', 'issue', 'increase', 'size', 'presence', 'noise', 'data', 'addition', 'target', 'evolution', 'aspect', 'fluctuation', 'topic', 'newspaper', 'gazette', 'lausanne', 'journal', 'million', 'article', 'year', 'archive', 'order', 'indicator', 'visualization', 'concept', 'kernel', 'word', 'resilience', 'challenge', 'end', 'discussion', 'comparison', 'analysis', 'possible', 'future', 'direction', 'container', 'identification', 'recognition', 'semiautomatic', 'fashion', 'multiple', 'error', 'inefficiency', 'operation', 'automatic', 'standard', 'pattern', 'code', 'foreground', 'background', 'color', 'font', 'type', 'orientation', 'character', 'horizontal', 'surface', 'body', 'projection', 'text', 'form', 'endtoend', 'pipeline', 'us', 'region', 'proposal', 'component', 'conjunction', 'transformer', 'network', 'situation', 'stateoftheart', 'coverage', 'rate', 'seethrough', 'headmounted', 'display', 'calibration', 'eye', 'depth', 'perception', 'hand', 'user', 'number', 'alignment', 'task', 'structure', 'additional', 'constraint', 'cost', 'function', 'burden', 'interaction', 'synchronization', 'protocol', 'sequence', 'design', 'simple', 'channel', 'access', 'mobile', 'focus', 'irrepressible', 'ci', 'packet', 'transmission', 'period', 'previous', 'average', 'alohatype', 'unique']\n"
     ]
    }
   ],
   "source": [
    "print(wl3[0:200])"
   ]
  },
  {
   "cell_type": "code",
   "execution_count": 4,
   "metadata": {},
   "outputs": [
    {
     "name": "stdout",
     "output_type": "stream",
     "text": [
      "61600\n"
     ]
    }
   ],
   "source": [
    "print (len(wl3))"
   ]
  },
  {
   "cell_type": "code",
   "execution_count": 5,
   "metadata": {},
   "outputs": [],
   "source": [
    "with open('list-n-final.json','rb') as r:\n",
    "    wfin = pickle.load(r)"
   ]
  },
  {
   "cell_type": "code",
   "execution_count": 6,
   "metadata": {},
   "outputs": [
    {
     "name": "stdout",
     "output_type": "stream",
     "text": [
      "984525\n"
     ]
    }
   ],
   "source": [
    "print(len(wfin))"
   ]
  },
  {
   "cell_type": "code",
   "execution_count": 7,
   "metadata": {},
   "outputs": [],
   "source": [
    "with open('list-reduced-n.json','rb') as r:\n",
    "    wred = pickle.load(r)"
   ]
  },
  {
   "cell_type": "code",
   "execution_count": 8,
   "metadata": {},
   "outputs": [
    {
     "name": "stdout",
     "output_type": "stream",
     "text": [
      "339858\n"
     ]
    }
   ],
   "source": [
    "print(len(wred))"
   ]
  },
  {
   "cell_type": "code",
   "execution_count": null,
   "metadata": {},
   "outputs": [],
   "source": []
  }
 ],
 "metadata": {
  "kernelspec": {
   "display_name": "Python 3",
   "language": "python",
   "name": "python3"
  },
  "language_info": {
   "codemirror_mode": {
    "name": "ipython",
    "version": 3
   },
   "file_extension": ".py",
   "mimetype": "text/x-python",
   "name": "python",
   "nbconvert_exporter": "python",
   "pygments_lexer": "ipython3",
   "version": "3.7.1"
  }
 },
 "nbformat": 4,
 "nbformat_minor": 2
}
