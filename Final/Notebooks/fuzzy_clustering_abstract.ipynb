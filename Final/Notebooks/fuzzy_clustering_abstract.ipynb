{
 "cells": [
  {
   "cell_type": "code",
   "execution_count": 1,
   "metadata": {},
   "outputs": [],
   "source": [
    "import json\n",
    "import sys\n",
    "import numpy as np\n",
    "sys.path.append('../library')\n",
    "from clustering import *"
   ]
  },
  {
   "cell_type": "code",
   "execution_count": 23,
   "metadata": {},
   "outputs": [],
   "source": [
    "def get_values(X):\n",
    "    X_list = []\n",
    "    for elem in X:\n",
    "        X_list.append(X[elem])\n",
    "    return X_list\n",
    "\n",
    "def get_keys(X):\n",
    "    X_list = []\n",
    "    for elem in X:\n",
    "        X_list.append(elem)\n",
    "    return X_list\n",
    "\n",
    "\n",
    "def run_xmeans_fuzzy(X):\n",
    "    print(\"xmeans running...\")\n",
    "    xmeans = apply_XMeans(X,1,100)\n",
    "    cls = len(xmeans.get_clusters())\n",
    "    print(cls)\n",
    "    fcm = apply_fuzzy(X,cls)\n",
    "    return fcm.get_membership(), cls \n",
    "\n",
    "def run_xmeans(X, val_max):\n",
    "    xmeans = apply_XMeans(X,1,val_max)\n",
    "    cls = len(xmeans.get_clusters())\n",
    "    return cls\n",
    "\n",
    "def run_fuzzy(X, cls):\n",
    "    fcm = apply_fuzzy(X,cls)\n",
    "    return fcm.get_membership() \n",
    "\n",
    "    \n",
    "def get_embedding_abstract(path, field,nrFiles):\n",
    "    list_ = []\n",
    "    for i in range(0, nrFiles):\n",
    "        r = open(path+str(i)+'.txt','r')\n",
    "        \n",
    "        for line in r:\n",
    "            art_crt = json.loads(line)\n",
    "            list_.append(art_crt[field])\n",
    "        \n",
    "        r.close()\n",
    "    return list_"
   ]
  },
  {
   "cell_type": "markdown",
   "metadata": {},
   "source": [
    "## Complet"
   ]
  },
  {
   "cell_type": "markdown",
   "metadata": {},
   "source": [
    "### Doc2vec"
   ]
  },
  {
   "cell_type": "code",
   "execution_count": 3,
   "metadata": {},
   "outputs": [],
   "source": [
    "def run_d2v():\n",
    "    p = get_embedding_abstract('../Date/doc2vec/Abstract/Complet/file','d2w',169)\n",
    "    return run_fuzzy(p, 100)"
   ]
  },
  {
   "cell_type": "code",
   "execution_count": null,
   "metadata": {},
   "outputs": [],
   "source": [
    "mem = run_d2v()"
   ]
  },
  {
   "cell_type": "code",
   "execution_count": 4,
   "metadata": {},
   "outputs": [
    {
     "name": "stdout",
     "output_type": "stream",
     "text": [
      "1690000 300\n"
     ]
    }
   ],
   "source": [
    "print(len(p), len(p[0]))"
   ]
  },
  {
   "cell_type": "code",
   "execution_count": null,
   "metadata": {},
   "outputs": [],
   "source": [
    "mem_max = []\n",
    "cls_max = 0\n",
    "for i in range(0,100):\n",
    "    if i % 5 == 0:\n",
    "        print(i)\n",
    "    mem,cls = run_fuzzy(p)\n",
    "    if cls > cls_max:\n",
    "        cls_max = cls\n",
    "        mem_max = mem\n",
    "print(len(mem_max), len(mem_max[0]), cls_max)"
   ]
  },
  {
   "cell_type": "code",
   "execution_count": null,
   "metadata": {},
   "outputs": [],
   "source": [
    "mem,cls = run_fuzzy(p)"
   ]
  },
  {
   "cell_type": "markdown",
   "metadata": {},
   "source": [
    "## Word2vec pretrained"
   ]
  },
  {
   "cell_type": "code",
   "execution_count": 3,
   "metadata": {},
   "outputs": [],
   "source": [
    "def run_w2v():\n",
    "    p = get_embedding_abstract('../Date/word2vec-pretrained/Abstract/Complet/avg/file','abstract',169)\n",
    "    return run_fuzzy(p, 100)"
   ]
  },
  {
   "cell_type": "code",
   "execution_count": 4,
   "metadata": {},
   "outputs": [],
   "source": [
    "mem = run_w2v()"
   ]
  },
  {
   "cell_type": "code",
   "execution_count": 5,
   "metadata": {},
   "outputs": [
    {
     "name": "stdout",
     "output_type": "stream",
     "text": [
      "1690000\n"
     ]
    }
   ],
   "source": [
    "print(len(mem))"
   ]
  },
  {
   "cell_type": "code",
   "execution_count": 6,
   "metadata": {},
   "outputs": [
    {
     "name": "stdout",
     "output_type": "stream",
     "text": [
      "100\n"
     ]
    }
   ],
   "source": [
    "print(len(mem[0]))"
   ]
  },
  {
   "cell_type": "code",
   "execution_count": 26,
   "metadata": {},
   "outputs": [],
   "source": [
    "def print_results(mem, path_in, path_out, nrFiles):\n",
    "    k = 0\n",
    "    for i in range(0, nrFiles):\n",
    "        if i % 1000 == 0:\n",
    "            print(i)\n",
    "        r = open(path_in+str(i)+'.txt', 'r')\n",
    "        w = open(path_out+str(i)+'.txt', 'w')\n",
    "        \n",
    "        for line in r:\n",
    "            art_crt = json.loads(line)\n",
    "            new_art = {}\n",
    "            new_art['id'] = art_crt['id']\n",
    "            new_art['venue'] = art_crt['venue']\n",
    "            new_art['abstract'] = art_crt['abstract']\n",
    "            new_art['fos'] = art_crt['fos']\n",
    "            new_art['class_weights'] = mem[k]\n",
    "            k += 1\n",
    "            w.write(json.dumps(new_art))\n",
    "            w.write('\\n')\n",
    "            \n",
    "        w.close()\n",
    "        r.close()\n",
    "        "
   ]
  },
  {
   "cell_type": "code",
   "execution_count": 28,
   "metadata": {},
   "outputs": [
    {
     "name": "stdout",
     "output_type": "stream",
     "text": [
      "0\n"
     ]
    }
   ],
   "source": [
    "print_results(mem, '../Date/word2vec-pretrained/Abstract/Complet/avg/file', '../Rezultate/Fuzzy/Abstract/100-clase/file', 169)"
   ]
  },
  {
   "cell_type": "code",
   "execution_count": 22,
   "metadata": {},
   "outputs": [],
   "source": [
    "def run_xf():\n",
    "    p = get_embedding_abstract('../Date/word2vec-pretrained/Abstract/Complet/sum/file','abstract',169)\n",
    "    return run_fuzzy(p,100)"
   ]
  },
  {
   "cell_type": "code",
   "execution_count": null,
   "metadata": {},
   "outputs": [
    {
     "name": "stdout",
     "output_type": "stream",
     "text": [
      "xmeans running...\n",
      "100\n"
     ]
    }
   ],
   "source": [
    "mem, cls = run_xf()"
   ]
  },
  {
   "cell_type": "markdown",
   "metadata": {},
   "source": [
    "## Word2vec gensim"
   ]
  },
  {
   "cell_type": "code",
   "execution_count": 32,
   "metadata": {},
   "outputs": [],
   "source": [
    "def run_g():\n",
    "    p = get_embedding_abstract('../Date/word2vec-gensim/Abstract/Complet/sum/file','abstract',169)\n",
    "    return run_xmeans(p,200)"
   ]
  },
  {
   "cell_type": "code",
   "execution_count": 33,
   "metadata": {},
   "outputs": [],
   "source": [
    "res = run_g()"
   ]
  },
  {
   "cell_type": "code",
   "execution_count": 34,
   "metadata": {},
   "outputs": [
    {
     "name": "stdout",
     "output_type": "stream",
     "text": [
      "200\n"
     ]
    }
   ],
   "source": [
    "print(res)"
   ]
  },
  {
   "cell_type": "code",
   "execution_count": 35,
   "metadata": {},
   "outputs": [
    {
     "name": "stdout",
     "output_type": "stream",
     "text": [
      "0\n"
     ]
    },
    {
     "ename": "FileNotFoundError",
     "evalue": "[Errno 2] No such file or directory: '../Rezultate/Fuzzy/word2vec-gensim/Abstract/sum/100-clase/file0.txt'",
     "output_type": "error",
     "traceback": [
      "\u001b[1;31m---------------------------------------------------------------------------\u001b[0m",
      "\u001b[1;31mFileNotFoundError\u001b[0m                         Traceback (most recent call last)",
      "\u001b[1;32m<ipython-input-35-fea18c319867>\u001b[0m in \u001b[0;36m<module>\u001b[1;34m\u001b[0m\n\u001b[1;32m----> 1\u001b[1;33m \u001b[0mprint_results\u001b[0m\u001b[1;33m(\u001b[0m\u001b[0mres\u001b[0m\u001b[1;33m,\u001b[0m \u001b[1;34m'../Date/word2vec-gensim/Abstract/Complet/sum/file'\u001b[0m\u001b[1;33m,\u001b[0m \u001b[1;34m'../Rezultate/Fuzzy/word2vec-gensim/Abstract/sum/100-clase/file'\u001b[0m\u001b[1;33m,\u001b[0m \u001b[1;36m169\u001b[0m\u001b[1;33m)\u001b[0m\u001b[1;33m\u001b[0m\u001b[1;33m\u001b[0m\u001b[0m\n\u001b[0m",
      "\u001b[1;32m<ipython-input-26-e70be578297c>\u001b[0m in \u001b[0;36mprint_results\u001b[1;34m(mem, path_in, path_out, nrFiles)\u001b[0m\n\u001b[0;32m      5\u001b[0m             \u001b[0mprint\u001b[0m\u001b[1;33m(\u001b[0m\u001b[0mi\u001b[0m\u001b[1;33m)\u001b[0m\u001b[1;33m\u001b[0m\u001b[1;33m\u001b[0m\u001b[0m\n\u001b[0;32m      6\u001b[0m         \u001b[0mr\u001b[0m \u001b[1;33m=\u001b[0m \u001b[0mopen\u001b[0m\u001b[1;33m(\u001b[0m\u001b[0mpath_in\u001b[0m\u001b[1;33m+\u001b[0m\u001b[0mstr\u001b[0m\u001b[1;33m(\u001b[0m\u001b[0mi\u001b[0m\u001b[1;33m)\u001b[0m\u001b[1;33m+\u001b[0m\u001b[1;34m'.txt'\u001b[0m\u001b[1;33m,\u001b[0m \u001b[1;34m'r'\u001b[0m\u001b[1;33m)\u001b[0m\u001b[1;33m\u001b[0m\u001b[1;33m\u001b[0m\u001b[0m\n\u001b[1;32m----> 7\u001b[1;33m         \u001b[0mw\u001b[0m \u001b[1;33m=\u001b[0m \u001b[0mopen\u001b[0m\u001b[1;33m(\u001b[0m\u001b[0mpath_out\u001b[0m\u001b[1;33m+\u001b[0m\u001b[0mstr\u001b[0m\u001b[1;33m(\u001b[0m\u001b[0mi\u001b[0m\u001b[1;33m)\u001b[0m\u001b[1;33m+\u001b[0m\u001b[1;34m'.txt'\u001b[0m\u001b[1;33m,\u001b[0m \u001b[1;34m'w'\u001b[0m\u001b[1;33m)\u001b[0m\u001b[1;33m\u001b[0m\u001b[1;33m\u001b[0m\u001b[0m\n\u001b[0m\u001b[0;32m      8\u001b[0m \u001b[1;33m\u001b[0m\u001b[0m\n\u001b[0;32m      9\u001b[0m         \u001b[1;32mfor\u001b[0m \u001b[0mline\u001b[0m \u001b[1;32min\u001b[0m \u001b[0mr\u001b[0m\u001b[1;33m:\u001b[0m\u001b[1;33m\u001b[0m\u001b[1;33m\u001b[0m\u001b[0m\n",
      "\u001b[1;31mFileNotFoundError\u001b[0m: [Errno 2] No such file or directory: '../Rezultate/Fuzzy/word2vec-gensim/Abstract/sum/100-clase/file0.txt'"
     ]
    }
   ],
   "source": [
    "print_results(res, '../Date/word2vec-gensim/Abstract/Complet/sum/file', '../Rezultate/Fuzzy/word2vec-gensim/Abstract/sum/100-clase/file', 169)"
   ]
  },
  {
   "cell_type": "code",
   "execution_count": null,
   "metadata": {},
   "outputs": [],
   "source": []
  }
 ],
 "metadata": {
  "kernelspec": {
   "display_name": "Python 3",
   "language": "python",
   "name": "python3"
  },
  "language_info": {
   "codemirror_mode": {
    "name": "ipython",
    "version": 3
   },
   "file_extension": ".py",
   "mimetype": "text/x-python",
   "name": "python",
   "nbconvert_exporter": "python",
   "pygments_lexer": "ipython3",
   "version": "3.7.3"
  }
 },
 "nbformat": 4,
 "nbformat_minor": 2
}
