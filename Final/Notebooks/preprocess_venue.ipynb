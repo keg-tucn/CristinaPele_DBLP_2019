{
 "cells": [
  {
   "cell_type": "markdown",
   "metadata": {},
   "source": [
    "# PREPROCESARE VENUE\n",
    "- Extrage venues in litere mici\n",
    "- Elimina punctuatia \n",
    "- Elimina stopwords\n",
    "- Elimina cuvintele care nu sunt in engleza\n",
    "- Elimina cuvintele care reprezinta zone geografice\n",
    "- Elimina articolele pentru care venues sunt goale\n"
   ]
  },
  {
   "cell_type": "code",
   "execution_count": 1,
   "metadata": {},
   "outputs": [],
   "source": [
    "import json # pentru fisier"
   ]
  },
  {
   "cell_type": "code",
   "execution_count": 2,
   "metadata": {},
   "outputs": [
    {
     "name": "stderr",
     "output_type": "stream",
     "text": [
      "[nltk_data] Downloading package wordnet to\n",
      "[nltk_data]     C:\\Users\\User04\\AppData\\Roaming\\nltk_data...\n",
      "[nltk_data]   Package wordnet is already up-to-date!\n"
     ]
    },
    {
     "data": {
      "text/plain": [
       "True"
      ]
     },
     "execution_count": 2,
     "metadata": {},
     "output_type": "execute_result"
    }
   ],
   "source": [
    "import nltk\n",
    "nltk.download('wordnet')"
   ]
  },
  {
   "cell_type": "code",
   "execution_count": 3,
   "metadata": {},
   "outputs": [],
   "source": [
    "import sys\n",
    "sys.path.append('../Library')\n",
    "\n",
    "from json_file_preprocessing import *\n",
    "from text_preprocessing import *\n",
    "from helpers import *"
   ]
  },
  {
   "cell_type": "code",
   "execution_count": 4,
   "metadata": {},
   "outputs": [],
   "source": [
    "for i in range (0,196):\n",
    "    fisier_citire = '../Date/Initiale/Complet/file'+str(i)+'.txt'\n",
    "    fisier_scriere = '../DATE/Initiale/Axu/file'+str(i)+'.txt'\n",
    "    \n",
    "    r = open(fisier_citire,'r')\n",
    "    w = open(fisier_scriere,'w')\n",
    "    \n",
    "    for linie in r:\n",
    "        articol_curent = json.loads(linie)\n",
    "        venue = articol_curent['venue']\n",
    "        # lower + punctuatie\n",
    "        venue = elimina_punctuatia_propozitie(venue)\n",
    "        # stop_words\n",
    "        venue = elimina_stopwords_propozitie(venue)\n",
    "        # non-eng\n",
    "        venue = elimina_non_eng_propozitie(venue)\n",
    "        # locatii\n",
    "        venue = elimina_denumiri_geografice(venue)\n",
    "        if venue == []:\n",
    "            continue\n",
    "        articol_curent['venue'] = venue\n",
    "        w.write(json.dumps(articol_curent))\n",
    "        w.write('\\n')\n",
    "        \n",
    "    r.close()\n",
    "    w.close()"
   ]
  },
  {
   "cell_type": "code",
   "execution_count": 13,
   "metadata": {},
   "outputs": [],
   "source": [
    "def get_nr_articole(path, nr_files):\n",
    "    nr_art = 0\n",
    "    for i in range (0,nr_files):\n",
    "        fisier_citire = path+str(i)+'.txt'\n",
    "        r = open(fisier_citire,'r')\n",
    "        for linie in r:\n",
    "            nr_art += 1\n",
    "        r.close()\n",
    "    return nr_art"
   ]
  },
  {
   "cell_type": "code",
   "execution_count": 18,
   "metadata": {},
   "outputs": [
    {
     "name": "stdout",
     "output_type": "stream",
     "text": [
      "1690000\n"
     ]
    }
   ],
   "source": [
    "print(get_nr_articole('../Date/Initiale/Complet/file',169))"
   ]
  },
  {
   "cell_type": "code",
   "execution_count": null,
   "metadata": {},
   "outputs": [],
   "source": []
  }
 ],
 "metadata": {
  "kernelspec": {
   "display_name": "Python 3",
   "language": "python",
   "name": "python3"
  },
  "language_info": {
   "codemirror_mode": {
    "name": "ipython",
    "version": 3
   },
   "file_extension": ".py",
   "mimetype": "text/x-python",
   "name": "python",
   "nbconvert_exporter": "python",
   "pygments_lexer": "ipython3",
   "version": "3.7.3"
  }
 },
 "nbformat": 4,
 "nbformat_minor": 2
}
