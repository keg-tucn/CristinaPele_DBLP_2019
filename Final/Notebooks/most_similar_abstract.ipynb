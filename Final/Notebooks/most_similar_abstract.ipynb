{
 "cells": [
  {
   "cell_type": "code",
   "execution_count": 1,
   "metadata": {},
   "outputs": [],
   "source": [
    "import json"
   ]
  },
  {
   "cell_type": "code",
   "execution_count": 2,
   "metadata": {},
   "outputs": [],
   "source": [
    "import sys\n",
    "sys.path.append('../library')\n",
    "\n",
    "from helpers import *"
   ]
  },
  {
   "cell_type": "code",
   "execution_count": 64,
   "metadata": {},
   "outputs": [],
   "source": [
    "###\n",
    "### Concatenteaza o lista de string.\n",
    "### param list_: lista de string.\n",
    "### return string-ul rezultat dupa concatenare.\n",
    "###\n",
    "def get_key_from_lists(list_):\n",
    "    key = \"\"\n",
    "    for elem in list_:\n",
    "        key += elem + ' '\n",
    "    return key[0:len(key)-1]\n",
    "\n",
    "###\n",
    "### Calculeaza distanta euclidiana dintre un vector si o lista de vectori si returneaza o lista cu cei mai aporpiati nr.\n",
    "### param X: dictionar {cheie:vector}. -> vectorul\n",
    "### param X_dict: dictionar {chei:vectori} -> vectorii.\n",
    "### param nr: numarul de vecini cei mai apropiati pe care ii va returna.\n",
    "### return distante: dictionar {chei:vectori}.\n",
    "### \n",
    "def calculeaza_distante_p(X, X_dict, nr):\n",
    "    distante = {}\n",
    "    for elem in X_dict:\n",
    "        distante[elem] = distance.euclidean(X, X_dict[elem])        \n",
    "    distante = sort_dict_value(distante)\n",
    "    return distante[0:nr]\n",
    "\n",
    "def get_fos_name(fos):\n",
    "    list_fos = []\n",
    "    for elem in fos:\n",
    "        list_fos.append(elem['name'])\n",
    "    return list_fos\n",
    "\n",
    "###\n",
    "### Parcurge toate fisierele si creeaza un dictionar {id:[list_of_fos]}.\n",
    "### file_path: calea spre fisiere.\n",
    "### return dict_: dictionarul.\n",
    "###\n",
    "def get_dict_foses(file_path):\n",
    "    dict_ = {}\n",
    "    \n",
    "    for i in range(0,1):\n",
    "        file = file_path + str(i) + '.txt'\n",
    "        r = open(file,'r')\n",
    "        \n",
    "        for linie in r:\n",
    "            articol_crt = json.loads(linie)\n",
    "            id_ = articol_crt['id']\n",
    "            fos = articol_crt['fos']\n",
    "            dict_[id_] = get_fos_name(fos)\n",
    "        r.close()\n",
    "        \n",
    "    return dict_\n",
    "\n",
    "\n",
    "\n",
    "###\n",
    "### Parcurge toate elementele unui dictionar de tipul {abstract:[encoding]}\n",
    "### param dict_1: dictionarul.\n",
    "### param vecini: numarul de vecini cautati.\n",
    "### return dict_2: dictionar ce contine vecini nr de vecini [abstract:[abstract]] \n",
    "### \n",
    "def get_dict_similar(dict_1, vecini):\n",
    "    dict_2 = {}\n",
    "    k = 0\n",
    "    j = 0\n",
    "    for key in dict_1:\n",
    "        if j % 1000 == 0:\n",
    "            print(j)\n",
    "        j+=1\n",
    "        new_X_dict = elimina_elem_dupa_cheie(dict_1, key)\n",
    "        distante = calculeaza_distante_p(dict_1[key],new_X_dict, vecini) \n",
    "        list_ = []\n",
    "        for elem in distante:\n",
    "            list_.append(elem[0])\n",
    "\n",
    "        dict_2[key] = list_\n",
    "        \n",
    "    return dict_2\n",
    "    "
   ]
  },
  {
   "cell_type": "code",
   "execution_count": 44,
   "metadata": {},
   "outputs": [],
   "source": [
    "def compute_union(d1, d2):\n",
    "    union = []\n",
    "    union += d1\n",
    "    union += d2\n",
    "    union = remove_duplicates(union)\n",
    "    return len(union)\n",
    "\n",
    "def jaccard(dict_id_fos, dict_id_vecini):   \n",
    "    procent_total = 0\n",
    "    k = 0\n",
    "    valids = 0\n",
    "    i=1\n",
    "    for elem in dict_id_fos:\n",
    "        i+=1\n",
    "        l2 = []\n",
    "        l1 = dict_id_fos[elem] # toate fos pt venue curent\n",
    "        \n",
    "        try:\n",
    "            for fos in dict_id_vecini[elem]: # caut fos de la vecini\n",
    "                l2 += dict_id_fos[fos]\n",
    "        except KeyError:\n",
    "            continue\n",
    "        l2 = remove_duplicates(l2)\n",
    "        valids += 1\n",
    "        \n",
    "        # Gasesc fos din venue curent care se gasesc si la vecini\n",
    "        l_comun = elemente_comune_lista(l1,l2)\n",
    "        \n",
    "        # jacard pentru A = fos care se gasesc si la vecini, B = fos pentru venue curent\n",
    "        proc = len(l_comun)/len(l1)\n",
    "       \n",
    "        procent_total += proc        \n",
    "    \n",
    "    procent_total /= valids\n",
    "    \n",
    "    return procent_total\n"
   ]
  },
  {
   "cell_type": "code",
   "execution_count": 60,
   "metadata": {},
   "outputs": [],
   "source": [
    "def get_model_vectors(file, field = \"\"):\n",
    "    X_dict = {}\n",
    "    if field == \"\":\n",
    "        field = \"abstract\"\n",
    "    r = open(file+'0.txt','r')\n",
    "    for line in r:\n",
    "        art_crt = json.loads(line)\n",
    "        X_dict[art_crt['id']] = art_crt[field]\n",
    "    r.close()\n",
    "    return X_dict"
   ]
  },
  {
   "cell_type": "code",
   "execution_count": 16,
   "metadata": {},
   "outputs": [
    {
     "name": "stdout",
     "output_type": "stream",
     "text": [
      "10000\n"
     ]
    }
   ],
   "source": [
    "dict_abstract_fos = get_dict_foses('../Date/Initiale/Subset/file')\n",
    "print(len(dict_abstract_fos))"
   ]
  },
  {
   "cell_type": "markdown",
   "metadata": {},
   "source": [
    "## Word2vec gensim avg"
   ]
  },
  {
   "cell_type": "code",
   "execution_count": 20,
   "metadata": {},
   "outputs": [
    {
     "name": "stdout",
     "output_type": "stream",
     "text": [
      "10000\n"
     ]
    }
   ],
   "source": [
    "X_dict = get_model_vectors('../Date/word2vec-gensim/Abstract/Subset/avg/file')\n",
    "print(len(X_dict))"
   ]
  },
  {
   "cell_type": "code",
   "execution_count": null,
   "metadata": {},
   "outputs": [],
   "source": [
    "# dict cu {id:[similar_id]}\n",
    "abstr = get_dict_similar(X_dict,20)\n",
    "print(len(abstr))"
   ]
  },
  {
   "cell_type": "code",
   "execution_count": 31,
   "metadata": {},
   "outputs": [
    {
     "name": "stdout",
     "output_type": "stream",
     "text": [
      "i 10001\n",
      "0.6098367954268024\n"
     ]
    }
   ],
   "source": [
    "j = jaccard(dict_abstract_fos,abstr)\n",
    "print(j) # 20"
   ]
  },
  {
   "cell_type": "code",
   "execution_count": 36,
   "metadata": {},
   "outputs": [],
   "source": [
    "for elem in abstr:\n",
    "    abstr[elem] = abstr[elem][0:15]"
   ]
  },
  {
   "cell_type": "code",
   "execution_count": 37,
   "metadata": {},
   "outputs": [
    {
     "name": "stdout",
     "output_type": "stream",
     "text": [
      "i 10001\n",
      "0.5801419000444047\n"
     ]
    }
   ],
   "source": [
    "j = jaccard(dict_abstract_fos,abstr)\n",
    "print(j) # 15"
   ]
  },
  {
   "cell_type": "code",
   "execution_count": 38,
   "metadata": {},
   "outputs": [],
   "source": [
    "for elem in abstr:\n",
    "    abstr[elem] = abstr[elem][0:10]"
   ]
  },
  {
   "cell_type": "code",
   "execution_count": 39,
   "metadata": {},
   "outputs": [
    {
     "name": "stdout",
     "output_type": "stream",
     "text": [
      "i 10001\n",
      "0.5381475660450666\n"
     ]
    }
   ],
   "source": [
    "j = jaccard(dict_abstract_fos,abstr)\n",
    "print(j) # 10"
   ]
  },
  {
   "cell_type": "code",
   "execution_count": 40,
   "metadata": {},
   "outputs": [],
   "source": [
    "for elem in abstr:\n",
    "    abstr[elem] = abstr[elem][0:5]"
   ]
  },
  {
   "cell_type": "code",
   "execution_count": 41,
   "metadata": {},
   "outputs": [
    {
     "name": "stdout",
     "output_type": "stream",
     "text": [
      "i 10001\n",
      "0.4622594560994581\n"
     ]
    }
   ],
   "source": [
    "j = jaccard(dict_abstract_fos,abstr)\n",
    "print(j) # 5"
   ]
  },
  {
   "cell_type": "markdown",
   "metadata": {},
   "source": [
    "## Word2vec gensim sum"
   ]
  },
  {
   "cell_type": "code",
   "execution_count": 42,
   "metadata": {},
   "outputs": [],
   "source": [
    "X_dict = get_model_vectors('../Date/word2vec-gensim/Abstract/Subset/sum/file')"
   ]
  },
  {
   "cell_type": "code",
   "execution_count": 43,
   "metadata": {},
   "outputs": [
    {
     "name": "stdout",
     "output_type": "stream",
     "text": [
      "0\n",
      "1000\n",
      "2000\n",
      "3000\n",
      "4000\n",
      "5000\n",
      "6000\n",
      "7000\n",
      "8000\n",
      "9000\n",
      "10000\n"
     ]
    }
   ],
   "source": [
    "# dict cu {id:[similar_id]}\n",
    "abstr = get_dict_similar(X_dict,20)\n",
    "print(len(abstr))"
   ]
  },
  {
   "cell_type": "code",
   "execution_count": 45,
   "metadata": {},
   "outputs": [
    {
     "name": "stdout",
     "output_type": "stream",
     "text": [
      "0.5827623967699009 20\n",
      "0.5553515861915909 15\n",
      "0.5148918126318156 10\n",
      "0.4434783974359014 5\n"
     ]
    }
   ],
   "source": [
    "# 20\n",
    "j = jaccard(dict_abstract_fos,abstr)\n",
    "print(j,'20')\n",
    "\n",
    "# 15\n",
    "for elem in abstr:\n",
    "    abstr[elem] = abstr[elem][0:15]\n",
    "j = jaccard(dict_abstract_fos,abstr)\n",
    "print(j,'15') \n",
    "\n",
    "#10\n",
    "for elem in abstr:\n",
    "    abstr[elem] = abstr[elem][0:10]\n",
    "j = jaccard(dict_abstract_fos,abstr)\n",
    "print(j,'10') \n",
    "\n",
    "# 5\n",
    "for elem in abstr:\n",
    "    abstr[elem] = abstr[elem][0:5]\n",
    "j = jaccard(dict_abstract_fos,abstr)\n",
    "print(j,'5') "
   ]
  },
  {
   "cell_type": "markdown",
   "metadata": {},
   "source": [
    "## Word2vec pretrained avg"
   ]
  },
  {
   "cell_type": "code",
   "execution_count": 47,
   "metadata": {},
   "outputs": [
    {
     "name": "stdout",
     "output_type": "stream",
     "text": [
      "0\n",
      "1000\n",
      "2000\n",
      "3000\n",
      "4000\n",
      "5000\n",
      "6000\n",
      "7000\n",
      "8000\n",
      "9000\n",
      "10000\n"
     ]
    }
   ],
   "source": [
    "X_dict = get_model_vectors('../Date/word2vec-pretrained/Abstract/Subset/avg/file')\n",
    "\n",
    "# dict cu {id:[similar_id]}\n",
    "abstr = get_dict_similar(X_dict,20)\n",
    "print(len(abstr))"
   ]
  },
  {
   "cell_type": "code",
   "execution_count": 48,
   "metadata": {},
   "outputs": [
    {
     "name": "stdout",
     "output_type": "stream",
     "text": [
      "0.5527322649572669 20\n",
      "0.522492796092797 15\n",
      "0.47968737234987285 10\n",
      "0.4082762942613008 5\n"
     ]
    }
   ],
   "source": [
    "# 20\n",
    "j = jaccard(dict_abstract_fos,abstr)\n",
    "print(j,'20')\n",
    "\n",
    "# 15\n",
    "for elem in abstr:\n",
    "    abstr[elem] = abstr[elem][0:15]\n",
    "j = jaccard(dict_abstract_fos,abstr)\n",
    "print(j,'15') \n",
    "\n",
    "#10\n",
    "for elem in abstr:\n",
    "    abstr[elem] = abstr[elem][0:10]\n",
    "j = jaccard(dict_abstract_fos,abstr)\n",
    "print(j,'10') \n",
    "\n",
    "# 5\n",
    "for elem in abstr:\n",
    "    abstr[elem] = abstr[elem][0:5]\n",
    "j = jaccard(dict_abstract_fos,abstr)\n",
    "print(j,'5') "
   ]
  },
  {
   "cell_type": "markdown",
   "metadata": {},
   "source": [
    "## Word2vec pretrained sum"
   ]
  },
  {
   "cell_type": "code",
   "execution_count": 50,
   "metadata": {},
   "outputs": [
    {
     "name": "stdout",
     "output_type": "stream",
     "text": [
      "0\n",
      "1000\n",
      "2000\n",
      "3000\n",
      "4000\n",
      "5000\n",
      "6000\n",
      "7000\n",
      "8000\n",
      "9000\n",
      "10000\n"
     ]
    }
   ],
   "source": [
    "X_dict = get_model_vectors('../Date/word2vec-pretrained/Abstract/Subset/sum/file')\n",
    "\n",
    "# dict cu {id:[similar_id]}\n",
    "abstr = get_dict_similar(X_dict,20)\n",
    "print(len(abstr))"
   ]
  },
  {
   "cell_type": "code",
   "execution_count": 51,
   "metadata": {},
   "outputs": [
    {
     "name": "stdout",
     "output_type": "stream",
     "text": [
      "0.5035644533244549 20\n",
      "0.4758358055833061 15\n",
      "0.4364454742479769 10\n",
      "0.37092325008325516 5\n"
     ]
    }
   ],
   "source": [
    "# 20\n",
    "j = jaccard(dict_abstract_fos,abstr)\n",
    "print(j,'20')\n",
    "\n",
    "# 15\n",
    "for elem in abstr:\n",
    "    abstr[elem] = abstr[elem][0:15]\n",
    "j = jaccard(dict_abstract_fos,abstr)\n",
    "print(j,'15') \n",
    "\n",
    "#10\n",
    "for elem in abstr:\n",
    "    abstr[elem] = abstr[elem][0:10]\n",
    "j = jaccard(dict_abstract_fos,abstr)\n",
    "print(j,'10') \n",
    "\n",
    "# 5\n",
    "for elem in abstr:\n",
    "    abstr[elem] = abstr[elem][0:5]\n",
    "j = jaccard(dict_abstract_fos,abstr)\n",
    "print(j,'5') "
   ]
  },
  {
   "cell_type": "markdown",
   "metadata": {},
   "source": [
    "## Doc2vec"
   ]
  },
  {
   "cell_type": "code",
   "execution_count": 65,
   "metadata": {},
   "outputs": [
    {
     "name": "stdout",
     "output_type": "stream",
     "text": [
      "0\n",
      "1000\n",
      "2000\n",
      "3000\n",
      "4000\n",
      "5000\n",
      "6000\n",
      "7000\n",
      "8000\n",
      "9000\n"
     ]
    }
   ],
   "source": [
    "X_dict = get_model_vectors('../Date/doc2vec/Abstract/Subset/file', \"d2w\")\n",
    "\n",
    "# dict cu {venue:[similar_venues]}\n",
    "abstr = get_dict_similar(X_dict,20)"
   ]
  },
  {
   "cell_type": "code",
   "execution_count": 66,
   "metadata": {},
   "outputs": [
    {
     "name": "stdout",
     "output_type": "stream",
     "text": [
      "0.4386582295482338 20\n",
      "0.4138537973138025 15\n",
      "0.3797151975802031 10\n",
      "0.3205288289488304 5\n"
     ]
    }
   ],
   "source": [
    "# 20\n",
    "j = jaccard(dict_abstract_fos,abstr)\n",
    "print(j,'20')\n",
    "\n",
    "# 15\n",
    "for elem in abstr:\n",
    "    abstr[elem] = abstr[elem][0:15]\n",
    "j = jaccard(dict_abstract_fos,abstr)\n",
    "print(j,'15') \n",
    "\n",
    "#10\n",
    "for elem in abstr:\n",
    "    abstr[elem] = abstr[elem][0:10]\n",
    "j = jaccard(dict_abstract_fos,abstr)\n",
    "print(j,'10') \n",
    "\n",
    "# 5\n",
    "for elem in abstr:\n",
    "    abstr[elem] = abstr[elem][0:5]\n",
    "j = jaccard(dict_abstract_fos,abstr)\n",
    "print(j,'5') "
   ]
  },
  {
   "cell_type": "code",
   "execution_count": null,
   "metadata": {},
   "outputs": [],
   "source": [
    "venue_neig = {'a':['ana','mere'], 'b':['mere','si','pere']}\n",
    "venue_fos = {'a':['1','2'],'ana':['2','3'], 'are':['4','1'], 'mere':['5', '6'], 'b':['2','5','1'], 'si':['6'],'pere':['6','2','3']}"
   ]
  },
  {
   "cell_type": "code",
   "execution_count": null,
   "metadata": {},
   "outputs": [],
   "source": [
    "a : [1 2] [2 3 5] i: [2] u: [1 2 3 4 5] r: 1/5\n",
    "b : [1 2 5 6 ] [2 3 5 6] i: [2 5 6] u: [1 2 3 5 6] r: 3/5"
   ]
  },
  {
   "cell_type": "code",
   "execution_count": null,
   "metadata": {},
   "outputs": [],
   "source": []
  }
 ],
 "metadata": {
  "kernelspec": {
   "display_name": "Python 3",
   "language": "python",
   "name": "python3"
  },
  "language_info": {
   "codemirror_mode": {
    "name": "ipython",
    "version": 3
   },
   "file_extension": ".py",
   "mimetype": "text/x-python",
   "name": "python",
   "nbconvert_exporter": "python",
   "pygments_lexer": "ipython3",
   "version": "3.7.3"
  }
 },
 "nbformat": 4,
 "nbformat_minor": 2
}
