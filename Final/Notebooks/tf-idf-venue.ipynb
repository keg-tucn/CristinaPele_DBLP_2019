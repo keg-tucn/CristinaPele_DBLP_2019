{
 "cells": [
  {
   "cell_type": "markdown",
   "metadata": {},
   "source": [
    "Calcul df -> document frequency\n",
    "\n",
    "Calcul idf -> invers document frequency (NR_articole/df)\n",
    "\n",
    "Calcul tf-idf -> tf pe document x idf"
   ]
  },
  {
   "cell_type": "code",
   "execution_count": 1,
   "metadata": {},
   "outputs": [],
   "source": [
    "import json\n",
    "import sys\n",
    "sys.path.append('../library')\n",
    "from helpers import *\n",
    "import math"
   ]
  },
  {
   "cell_type": "code",
   "execution_count": 2,
   "metadata": {},
   "outputs": [],
   "source": [
    "###\n",
    "### Calculeaza df pe abstract dintr-un set de fisiere json.\n",
    "### param path: calea spre fisiere.\n",
    "### param nr_fisere: numarul de fisiere pentru care se face calculul.\n",
    "### return df, nr_articole: dictionarul df si numarul de articole gasite\n",
    "###\n",
    "def calcul_df(path, nr_fisiere):\n",
    "    df = {}\n",
    "    nr_articole = 0\n",
    "    for i in range(0, nr_fisiere):\n",
    "        r = open(path+str(i)+'.txt','r')\n",
    "        for line in r:\n",
    "            nr_articole += 1\n",
    "            art_crt = json.loads(line)\n",
    "            venue = art_crt['venue']\n",
    "\n",
    "            venue = remove_duplicates(venue)\n",
    "            for elem in venue:                \n",
    "                try:\n",
    "                    df[elem] += 1\n",
    "                except KeyError:\n",
    "                    df[elem] = 1\n",
    "        r.close()\n",
    "    return df, nr_articole\n",
    "  \n",
    "    \n",
    "### \n",
    "### Calculeaza idf dintr-un dictionar df.\n",
    "### param df: dictionarul df.\n",
    "### param N: numarul de articole.\n",
    "### return idf: dictionarul idf.\n",
    "###\n",
    "def calcul_idf(df,N):\n",
    "    idf = {}\n",
    "    for elem in df:\n",
    "        idf[elem] = math.log(N / df[elem])\n",
    "    return idf\n",
    "\n",
    "###\n",
    "### Calculeaza tf pentru un document.\n",
    "### param list_: lista cuvintelor din document.\n",
    "### return tf: dictionar tf.\n",
    "###\n",
    "def calcul_tf(list_):\n",
    "    tf = {}\n",
    "    \n",
    "    for elem in list_:\n",
    "        try:\n",
    "            tf[elem] += 1\n",
    "        except KeyError:\n",
    "            tf[elem] = 1\n",
    "            \n",
    "    le = len(list_)\n",
    "    for elem in tf:\n",
    "        tf[elem] /= le\n",
    "        if tf[elem] < 0 or tf[elem] > 1:\n",
    "            print('tf')\n",
    "    return tf\n",
    "\n",
    "def calcul_tf_idf(path_in, path_out, nr_fisiere):\n",
    "    for i in range(0, nr_fisiere):\n",
    "        r = open(path_in+str(i)+'.txt','r')\n",
    "        w = open(path_out+str(i)+'.txt','w')\n",
    "        \n",
    "        for line in r:\n",
    "            tf_idf = {}\n",
    "            art_crt = json.loads(line)\n",
    "            venue = art_crt['venue']\n",
    "            tf = calcul_tf(venue)\n",
    "            for elem in tf:\n",
    "                tf_idf[elem]= tf[elem] * idf[elem]\n",
    "            art_crt['venue'] = tf_idf\n",
    "            w.write(json.dumps(art_crt))\n",
    "            w.write('\\n')\n",
    "        r.close()\n",
    "        w.close()"
   ]
  },
  {
   "cell_type": "code",
   "execution_count": 3,
   "metadata": {},
   "outputs": [
    {
     "name": "stdout",
     "output_type": "stream",
     "text": [
      "1690000\n",
      "1416\n"
     ]
    }
   ],
   "source": [
    "df,N = calcul_df('../Date/Initiale/Complet/file',169)\n",
    "print(N)\n",
    "print(len(df))"
   ]
  },
  {
   "cell_type": "code",
   "execution_count": 4,
   "metadata": {},
   "outputs": [
    {
     "name": "stdout",
     "output_type": "stream",
     "text": [
      "1416\n"
     ]
    }
   ],
   "source": [
    "idf = calcul_idf(df, N)\n",
    "print(len(idf))"
   ]
  },
  {
   "cell_type": "code",
   "execution_count": 5,
   "metadata": {},
   "outputs": [],
   "source": [
    "calcul_tf_idf('../Date/TF-IDF/Axu/file', '../Date/TF-IDF/Complet/file', 169)"
   ]
  },
  {
   "cell_type": "markdown",
   "metadata": {},
   "source": [
    "## Subset"
   ]
  },
  {
   "cell_type": "code",
   "execution_count": 3,
   "metadata": {},
   "outputs": [
    {
     "name": "stdout",
     "output_type": "stream",
     "text": [
      "500000\n",
      "1242\n"
     ]
    }
   ],
   "source": [
    "df,N = calcul_df('../Date/Initiale/Subset/file',50)\n",
    "print(N)\n",
    "print(len(df))"
   ]
  },
  {
   "cell_type": "code",
   "execution_count": 4,
   "metadata": {},
   "outputs": [
    {
     "name": "stdout",
     "output_type": "stream",
     "text": [
      "1242\n"
     ]
    }
   ],
   "source": [
    "idf = calcul_idf(df, N)\n",
    "print(len(idf))"
   ]
  },
  {
   "cell_type": "code",
   "execution_count": 6,
   "metadata": {},
   "outputs": [],
   "source": [
    "calcul_tf_idf('../Date/Initiale/Subset/file', '../Date/TF-IDF/Axu/file', 50)"
   ]
  },
  {
   "cell_type": "code",
   "execution_count": null,
   "metadata": {},
   "outputs": [],
   "source": []
  }
 ],
 "metadata": {
  "kernelspec": {
   "display_name": "Python 3",
   "language": "python",
   "name": "python3"
  },
  "language_info": {
   "codemirror_mode": {
    "name": "ipython",
    "version": 3
   },
   "file_extension": ".py",
   "mimetype": "text/x-python",
   "name": "python",
   "nbconvert_exporter": "python",
   "pygments_lexer": "ipython3",
   "version": "3.7.3"
  }
 },
 "nbformat": 4,
 "nbformat_minor": 2
}
