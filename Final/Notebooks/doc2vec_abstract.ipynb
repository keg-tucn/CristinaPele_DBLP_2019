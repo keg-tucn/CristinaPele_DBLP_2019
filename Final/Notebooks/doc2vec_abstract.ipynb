{
 "cells": [
  {
   "cell_type": "code",
   "execution_count": 4,
   "metadata": {},
   "outputs": [],
   "source": [
    "import json"
   ]
  },
  {
   "cell_type": "code",
   "execution_count": 2,
   "metadata": {},
   "outputs": [],
   "source": [
    "import sys\n",
    "sys.path.insert(0, '../library')\n",
    "\n",
    "from json_file_preprocessing import *\n",
    "from text_preprocessing import *\n",
    "from helpers import *\n",
    "from doc2vec import *"
   ]
  },
  {
   "cell_type": "code",
   "execution_count": 3,
   "metadata": {},
   "outputs": [
    {
     "name": "stderr",
     "output_type": "stream",
     "text": [
      "c:\\users\\user04\\anaconda3\\envs\\dblp2\\lib\\site-packages\\smart_open\\smart_open_lib.py:398: UserWarning: This function is deprecated, use smart_open.open instead. See the migration notes for details: https://github.com/RaRe-Technologies/smart_open/blob/master/README.rst#migrating-to-the-new-open-function\n",
      "  'See the migration notes for details: %s' % _MIGRATION_NOTES_URL\n"
     ]
    }
   ],
   "source": [
    "model_d2v = load_doc2vec_model('../Models/enwiki_dbow/doc2vec.bin')"
   ]
  },
  {
   "cell_type": "code",
   "execution_count": 6,
   "metadata": {
    "scrolled": true
   },
   "outputs": [],
   "source": [
    "for i in range(0,169):\n",
    "    fisier_citire = '../Date/Initiale/Complet/file' + str(i) + '.txt'   \n",
    "    fisier_scriere = '../Date/doc2vec/Abstract/Complet/file' + str(i) + '.txt'\n",
    "    r = open(fisier_citire,'r')\n",
    "    w = open (fisier_scriere,'w')\n",
    "    \n",
    "    for linie in r:\n",
    "        linie_curenta = json.loads(linie)\n",
    "        linie_curenta['d2w'] = aplica_model_d2v(model_d2v, linie_curenta['abstract'], epoci=500)\n",
    "        w.write(json.dumps(linie_curenta))\n",
    "        w.write('\\n')\n",
    "    r.close()\n",
    "    w.close()"
   ]
  },
  {
   "cell_type": "markdown",
   "metadata": {},
   "source": [
    "## Subset"
   ]
  },
  {
   "cell_type": "code",
   "execution_count": 5,
   "metadata": {},
   "outputs": [],
   "source": [
    "for i in range(0,50):\n",
    "    fisier_citire = '../Date/Initiale/Subset/file' + str(i) + '.txt'   \n",
    "    fisier_scriere = '../Date/doc2vec/Abstract/Subset/file' + str(i) + '.txt'\n",
    "    r = open(fisier_citire,'r')\n",
    "    w = open (fisier_scriere,'w')\n",
    "    \n",
    "    for linie in r:\n",
    "        linie_curenta = json.loads(linie)\n",
    "        linie_curenta['d2w'] = aplica_model_d2v(model_d2v, linie_curenta['abstract'], epoci=500)\n",
    "        w.write(json.dumps(linie_curenta))\n",
    "        w.write('\\n')\n",
    "    r.close()\n",
    "    w.close()"
   ]
  },
  {
   "cell_type": "code",
   "execution_count": null,
   "metadata": {},
   "outputs": [],
   "source": []
  }
 ],
 "metadata": {
  "kernelspec": {
   "display_name": "Python 3",
   "language": "python",
   "name": "python3"
  },
  "language_info": {
   "codemirror_mode": {
    "name": "ipython",
    "version": 3
   },
   "file_extension": ".py",
   "mimetype": "text/x-python",
   "name": "python",
   "nbconvert_exporter": "python",
   "pygments_lexer": "ipython3",
   "version": "3.7.3"
  }
 },
 "nbformat": 4,
 "nbformat_minor": 2
}
