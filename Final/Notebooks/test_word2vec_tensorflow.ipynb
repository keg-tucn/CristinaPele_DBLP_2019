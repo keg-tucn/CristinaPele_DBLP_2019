{
 "cells": [
  {
   "cell_type": "code",
   "execution_count": 2,
   "metadata": {},
   "outputs": [],
   "source": [
    "import json\n",
    "import sys\n",
    "sys.path.insert(0, '../Library')\n",
    "\n",
    "from helpers import *"
   ]
  },
  {
   "cell_type": "code",
   "execution_count": 3,
   "metadata": {},
   "outputs": [],
   "source": [
    "###\n",
    "### Calculeaza\n",
    "###\n",
    "def test_model(model_path, words_path):\n",
    "    r = open(words_path, 'r')\n",
    "    words_list = json.load(r)\n",
    "    r.close()\n",
    "    r = open(model_path, 'r')\n",
    "    model = json.load(r)\n",
    "    r.close()\n",
    "    \n",
    "    dist = 0\n",
    "    for words in words_list:\n",
    "        dist += calculeaza_distanta(model[words[0]], model[words[1]])\n",
    "    return dist"
   ]
  },
  {
   "cell_type": "code",
   "execution_count": 4,
   "metadata": {},
   "outputs": [
    {
     "name": "stdout",
     "output_type": "stream",
     "text": [
      "451.21530882928954\n",
      "447.01597496754374\n",
      "444.0176305339878\n",
      "438.97285544316713\n",
      "434.68914733611786\n",
      "440.8879781620118\n",
      "442.70429909813413\n",
      "436.05415771351534\n"
     ]
    }
   ],
   "source": [
    "print(test_model('../Models/modele_tensorflow/venue/tf_1_001/model_tf_venue_1_001.txt','../Date/Auxiliare/validate_venue.txt'))\n",
    "print(test_model('../Models/modele_tensorflow/venue/tf_1_002/model_tf_venue_1_002.txt','../Date/Auxiliare/validate_venue.txt'))\n",
    "print(test_model('../Models/modele_tensorflow/venue/tf_2_001/model_tf_venue_2_001.txt','../Date/Auxiliare/validate_venue.txt'))\n",
    "\n",
    "print(test_model('../Models/modele_tensorflow/venue/tf_2_01/model_tf_venue_2_01.txt','../Date/Auxiliare/validate_venue.txt'))\n",
    "print(test_model('../Models/modele_tensorflow/venue/tf_2_002/model_tf_venue_2_002.txt','../Date/Auxiliare/validate_venue.txt'))\n",
    "print(test_model('../Models/modele_tensorflow/venue/tf_2_02/model_tf_venue_2_02.txt','../Date/Auxiliare/validate_venue.txt'))\n",
    "print(test_model('../Models/modele_tensorflow/venue/tf_3_002/model_tf_venue_3_002.txt','../Date/Auxiliare/validate_venue.txt'))\n",
    "print(test_model('../Models/modele_tensorflow/venue/tf_4_002/model_tf_venue_4_002.txt','../Date/Auxiliare/validate_venue.txt'))"
   ]
  },
  {
   "cell_type": "code",
   "execution_count": null,
   "metadata": {},
   "outputs": [],
   "source": []
  }
 ],
 "metadata": {
  "kernelspec": {
   "display_name": "Python 3",
   "language": "python",
   "name": "python3"
  },
  "language_info": {
   "codemirror_mode": {
    "name": "ipython",
    "version": 3
   },
   "file_extension": ".py",
   "mimetype": "text/x-python",
   "name": "python",
   "nbconvert_exporter": "python",
   "pygments_lexer": "ipython3",
   "version": "3.7.3"
  }
 },
 "nbformat": 4,
 "nbformat_minor": 2
}
