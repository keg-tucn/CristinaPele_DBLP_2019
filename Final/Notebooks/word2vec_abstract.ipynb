{
 "cells": [
  {
   "cell_type": "code",
   "execution_count": 1,
   "metadata": {},
   "outputs": [],
   "source": [
    "import json"
   ]
  },
  {
   "cell_type": "code",
   "execution_count": 6,
   "metadata": {},
   "outputs": [],
   "source": [
    "import sys\n",
    "sys.path.append('../Library')\n",
    "\n",
    "from json_file_preprocessing import *\n",
    "from text_preprocessing import *\n",
    "from helpers import *\n",
    "from word2vec import *"
   ]
  },
  {
   "cell_type": "code",
   "execution_count": 3,
   "metadata": {},
   "outputs": [],
   "source": [
    "###\n",
    "### Aplica word2vec pe o lista de documente.\n",
    "### param doc_list: lista de documente (lista de liste).\n",
    "### param model: modelul de word2vec antrenat.\n",
    "### param size: dimensiunea de output a vectorului w2v.\n",
    "### param func: functia ce se aplica pe vectorii unui document {sum, avg}, default sum.\n",
    "### return X: lista de np.array(size), fiecare element reprezentand vectorului unui document.\n",
    "###\n",
    "def apply_model_w2v_prop(prop, model, size, func=\"sum\", print_=False):\n",
    "    X = []\n",
    "    not_found_words = 0\n",
    "    total_words = 0\n",
    "    i = 0\n",
    "    \n",
    "    X_prop = np.zeros(size)\n",
    "    words = 0\n",
    "    \n",
    "    for word in prop:\n",
    "        try:\n",
    "            embed = model[word]\n",
    "            words+=1\n",
    "            for i in range(0,size):\n",
    "                X_prop[i] += embed[i]\n",
    "        except:\n",
    "            if print_ == True:\n",
    "                print(word)\n",
    "            not_found_words += 1\n",
    "\n",
    "    if words > 0:\n",
    "        X_aux = []\n",
    "        if func == 'avg':\n",
    "            for i in range(0,size):\n",
    "                X_prop[i] /= words\n",
    "        for elem in X_prop:\n",
    "            X_aux.append(elem)\n",
    "        total_words += words\n",
    "        X = X_aux\n",
    "    return X, not_found_words"
   ]
  },
  {
   "cell_type": "code",
   "execution_count": 4,
   "metadata": {},
   "outputs": [],
   "source": [
    "def apply_(path_in, path_out, nr_files, model, size, func):\n",
    "    not_found = 0\n",
    "    for i in range(0, nr_files):\n",
    "        r = open(path_in+str(i)+'.txt','r')\n",
    "        w = open(path_out+str(i)+'.txt','w')\n",
    "        \n",
    "        for line in r:\n",
    "            art_crt = json.loads(line)\n",
    "            abstr = art_crt['abstract']\n",
    "            art_crt['abstract'], nf = apply_model_w2v_prop(abstr, model, 50, func)\n",
    "            not_found += nf\n",
    "            w.write(json.dumps(art_crt))\n",
    "            w.write('\\n')\n",
    "        w.close()\n",
    "        r.close() \n",
    "    print(\"not found \", not_found)"
   ]
  },
  {
   "cell_type": "markdown",
   "metadata": {},
   "source": [
    "# Complet"
   ]
  },
  {
   "cell_type": "markdown",
   "metadata": {},
   "source": [
    "## Pretrained"
   ]
  },
  {
   "cell_type": "code",
   "execution_count": null,
   "metadata": {},
   "outputs": [],
   "source": [
    "model_w2v = load_glove_50()"
   ]
  },
  {
   "cell_type": "code",
   "execution_count": 10,
   "metadata": {},
   "outputs": [
    {
     "name": "stdout",
     "output_type": "stream",
     "text": [
      "avg\n",
      "not found  118745\n"
     ]
    }
   ],
   "source": [
    "print('sum')\n",
    "apply_('../Date/Initiale/Complet/file', '../Date/word2vec-pretrained/Abstract/Complet/sum/file', 169, model_w2v, 50, 'sum')\n",
    "print('avg')\n",
    "apply_('../Date/Initiale/Complet/file', '../Date/word2vec-pretrained/Abstract/Complet/avg/file', 169, model_w2v, 50, 'avg')"
   ]
  },
  {
   "cell_type": "markdown",
   "metadata": {},
   "source": [
    "## Trained Gensim"
   ]
  },
  {
   "cell_type": "code",
   "execution_count": 7,
   "metadata": {},
   "outputs": [
    {
     "name": "stderr",
     "output_type": "stream",
     "text": [
      "c:\\users\\user04\\anaconda3\\envs\\dblp2\\lib\\site-packages\\smart_open\\smart_open_lib.py:398: UserWarning: This function is deprecated, use smart_open.open instead. See the migration notes for details: https://github.com/RaRe-Technologies/smart_open/blob/master/README.rst#migrating-to-the-new-open-function\n",
      "  'See the migration notes for details: %s' % _MIGRATION_NOTES_URL\n"
     ]
    }
   ],
   "source": [
    "model_w2v_g = load_model_w2v('../Models/modele_gensim/abstr_w2_i20.model')"
   ]
  },
  {
   "cell_type": "code",
   "execution_count": 11,
   "metadata": {},
   "outputs": [
    {
     "name": "stdout",
     "output_type": "stream",
     "text": [
      "sum\n"
     ]
    },
    {
     "name": "stderr",
     "output_type": "stream",
     "text": [
      "c:\\users\\user04\\anaconda3\\envs\\dblp2\\lib\\site-packages\\ipykernel_launcher.py:20: DeprecationWarning: Call to deprecated `__getitem__` (Method will be removed in 4.0.0, use self.wv.__getitem__() instead).\n"
     ]
    },
    {
     "name": "stdout",
     "output_type": "stream",
     "text": [
      "not found  0\n",
      "avg\n",
      "not found  0\n"
     ]
    }
   ],
   "source": [
    "print('sum')\n",
    "apply_('../Date/Initiale/Complet/file', '../Date/word2vec-gensim/Abstract/Complet/sum/file', 169, model_w2v_g, 50, 'sum')\n",
    "print('avg')\n",
    "apply_('../Date/Initiale/Complet/file', '../Date/word2vec-gensim/Abstract/Complet/avg/file', 169, model_w2v_g, 50, 'avg')"
   ]
  },
  {
   "cell_type": "markdown",
   "metadata": {},
   "source": [
    "# Set redus"
   ]
  },
  {
   "cell_type": "markdown",
   "metadata": {},
   "source": [
    "## Pretrained"
   ]
  },
  {
   "cell_type": "code",
   "execution_count": null,
   "metadata": {},
   "outputs": [],
   "source": [
    "print('sum')\n",
    "apply_('../Date/Initiale/Subset/file', '../Date/word2vec-pretrained/Abstract/Subset/sum/file', 50, model_w2v, 50, 'sum')\n",
    "print('avg')\n",
    "apply_('../Date/Initiale/Subset/file', '../Date/word2vec-pretrained/Abstract/Subset/avg/file', 50, model_w2v, 50, 'avg')"
   ]
  },
  {
   "cell_type": "markdown",
   "metadata": {},
   "source": [
    "## Trained Gensim"
   ]
  },
  {
   "cell_type": "code",
   "execution_count": 13,
   "metadata": {},
   "outputs": [
    {
     "name": "stdout",
     "output_type": "stream",
     "text": [
      "sum\n"
     ]
    },
    {
     "name": "stderr",
     "output_type": "stream",
     "text": [
      "c:\\users\\user04\\anaconda3\\envs\\dblp2\\lib\\site-packages\\ipykernel_launcher.py:20: DeprecationWarning: Call to deprecated `__getitem__` (Method will be removed in 4.0.0, use self.wv.__getitem__() instead).\n"
     ]
    },
    {
     "name": "stdout",
     "output_type": "stream",
     "text": [
      "not found  0\n",
      "avg\n",
      "not found  0\n"
     ]
    }
   ],
   "source": [
    "print('sum')\n",
    "apply_('../Date/Initiale/Subset/file', '../Date/word2vec-gensim/Abstract/Subset/sum/file', 50, model_w2v_g, 50, 'sum')\n",
    "print('avg')\n",
    "apply_('../Date/Initiale/Subset/file', '../Date/word2vec-gensim/Abstract/Subset/avg/file', 50, model_w2v_g, 50, 'avg')"
   ]
  },
  {
   "cell_type": "code",
   "execution_count": null,
   "metadata": {},
   "outputs": [],
   "source": []
  }
 ],
 "metadata": {
  "kernelspec": {
   "display_name": "Python 3",
   "language": "python",
   "name": "python3"
  },
  "language_info": {
   "codemirror_mode": {
    "name": "ipython",
    "version": 3
   },
   "file_extension": ".py",
   "mimetype": "text/x-python",
   "name": "python",
   "nbconvert_exporter": "python",
   "pygments_lexer": "ipython3",
   "version": "3.7.3"
  }
 },
 "nbformat": 4,
 "nbformat_minor": 2
}
