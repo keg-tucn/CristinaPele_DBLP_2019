{
 "cells": [
  {
   "cell_type": "code",
   "execution_count": 1,
   "metadata": {},
   "outputs": [],
   "source": [
    "import json"
   ]
  },
  {
   "cell_type": "code",
   "execution_count": 2,
   "metadata": {},
   "outputs": [],
   "source": [
    "import sys\n",
    "sys.path.append('../Library')\n",
    "\n",
    "from json_file_preprocessing import *\n",
    "from text_preprocessing import *\n",
    "from helpers import *\n",
    "from doc2vec import *"
   ]
  },
  {
   "cell_type": "code",
   "execution_count": 4,
   "metadata": {},
   "outputs": [],
   "source": [
    "model_d2v = load_doc2vec_model('../Models/enwiki_dbow/doc2vec.bin')"
   ]
  },
  {
   "cell_type": "code",
   "execution_count": 16,
   "metadata": {},
   "outputs": [],
   "source": [
    "###\n",
    "### Creeaza lista de venues unice din toate fisierele.\n",
    "### param cale: calea spre fisiere.\n",
    "### return lista_venue: o lista cu toate venue(unice).\n",
    "###\n",
    "def get_lista_venue(cale):\n",
    "    lista_venue = []\n",
    "    for i in range(0,169):\n",
    "        file = cale +str(i)+'.txt'\n",
    "        r = open(file,'r')\n",
    "\n",
    "        for linie in r:\n",
    "            articol_curent = json.loads(linie)\n",
    "            venue = articol_curent['venue']\n",
    "            if venue not in lista_venue:\n",
    "                lista_venue.append(articol_curent['venue'])\n",
    "        r.close()\n",
    "    return lista_venue\n",
    "        \n",
    "###\n",
    "### Calculeaza doc2vec pentru toate elementele dintr-o lista.\n",
    "### param lista_: lista de elemente (string).\n",
    "### param model: modelul de doc2vec ce va fi aplicat.\n",
    "### param pas: pasul la care sa se faca log (daca e 0, nu se face log).\n",
    "###\n",
    "def calculeaza_doc2vec_documente(lista_,model, fisier,pas=0):\n",
    "    rezultate_d2v = {}\n",
    "    i = 0\n",
    "    for elem in lista_:\n",
    "        if pas!= 0 and i %pas == 0:\n",
    "            print(i)\n",
    "        i += 1\n",
    "        string_elem = \"\"\n",
    "        for e in elem:\n",
    "            string_elem += str(e) + \" \"\n",
    "        rezultate_d2v[string_elem[0:len(string_elem)-1]] = aplica_model_d2v(model_d2v, elem, epoci=500)\n",
    "    w = open(fisier,'w')\n",
    "    w.write(json.dumps(rezultate_d2v))\n",
    "    w.close()\n",
    "    return rezultate_d2v"
   ]
  },
  {
   "cell_type": "markdown",
   "metadata": {},
   "source": [
    "## Complet"
   ]
  },
  {
   "cell_type": "code",
   "execution_count": 8,
   "metadata": {},
   "outputs": [
    {
     "name": "stdout",
     "output_type": "stream",
     "text": [
      "3583\n"
     ]
    }
   ],
   "source": [
    "lista_venue = get_lista_venue('../Date/Initiale/Complet/file')\n",
    "print(len(lista_venue))\n"
   ]
  },
  {
   "cell_type": "code",
   "execution_count": 17,
   "metadata": {},
   "outputs": [
    {
     "name": "stdout",
     "output_type": "stream",
     "text": [
      "0\n",
      "100\n",
      "200\n",
      "300\n",
      "400\n",
      "500\n",
      "600\n",
      "700\n",
      "800\n",
      "900\n",
      "1000\n",
      "1100\n",
      "1200\n",
      "1300\n",
      "1400\n",
      "1500\n",
      "1600\n",
      "1700\n",
      "1800\n",
      "1900\n",
      "2000\n",
      "2100\n",
      "2200\n",
      "2300\n",
      "2400\n",
      "2500\n",
      "2600\n",
      "2700\n",
      "2800\n",
      "2900\n",
      "3000\n",
      "3100\n",
      "3200\n",
      "3300\n",
      "3400\n",
      "3500\n"
     ]
    }
   ],
   "source": [
    "rezultate_d2v = calculeaza_doc2vec_documente(lista_venue,model_d2v,'../Date/doc2vec/Venue/d2v_venue_complete.txt',100)"
   ]
  },
  {
   "cell_type": "code",
   "execution_count": 18,
   "metadata": {},
   "outputs": [
    {
     "name": "stdout",
     "output_type": "stream",
     "text": [
      "3583\n",
      "visual science technology\n",
      "300\n"
     ]
    }
   ],
   "source": [
    "print(len(rezultate_d2v))\n",
    "for elem in rezultate_d2v:\n",
    "    print(elem)\n",
    "    print(len(rezultate_d2v[elem]))\n",
    "    break"
   ]
  },
  {
   "cell_type": "code",
   "execution_count": null,
   "metadata": {},
   "outputs": [],
   "source": []
  }
 ],
 "metadata": {
  "kernelspec": {
   "display_name": "Python 3",
   "language": "python",
   "name": "python3"
  },
  "language_info": {
   "codemirror_mode": {
    "name": "ipython",
    "version": 3
   },
   "file_extension": ".py",
   "mimetype": "text/x-python",
   "name": "python",
   "nbconvert_exporter": "python",
   "pygments_lexer": "ipython3",
   "version": "3.7.3"
  }
 },
 "nbformat": 4,
 "nbformat_minor": 2
}
