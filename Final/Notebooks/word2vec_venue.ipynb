{
 "cells": [
  {
   "cell_type": "code",
   "execution_count": 1,
   "metadata": {},
   "outputs": [],
   "source": [
    "import json"
   ]
  },
  {
   "cell_type": "code",
   "execution_count": 2,
   "metadata": {},
   "outputs": [],
   "source": [
    "import sys\n",
    "sys.path.append('../Library')\n",
    "\n",
    "from json_file_preprocessing import *\n",
    "from text_preprocessing import *\n",
    "from helpers import *\n",
    "from word2vec import *"
   ]
  },
  {
   "cell_type": "code",
   "execution_count": 3,
   "metadata": {},
   "outputs": [],
   "source": [
    "def get_lista_venue(cale):\n",
    "    lista_venue = []\n",
    "    for i in range(0,169):\n",
    "        file = cale +str(i)+'.txt'\n",
    "        r = open(file,'r')\n",
    "\n",
    "        for linie in r:\n",
    "            articol_curent = json.loads(linie)\n",
    "            venue = articol_curent['venue']\n",
    "            lista_venue.append(articol_curent['venue'])\n",
    "        r.close()\n",
    "        lista_venue = remove_duplicates_lol(lista_venue)\n",
    "    return lista_venue\n",
    "\n",
    "\n",
    "def apply_(doc_list, model, size, func, wf):\n",
    "    X = apply_model_w2v(doc_list, model, size, func)\n",
    "    w = open(wf,'w')\n",
    "    w.write(json.dumps(X))\n",
    "    w.close()\n",
    "    print(len(X))"
   ]
  },
  {
   "cell_type": "markdown",
   "metadata": {},
   "source": [
    "## Complet"
   ]
  },
  {
   "cell_type": "code",
   "execution_count": 6,
   "metadata": {},
   "outputs": [
    {
     "name": "stdout",
     "output_type": "stream",
     "text": [
      "3583\n"
     ]
    }
   ],
   "source": [
    "doc_list = get_lista_venue('../Date/Initiale/Complet/file')\n",
    "print(len(doc_list))"
   ]
  },
  {
   "cell_type": "markdown",
   "metadata": {},
   "source": [
    "### Pretrained"
   ]
  },
  {
   "cell_type": "code",
   "execution_count": 19,
   "metadata": {},
   "outputs": [
    {
     "name": "stderr",
     "output_type": "stream",
     "text": [
      "c:\\users\\user04\\anaconda3\\envs\\dblp2\\lib\\site-packages\\smart_open\\smart_open_lib.py:398: UserWarning: This function is deprecated, use smart_open.open instead. See the migration notes for details: https://github.com/RaRe-Technologies/smart_open/blob/master/README.rst#migrating-to-the-new-open-function\n",
      "  'See the migration notes for details: %s' % _MIGRATION_NOTES_URL\n"
     ]
    }
   ],
   "source": [
    "model_w2v = load_glove_50()"
   ]
  },
  {
   "cell_type": "code",
   "execution_count": 20,
   "metadata": {},
   "outputs": [
    {
     "name": "stdout",
     "output_type": "stream",
     "text": [
      "sum\n",
      "0\n",
      "Not found 3 words from 12696 words.\n",
      "3582\n",
      "avg\n",
      "0\n",
      "Not found 3 words from 12696 words.\n",
      "3582\n"
     ]
    }
   ],
   "source": [
    "print('sum')\n",
    "apply_(doc_list, model_w2v, 50, 'sum', '../Date/word2vec-pretrained/Venue/w2v_sum_50_c.txt')\n",
    "print('avg')\n",
    "apply_(doc_list, model_w2v, 50, 'avg', '../Date/word2vec-pretrained/Venue/w2v_avg_50_c.txt')"
   ]
  },
  {
   "cell_type": "markdown",
   "metadata": {},
   "source": [
    "### Gensim"
   ]
  },
  {
   "cell_type": "code",
   "execution_count": 21,
   "metadata": {},
   "outputs": [],
   "source": [
    "model_w2v_g = load_model_w2v(\"../Models/modele_gensim/venue_w1_i20.model\")"
   ]
  },
  {
   "cell_type": "code",
   "execution_count": 22,
   "metadata": {},
   "outputs": [
    {
     "name": "stdout",
     "output_type": "stream",
     "text": [
      "sum\n",
      "0\n",
      "Not found 0 words from 12699 words.\n",
      "3583\n",
      "avg\n",
      "0\n",
      "Not found 0 words from 12699 words.\n",
      "3583\n"
     ]
    }
   ],
   "source": [
    "print('sum')\n",
    "apply_(doc_list, model_w2v_g, 50, 'sum', '../Date/word2vec-gensim/Venue/w2v_gensim_sum_50_c.txt')\n",
    "print('avg')\n",
    "apply_(doc_list, model_w2v_g, 50, 'avg', '../Date/word2vec-gensim/Venue/w2v_gensim_avg_50_c.txt')"
   ]
  },
  {
   "cell_type": "markdown",
   "metadata": {},
   "source": [
    "### Tensorflow"
   ]
  },
  {
   "cell_type": "code",
   "execution_count": 4,
   "metadata": {},
   "outputs": [],
   "source": [
    "r = open('../Models/modele_tensorflow/venue/tf_4_002/model_tf_venue_4_002.txt', 'r')\n",
    "model_w2v_tf = json.load(r)\n",
    "r.close()"
   ]
  },
  {
   "cell_type": "code",
   "execution_count": 7,
   "metadata": {},
   "outputs": [
    {
     "name": "stdout",
     "output_type": "stream",
     "text": [
      "sum\n",
      "0\n",
      "Not found 0 words from 12699 words.\n",
      "3583\n",
      "avg\n",
      "0\n",
      "Not found 0 words from 12699 words.\n",
      "3583\n"
     ]
    }
   ],
   "source": [
    "print('sum')\n",
    "apply_(doc_list, model_w2v_tf, 50, 'sum', '../Date/word2vec-tensorflow/Venue/w2v_tf_sum_50_c.txt')\n",
    "print('avg')\n",
    "apply_(doc_list, model_w2v_tf, 50, 'avg', '../Date/word2vec-tensorflow/Venue/w2v_tf_avg_50_c.txt')"
   ]
  },
  {
   "cell_type": "code",
   "execution_count": 8,
   "metadata": {},
   "outputs": [
    {
     "name": "stdout",
     "output_type": "stream",
     "text": [
      "['abdominal', 'imaging']\n"
     ]
    }
   ],
   "source": [
    "print(doc_list[0])"
   ]
  },
  {
   "cell_type": "code",
   "execution_count": 15,
   "metadata": {},
   "outputs": [
    {
     "name": "stdout",
     "output_type": "stream",
     "text": [
      "ok\n"
     ]
    }
   ],
   "source": [
    "if ['bellman', 'prize', 'mathematical', 'biosciences'] in doc_list:\n",
    "    print('ok')"
   ]
  },
  {
   "cell_type": "code",
   "execution_count": null,
   "metadata": {},
   "outputs": [],
   "source": []
  }
 ],
 "metadata": {
  "kernelspec": {
   "display_name": "Python 3",
   "language": "python",
   "name": "python3"
  },
  "language_info": {
   "codemirror_mode": {
    "name": "ipython",
    "version": 3
   },
   "file_extension": ".py",
   "mimetype": "text/x-python",
   "name": "python",
   "nbconvert_exporter": "python",
   "pygments_lexer": "ipython3",
   "version": "3.7.3"
  }
 },
 "nbformat": 4,
 "nbformat_minor": 2
}
