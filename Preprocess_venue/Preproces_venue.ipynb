{
 "cells": [
  {
   "cell_type": "markdown",
   "metadata": {},
   "source": [
    "# Preprocesare venue pentru doc2vec\n",
    "- Preprocesare fisere 0, 1, 2 si 3\n",
    "    - eliminare cuvinte cu lungimea mai mica sau egala cu 3\n",
    "    - eliminare stop_words\n",
    "    - creare lista de cuvinte \n",
    "- Elimina venue duplicate\n",
    "- Elimina semnele de punctuatie\n",
    "- Elimina cuvintele lipsite de informatie si cele care nu sunt in engleza\n",
    "- Scrie lista rezultata in fisier\n"
   ]
  },
  {
   "cell_type": "code",
   "execution_count": 1,
   "metadata": {},
   "outputs": [],
   "source": [
    "import json # folosit pentru citire fisiere\n",
    "import gensim # folosit pentru eliminare stop_words\n",
    "import itertools # folosit la sortare"
   ]
  },
  {
   "cell_type": "markdown",
   "metadata": {},
   "source": [
    "## Preprocesare fisiere"
   ]
  },
  {
   "cell_type": "code",
   "execution_count": 4,
   "metadata": {},
   "outputs": [],
   "source": [
    "def preprocess_files(inFile, outFile):\n",
    "    r = open(inFile,'r',encoding='utf-8')\n",
    "    w = open(outFile,'w',encoding='utf-8')\n",
    "\n",
    "    for line in r:\n",
    "        crt_paper = json.loads(line)\n",
    "        venue = crt_paper['venue']\n",
    "        # Transformarea in litere mici\n",
    "        venue = venue.lower()\n",
    "        words_list = venue.split(' ')\n",
    "        new_list = []\n",
    "\n",
    "        for word in words_list: \n",
    "            # Verifica lungimea cuvantului (>= 3)\n",
    "            if len(word) >= 3:\n",
    "                # Eliminarea stop_words\n",
    "                if word not in gensim.parsing.preprocessing.STOPWORDS: \n",
    "                        new_list.append(word)\n",
    "\n",
    "        crt_paper['venue'] = new_list\n",
    "        w.write(json.dumps(crt_paper))\n",
    "        w.write('\\n')\n",
    "\n",
    "    w.close()\n",
    "    r.close()"
   ]
  },
  {
   "cell_type": "code",
   "execution_count": 6,
   "metadata": {},
   "outputs": [
    {
     "name": "stdout",
     "output_type": "stream",
     "text": [
      "file0 done\n",
      "1 running...\n",
      "file1 done\n",
      "2 running...\n",
      "file2 done\n",
      "3 running...\n",
      "all files done\n"
     ]
    }
   ],
   "source": [
    "preprocess_files('../dblp-ref/dblp-final-0.json', 'dblp-venue-0.json')\n",
    "print(\"file0 done\\n1 running...\")\n",
    "preprocess_files('../dblp-ref/dblp-final-1.json', 'dblp-venue-1.json')\n",
    "print(\"file1 done\\n2 running...\")\n",
    "preprocess_files('../dblp-ref/dblp-final-2.json', 'dblp-venue-2.json')\n",
    "print(\"file2 done\\n3 running...\")\n",
    "preprocess_files('../dblp-ref/dblp-final-3.json', 'dblp-venue-3.json')\n",
    "print(\"all files done\")"
   ]
  },
  {
   "cell_type": "markdown",
   "metadata": {},
   "source": [
    "## Pune toate venue intr-o lista"
   ]
  },
  {
   "cell_type": "code",
   "execution_count": 53,
   "metadata": {},
   "outputs": [],
   "source": [
    "def read_from_file(file, venues):\n",
    "    r = open(file,'r',encoding='utf-8')\n",
    "    for line in r:\n",
    "        crt_paper = json.loads(line)\n",
    "        venue = crt_paper['venue']\n",
    "        venues.append(venue)\n",
    "    r.close()\n",
    "    \n",
    "# Lista de liste cu venue\n",
    "svenues = []\n",
    "read_from_file('dblp-venue-0.json',svenues)\n",
    "read_from_file('dblp-venue-1.json',svenues)\n",
    "read_from_file('dblp-venue-2.json',svenues)\n",
    "read_from_file('dblp-venue-3.json',svenues)"
   ]
  },
  {
   "cell_type": "code",
   "execution_count": 51,
   "metadata": {
    "scrolled": true
   },
   "outputs": [
    {
     "name": "stdout",
     "output_type": "stream",
     "text": [
      "1975474\n"
     ]
    }
   ],
   "source": [
    "print(len(svenues))"
   ]
  },
  {
   "cell_type": "markdown",
   "metadata": {},
   "source": [
    "## Sorteaza lista de venue"
   ]
  },
  {
   "cell_type": "code",
   "execution_count": 90,
   "metadata": {},
   "outputs": [
    {
     "name": "stdout",
     "output_type": "stream",
     "text": [
      "4239\n"
     ]
    }
   ],
   "source": [
    "def sort_and_remove_duplicates_venues(venues):\n",
    "    venues.sort()\n",
    "    sort_venues = list(venues for venues,_ in itertools.groupby(venues))\n",
    "    return sort_venues\n",
    "\n",
    "venues = sort_and_remove_duplicates_venues(svenues)\n",
    "print(len(venues))"
   ]
  },
  {
   "cell_type": "markdown",
   "metadata": {},
   "source": [
    "## Elimina empty venues"
   ]
  },
  {
   "cell_type": "code",
   "execution_count": 91,
   "metadata": {},
   "outputs": [
    {
     "name": "stdout",
     "output_type": "stream",
     "text": [
      "4238\n"
     ]
    }
   ],
   "source": [
    "def remove_empty_venues(venues):\n",
    "    i = 0\n",
    "    for venue in venues:\n",
    "        if venue == [] :\n",
    "            i += 1\n",
    "        else:\n",
    "            break\n",
    "    return venues[i:]\n",
    "        \n",
    "venues = remove_empty_venues(venues)\n",
    "print(len(venues))"
   ]
  },
  {
   "cell_type": "markdown",
   "metadata": {},
   "source": [
    "## Elimina cuvinte comune si care nu sunt in engleza"
   ]
  },
  {
   "cell_type": "code",
   "execution_count": 92,
   "metadata": {},
   "outputs": [
    {
     "name": "stdout",
     "output_type": "stream",
     "text": [
      "len common words list = 408\n"
     ]
    }
   ],
   "source": [
    "# Citeste lista de cuvinte din fisier\n",
    "with open('common_words_list.json','r') as f:    \n",
    "    common_words = json.loads(f.read())\n",
    "print(\"len common words list = \" + str(len(common_words)))"
   ]
  },
  {
   "cell_type": "code",
   "execution_count": 93,
   "metadata": {},
   "outputs": [
    {
     "name": "stdout",
     "output_type": "stream",
     "text": [
      "15583\n",
      "3827\n",
      "4238\n"
     ]
    }
   ],
   "source": [
    "def remove_common_words(venues):\n",
    "    new_venues = []\n",
    "    com_w = 0\n",
    "    all_w = 0\n",
    "    for word_list in venues:\n",
    "        aux_list = []\n",
    "        for word in word_list:\n",
    "            all_w += 1\n",
    "            if word in common_words:\n",
    "                com_w += 1\n",
    "                continue\n",
    "            if (not word[len(word)-1].isalpha()):\n",
    "                aux_list.append(word[0:len(word)-1])\n",
    "            else:\n",
    "                if (not word[0].isalpha()):\n",
    "                    aux_list.append(word[1:])\n",
    "                else:\n",
    "                    aux_list.append(word)\n",
    "        new_venues.append(aux_list)\n",
    "    print(all_w)\n",
    "    print(com_w)\n",
    "    return new_venues\n",
    "\n",
    "venues2 = remove_common_words(venues)\n",
    "print(len(venues))"
   ]
  },
  {
   "cell_type": "markdown",
   "metadata": {},
   "source": [
    "## Creare liste unice din listele ramase"
   ]
  },
  {
   "cell_type": "code",
   "execution_count": 94,
   "metadata": {},
   "outputs": [],
   "source": [
    "venues2.sort()\n",
    "venues_unique = list(venues2 for venues2,_ in itertools.groupby(venues2))"
   ]
  },
  {
   "cell_type": "code",
   "execution_count": 95,
   "metadata": {},
   "outputs": [],
   "source": [
    "venues = remove_empty_venues(venues_unique)\n",
    "with open('venues_unique.json','w') as f:\n",
    "    f.write(json.dumps(venues))"
   ]
  }
 ],
 "metadata": {
  "kernelspec": {
   "display_name": "Python 3",
   "language": "python",
   "name": "python3"
  },
  "language_info": {
   "codemirror_mode": {
    "name": "ipython",
    "version": 3
   },
   "file_extension": ".py",
   "mimetype": "text/x-python",
   "name": "python",
   "nbconvert_exporter": "python",
   "pygments_lexer": "ipython3",
   "version": "3.7.1"
  }
 },
 "nbformat": 4,
 "nbformat_minor": 2
}
