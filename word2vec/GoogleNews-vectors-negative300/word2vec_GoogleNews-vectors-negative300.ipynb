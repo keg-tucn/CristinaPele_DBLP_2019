{
 "cells": [
  {
   "cell_type": "code",
   "execution_count": 1,
   "metadata": {},
   "outputs": [],
   "source": [
    "import gensim\n",
    "import json\n",
    "\n",
    "from sklearn.cluster import DBSCAN\n",
    "from pyclustering.cluster.dbscan import dbscan\n",
    "import numpy as np\n",
    "\n",
    "import os\n",
    "import tensorflow as tf\n",
    "from tensorflow.contrib.tensorboard.plugins import projector\n",
    "\n",
    "import pandas as pd\n",
    "from sklearn.decomposition import PCA as sklearnPCA"
   ]
  },
  {
   "cell_type": "markdown",
   "metadata": {},
   "source": [
    "## Read the sentences list"
   ]
  },
  {
   "cell_type": "code",
   "execution_count": 2,
   "metadata": {},
   "outputs": [
    {
     "name": "stdout",
     "output_type": "stream",
     "text": [
      "3473\n"
     ]
    }
   ],
   "source": [
    "sentences = []\n",
    "with open('../sentences.txt', 'r') as f:\n",
    "    sentences = json.loads(f.read())\n",
    "print(len(sentences))"
   ]
  },
  {
   "cell_type": "markdown",
   "metadata": {},
   "source": [
    "## Load pretrained model"
   ]
  },
  {
   "cell_type": "code",
   "execution_count": 3,
   "metadata": {},
   "outputs": [],
   "source": [
    "# Load Google's pre-trained Word2Vec model.\n",
    "model = gensim.models.KeyedVectors.load_word2vec_format('./model/GoogleNews-vectors-negative300.bin', binary=True)  "
   ]
  },
  {
   "cell_type": "code",
   "execution_count": 8,
   "metadata": {},
   "outputs": [],
   "source": [
    "X = []\n",
    "wrong_words = 0\n",
    "len_lower = 0\n",
    "for sentence in sentences:\n",
    "    word_vector = []\n",
    "    for word in sentence:\n",
    "        try:\n",
    "            word_vector.append(model[word])\n",
    "        except:\n",
    "            wrong_words += 1\n",
    "    leng = len(word_vector)\n",
    "    if (leng > 1):\n",
    "        avg_vect = np.zeros(100)\n",
    "        for elem in word_vector:\n",
    "            for i in range(0,100):\n",
    "                avg_vect[i] += elem[i]\n",
    "        \n",
    "        for i in range(0,100):\n",
    "            avg_vect[i] /= leng   \n",
    "        X.append(avg_vect)    \n",
    "    else:\n",
    "        len_lower += 1"
   ]
  },
  {
   "cell_type": "code",
   "execution_count": 9,
   "metadata": {},
   "outputs": [
    {
     "name": "stdout",
     "output_type": "stream",
     "text": [
      "3040\n",
      "400\n",
      "433\n"
     ]
    }
   ],
   "source": [
    "print(len(X))\n",
    "print(wrong_words)\n",
    "print(len_lower)"
   ]
  },
  {
   "cell_type": "code",
   "execution_count": 10,
   "metadata": {},
   "outputs": [],
   "source": [
    "X = np.array(X)\n",
    "np.save('X1.npy', X) "
   ]
  },
  {
   "cell_type": "markdown",
   "metadata": {},
   "source": [
    "## Apply DBScan"
   ]
  },
  {
   "cell_type": "code",
   "execution_count": 11,
   "metadata": {},
   "outputs": [
    {
     "name": "stdout",
     "output_type": "stream",
     "text": [
      "eps=1.0 min_s=1 nr_clusters=182 nr_-1=0\n",
      "eps=1.0 min_s=2 nr_clusters=10 nr_-1=172\n",
      "eps=1.0 min_s=3 nr_clusters=2 nr_-1=188\n",
      "eps=1.0 min_s=4 nr_clusters=1 nr_-1=204\n",
      "eps=1.0 min_s=5 nr_clusters=1 nr_-1=205\n",
      "eps=1.0 min_s=6 nr_clusters=1 nr_-1=209\n",
      "eps=1.0 min_s=7 nr_clusters=1 nr_-1=221\n",
      "eps=1.0 min_s=8 nr_clusters=1 nr_-1=226\n",
      "eps=1.0 min_s=9 nr_clusters=1 nr_-1=230\n",
      "eps=1.1 min_s=1 nr_clusters=74 nr_-1=0\n",
      "eps=1.1 min_s=2 nr_clusters=5 nr_-1=69\n",
      "eps=1.1 min_s=3 nr_clusters=1 nr_-1=77\n",
      "eps=1.1 min_s=4 nr_clusters=1 nr_-1=79\n",
      "eps=1.1 min_s=5 nr_clusters=1 nr_-1=82\n",
      "eps=1.1 min_s=6 nr_clusters=1 nr_-1=83\n",
      "eps=1.1 min_s=7 nr_clusters=1 nr_-1=85\n",
      "eps=1.1 min_s=8 nr_clusters=1 nr_-1=85\n",
      "eps=1.1 min_s=9 nr_clusters=1 nr_-1=91\n",
      "eps=1.2 min_s=1 nr_clusters=33 nr_-1=0\n",
      "eps=1.2 min_s=2 nr_clusters=2 nr_-1=31\n",
      "eps=1.2 min_s=3 nr_clusters=1 nr_-1=33\n",
      "eps=1.2 min_s=4 nr_clusters=1 nr_-1=33\n",
      "eps=1.2 min_s=5 nr_clusters=1 nr_-1=34\n",
      "eps=1.2 min_s=6 nr_clusters=1 nr_-1=36\n",
      "eps=1.2 min_s=7 nr_clusters=1 nr_-1=36\n",
      "eps=1.2 min_s=8 nr_clusters=1 nr_-1=36\n",
      "eps=1.2 min_s=9 nr_clusters=1 nr_-1=37\n",
      "eps=1.3 min_s=1 nr_clusters=12 nr_-1=0\n",
      "eps=1.3 min_s=2 nr_clusters=1 nr_-1=11\n",
      "eps=1.3 min_s=3 nr_clusters=1 nr_-1=11\n",
      "eps=1.3 min_s=4 nr_clusters=1 nr_-1=11\n",
      "eps=1.3 min_s=5 nr_clusters=1 nr_-1=12\n",
      "eps=1.3 min_s=6 nr_clusters=1 nr_-1=13\n",
      "eps=1.3 min_s=7 nr_clusters=1 nr_-1=14\n",
      "eps=1.3 min_s=8 nr_clusters=1 nr_-1=14\n",
      "eps=1.3 min_s=9 nr_clusters=1 nr_-1=14\n",
      "eps=1.4 min_s=1 nr_clusters=8 nr_-1=0\n",
      "eps=1.4 min_s=2 nr_clusters=1 nr_-1=7\n",
      "eps=1.4 min_s=3 nr_clusters=1 nr_-1=7\n",
      "eps=1.4 min_s=4 nr_clusters=1 nr_-1=7\n",
      "eps=1.4 min_s=5 nr_clusters=1 nr_-1=7\n",
      "eps=1.4 min_s=6 nr_clusters=1 nr_-1=7\n",
      "eps=1.4 min_s=7 nr_clusters=1 nr_-1=7\n",
      "eps=1.4 min_s=8 nr_clusters=1 nr_-1=7\n",
      "eps=1.4 min_s=9 nr_clusters=1 nr_-1=7\n",
      "eps=1.5 min_s=1 nr_clusters=6 nr_-1=0\n",
      "eps=1.5 min_s=2 nr_clusters=2 nr_-1=4\n",
      "eps=1.5 min_s=3 nr_clusters=1 nr_-1=6\n",
      "eps=1.5 min_s=4 nr_clusters=1 nr_-1=6\n",
      "eps=1.5 min_s=5 nr_clusters=1 nr_-1=6\n",
      "eps=1.5 min_s=6 nr_clusters=1 nr_-1=6\n",
      "eps=1.5 min_s=7 nr_clusters=1 nr_-1=6\n",
      "eps=1.5 min_s=8 nr_clusters=1 nr_-1=6\n",
      "eps=1.5 min_s=9 nr_clusters=1 nr_-1=6\n",
      "eps=1.6 min_s=1 nr_clusters=4 nr_-1=0\n",
      "eps=1.6 min_s=2 nr_clusters=2 nr_-1=2\n",
      "eps=1.6 min_s=3 nr_clusters=1 nr_-1=4\n",
      "eps=1.6 min_s=4 nr_clusters=1 nr_-1=4\n",
      "eps=1.6 min_s=5 nr_clusters=1 nr_-1=4\n",
      "eps=1.6 min_s=6 nr_clusters=1 nr_-1=4\n",
      "eps=1.6 min_s=7 nr_clusters=1 nr_-1=4\n",
      "eps=1.6 min_s=8 nr_clusters=1 nr_-1=4\n",
      "eps=1.6 min_s=9 nr_clusters=1 nr_-1=4\n",
      "eps=1.7 min_s=1 nr_clusters=1 nr_-1=0\n",
      "eps=1.7 min_s=2 nr_clusters=1 nr_-1=0\n",
      "eps=1.7 min_s=3 nr_clusters=1 nr_-1=0\n",
      "eps=1.7 min_s=4 nr_clusters=1 nr_-1=0\n",
      "eps=1.7 min_s=5 nr_clusters=1 nr_-1=0\n",
      "eps=1.7 min_s=6 nr_clusters=1 nr_-1=0\n",
      "eps=1.7 min_s=7 nr_clusters=1 nr_-1=0\n",
      "eps=1.7 min_s=8 nr_clusters=1 nr_-1=0\n",
      "eps=1.7 min_s=9 nr_clusters=1 nr_-1=0\n",
      "eps=1.8 min_s=1 nr_clusters=1 nr_-1=0\n",
      "eps=1.8 min_s=2 nr_clusters=1 nr_-1=0\n",
      "eps=1.8 min_s=3 nr_clusters=1 nr_-1=0\n",
      "eps=1.8 min_s=4 nr_clusters=1 nr_-1=0\n",
      "eps=1.8 min_s=5 nr_clusters=1 nr_-1=0\n",
      "eps=1.8 min_s=6 nr_clusters=1 nr_-1=0\n",
      "eps=1.8 min_s=7 nr_clusters=1 nr_-1=0\n",
      "eps=1.8 min_s=8 nr_clusters=1 nr_-1=0\n",
      "eps=1.8 min_s=9 nr_clusters=1 nr_-1=0\n",
      "eps=1.9 min_s=1 nr_clusters=1 nr_-1=0\n",
      "eps=1.9 min_s=2 nr_clusters=1 nr_-1=0\n",
      "eps=1.9 min_s=3 nr_clusters=1 nr_-1=0\n",
      "eps=1.9 min_s=4 nr_clusters=1 nr_-1=0\n",
      "eps=1.9 min_s=5 nr_clusters=1 nr_-1=0\n",
      "eps=1.9 min_s=6 nr_clusters=1 nr_-1=0\n",
      "eps=1.9 min_s=7 nr_clusters=1 nr_-1=0\n",
      "eps=1.9 min_s=8 nr_clusters=1 nr_-1=0\n",
      "eps=1.9 min_s=9 nr_clusters=1 nr_-1=0\n",
      "eps=2.0 min_s=1 nr_clusters=1 nr_-1=0\n",
      "eps=2.0 min_s=2 nr_clusters=1 nr_-1=0\n",
      "eps=2.0 min_s=3 nr_clusters=1 nr_-1=0\n",
      "eps=2.0 min_s=4 nr_clusters=1 nr_-1=0\n",
      "eps=2.0 min_s=5 nr_clusters=1 nr_-1=0\n",
      "eps=2.0 min_s=6 nr_clusters=1 nr_-1=0\n",
      "eps=2.0 min_s=7 nr_clusters=1 nr_-1=0\n",
      "eps=2.0 min_s=8 nr_clusters=1 nr_-1=0\n",
      "eps=2.0 min_s=9 nr_clusters=1 nr_-1=0\n",
      "eps=2.1 min_s=1 nr_clusters=1 nr_-1=0\n",
      "eps=2.1 min_s=2 nr_clusters=1 nr_-1=0\n",
      "eps=2.1 min_s=3 nr_clusters=1 nr_-1=0\n",
      "eps=2.1 min_s=4 nr_clusters=1 nr_-1=0\n",
      "eps=2.1 min_s=5 nr_clusters=1 nr_-1=0\n",
      "eps=2.1 min_s=6 nr_clusters=1 nr_-1=0\n",
      "eps=2.1 min_s=7 nr_clusters=1 nr_-1=0\n",
      "eps=2.1 min_s=8 nr_clusters=1 nr_-1=0\n",
      "eps=2.1 min_s=9 nr_clusters=1 nr_-1=0\n",
      "eps=2.2 min_s=1 nr_clusters=1 nr_-1=0\n",
      "eps=2.2 min_s=2 nr_clusters=1 nr_-1=0\n",
      "eps=2.2 min_s=3 nr_clusters=1 nr_-1=0\n",
      "eps=2.2 min_s=4 nr_clusters=1 nr_-1=0\n",
      "eps=2.2 min_s=5 nr_clusters=1 nr_-1=0\n",
      "eps=2.2 min_s=6 nr_clusters=1 nr_-1=0\n",
      "eps=2.2 min_s=7 nr_clusters=1 nr_-1=0\n",
      "eps=2.2 min_s=8 nr_clusters=1 nr_-1=0\n",
      "eps=2.2 min_s=9 nr_clusters=1 nr_-1=0\n",
      "eps=2.3 min_s=1 nr_clusters=1 nr_-1=0\n",
      "eps=2.3 min_s=2 nr_clusters=1 nr_-1=0\n",
      "eps=2.3 min_s=3 nr_clusters=1 nr_-1=0\n",
      "eps=2.3 min_s=4 nr_clusters=1 nr_-1=0\n",
      "eps=2.3 min_s=5 nr_clusters=1 nr_-1=0\n",
      "eps=2.3 min_s=6 nr_clusters=1 nr_-1=0\n",
      "eps=2.3 min_s=7 nr_clusters=1 nr_-1=0\n",
      "eps=2.3 min_s=8 nr_clusters=1 nr_-1=0\n",
      "eps=2.3 min_s=9 nr_clusters=1 nr_-1=0\n",
      "eps=2.4 min_s=1 nr_clusters=1 nr_-1=0\n",
      "eps=2.4 min_s=2 nr_clusters=1 nr_-1=0\n",
      "eps=2.4 min_s=3 nr_clusters=1 nr_-1=0\n",
      "eps=2.4 min_s=4 nr_clusters=1 nr_-1=0\n",
      "eps=2.4 min_s=5 nr_clusters=1 nr_-1=0\n",
      "eps=2.4 min_s=6 nr_clusters=1 nr_-1=0\n",
      "eps=2.4 min_s=7 nr_clusters=1 nr_-1=0\n",
      "eps=2.4 min_s=8 nr_clusters=1 nr_-1=0\n",
      "eps=2.4 min_s=9 nr_clusters=1 nr_-1=0\n",
      "eps=2.5 min_s=1 nr_clusters=1 nr_-1=0\n",
      "eps=2.5 min_s=2 nr_clusters=1 nr_-1=0\n",
      "eps=2.5 min_s=3 nr_clusters=1 nr_-1=0\n",
      "eps=2.5 min_s=4 nr_clusters=1 nr_-1=0\n",
      "eps=2.5 min_s=5 nr_clusters=1 nr_-1=0\n",
      "eps=2.5 min_s=6 nr_clusters=1 nr_-1=0\n",
      "eps=2.5 min_s=7 nr_clusters=1 nr_-1=0\n",
      "eps=2.5 min_s=8 nr_clusters=1 nr_-1=0\n",
      "eps=2.5 min_s=9 nr_clusters=1 nr_-1=0\n",
      "eps=2.6 min_s=1 nr_clusters=1 nr_-1=0\n",
      "eps=2.6 min_s=2 nr_clusters=1 nr_-1=0\n",
      "eps=2.6 min_s=3 nr_clusters=1 nr_-1=0\n",
      "eps=2.6 min_s=4 nr_clusters=1 nr_-1=0\n",
      "eps=2.6 min_s=5 nr_clusters=1 nr_-1=0\n",
      "eps=2.6 min_s=6 nr_clusters=1 nr_-1=0\n",
      "eps=2.6 min_s=7 nr_clusters=1 nr_-1=0\n",
      "eps=2.6 min_s=8 nr_clusters=1 nr_-1=0\n",
      "eps=2.6 min_s=9 nr_clusters=1 nr_-1=0\n",
      "eps=2.7 min_s=1 nr_clusters=1 nr_-1=0\n",
      "eps=2.7 min_s=2 nr_clusters=1 nr_-1=0\n",
      "eps=2.7 min_s=3 nr_clusters=1 nr_-1=0\n",
      "eps=2.7 min_s=4 nr_clusters=1 nr_-1=0\n",
      "eps=2.7 min_s=5 nr_clusters=1 nr_-1=0\n",
      "eps=2.7 min_s=6 nr_clusters=1 nr_-1=0\n",
      "eps=2.7 min_s=7 nr_clusters=1 nr_-1=0\n",
      "eps=2.7 min_s=8 nr_clusters=1 nr_-1=0\n",
      "eps=2.7 min_s=9 nr_clusters=1 nr_-1=0\n",
      "eps=2.8 min_s=1 nr_clusters=1 nr_-1=0\n",
      "eps=2.8 min_s=2 nr_clusters=1 nr_-1=0\n",
      "eps=2.8 min_s=3 nr_clusters=1 nr_-1=0\n",
      "eps=2.8 min_s=4 nr_clusters=1 nr_-1=0\n",
      "eps=2.8 min_s=5 nr_clusters=1 nr_-1=0\n",
      "eps=2.8 min_s=6 nr_clusters=1 nr_-1=0\n",
      "eps=2.8 min_s=7 nr_clusters=1 nr_-1=0\n",
      "eps=2.8 min_s=8 nr_clusters=1 nr_-1=0\n",
      "eps=2.8 min_s=9 nr_clusters=1 nr_-1=0\n",
      "eps=2.9 min_s=1 nr_clusters=1 nr_-1=0\n",
      "eps=2.9 min_s=2 nr_clusters=1 nr_-1=0\n",
      "eps=2.9 min_s=3 nr_clusters=1 nr_-1=0\n",
      "eps=2.9 min_s=4 nr_clusters=1 nr_-1=0\n",
      "eps=2.9 min_s=5 nr_clusters=1 nr_-1=0\n",
      "eps=2.9 min_s=6 nr_clusters=1 nr_-1=0\n",
      "eps=2.9 min_s=7 nr_clusters=1 nr_-1=0\n",
      "eps=2.9 min_s=8 nr_clusters=1 nr_-1=0\n",
      "eps=2.9 min_s=9 nr_clusters=1 nr_-1=0\n",
      "eps=3.0 min_s=1 nr_clusters=1 nr_-1=0\n",
      "eps=3.0 min_s=2 nr_clusters=1 nr_-1=0\n",
      "eps=3.0 min_s=3 nr_clusters=1 nr_-1=0\n",
      "eps=3.0 min_s=4 nr_clusters=1 nr_-1=0\n",
      "eps=3.0 min_s=5 nr_clusters=1 nr_-1=0\n",
      "eps=3.0 min_s=6 nr_clusters=1 nr_-1=0\n",
      "eps=3.0 min_s=7 nr_clusters=1 nr_-1=0\n"
     ]
    },
    {
     "ename": "KeyboardInterrupt",
     "evalue": "",
     "output_type": "error",
     "traceback": [
      "\u001b[1;31m---------------------------------------------------------------------------\u001b[0m",
      "\u001b[1;31mKeyboardInterrupt\u001b[0m                         Traceback (most recent call last)",
      "\u001b[1;32m<ipython-input-11-c82cfdc6e1e4>\u001b[0m in \u001b[0;36m<module>\u001b[1;34m\u001b[0m\n\u001b[0;32m     13\u001b[0m     \u001b[0mmin_s\u001b[0m \u001b[1;33m=\u001b[0m \u001b[1;36m1\u001b[0m\u001b[1;33m\u001b[0m\u001b[1;33m\u001b[0m\u001b[0m\n\u001b[0;32m     14\u001b[0m     \u001b[1;32mwhile\u001b[0m \u001b[0mmin_s\u001b[0m \u001b[1;33m<\u001b[0m \u001b[1;36m10\u001b[0m\u001b[1;33m:\u001b[0m\u001b[1;33m\u001b[0m\u001b[1;33m\u001b[0m\u001b[0m\n\u001b[1;32m---> 15\u001b[1;33m         \u001b[0mclustering\u001b[0m \u001b[1;33m=\u001b[0m \u001b[0mDBSCAN\u001b[0m\u001b[1;33m(\u001b[0m\u001b[0meps\u001b[0m\u001b[1;33m=\u001b[0m\u001b[0meps\u001b[0m\u001b[1;33m[\u001b[0m\u001b[0mi\u001b[0m\u001b[1;33m]\u001b[0m\u001b[1;33m,\u001b[0m \u001b[0mmin_samples\u001b[0m\u001b[1;33m=\u001b[0m\u001b[0mmin_s\u001b[0m\u001b[1;33m)\u001b[0m\u001b[1;33m.\u001b[0m\u001b[0mfit\u001b[0m\u001b[1;33m(\u001b[0m\u001b[0mX\u001b[0m\u001b[1;33m)\u001b[0m\u001b[1;33m\u001b[0m\u001b[1;33m\u001b[0m\u001b[0m\n\u001b[0m\u001b[0;32m     16\u001b[0m         \u001b[0ml\u001b[0m \u001b[1;33m=\u001b[0m \u001b[1;33m[\u001b[0m\u001b[1;33m]\u001b[0m\u001b[1;33m\u001b[0m\u001b[1;33m\u001b[0m\u001b[0m\n\u001b[0;32m     17\u001b[0m         \u001b[0mcl\u001b[0m \u001b[1;33m=\u001b[0m \u001b[0mclustering\u001b[0m\u001b[1;33m.\u001b[0m\u001b[0mlabels_\u001b[0m\u001b[1;33m\u001b[0m\u001b[1;33m\u001b[0m\u001b[0m\n",
      "\u001b[1;32mc:\\users\\cristina\\appdata\\local\\programs\\python\\python37\\lib\\site-packages\\sklearn\\cluster\\dbscan_.py\u001b[0m in \u001b[0;36mfit\u001b[1;34m(self, X, y, sample_weight)\u001b[0m\n\u001b[0;32m    319\u001b[0m         \u001b[0mX\u001b[0m \u001b[1;33m=\u001b[0m \u001b[0mcheck_array\u001b[0m\u001b[1;33m(\u001b[0m\u001b[0mX\u001b[0m\u001b[1;33m,\u001b[0m \u001b[0maccept_sparse\u001b[0m\u001b[1;33m=\u001b[0m\u001b[1;34m'csr'\u001b[0m\u001b[1;33m)\u001b[0m\u001b[1;33m\u001b[0m\u001b[1;33m\u001b[0m\u001b[0m\n\u001b[0;32m    320\u001b[0m         clust = dbscan(X, sample_weight=sample_weight,\n\u001b[1;32m--> 321\u001b[1;33m                        **self.get_params())\n\u001b[0m\u001b[0;32m    322\u001b[0m         \u001b[0mself\u001b[0m\u001b[1;33m.\u001b[0m\u001b[0mcore_sample_indices_\u001b[0m\u001b[1;33m,\u001b[0m \u001b[0mself\u001b[0m\u001b[1;33m.\u001b[0m\u001b[0mlabels_\u001b[0m \u001b[1;33m=\u001b[0m \u001b[0mclust\u001b[0m\u001b[1;33m\u001b[0m\u001b[1;33m\u001b[0m\u001b[0m\n\u001b[0;32m    323\u001b[0m         \u001b[1;32mif\u001b[0m \u001b[0mlen\u001b[0m\u001b[1;33m(\u001b[0m\u001b[0mself\u001b[0m\u001b[1;33m.\u001b[0m\u001b[0mcore_sample_indices_\u001b[0m\u001b[1;33m)\u001b[0m\u001b[1;33m:\u001b[0m\u001b[1;33m\u001b[0m\u001b[1;33m\u001b[0m\u001b[0m\n",
      "\u001b[1;32mc:\\users\\cristina\\appdata\\local\\programs\\python\\python37\\lib\\site-packages\\sklearn\\cluster\\dbscan_.py\u001b[0m in \u001b[0;36mdbscan\u001b[1;34m(X, eps, min_samples, metric, metric_params, algorithm, leaf_size, p, sample_weight, n_jobs)\u001b[0m\n\u001b[0;32m    159\u001b[0m         \u001b[1;31m# This has worst case O(n^2) memory complexity\u001b[0m\u001b[1;33m\u001b[0m\u001b[1;33m\u001b[0m\u001b[1;33m\u001b[0m\u001b[0m\n\u001b[0;32m    160\u001b[0m         neighborhoods = neighbors_model.radius_neighbors(X, eps,\n\u001b[1;32m--> 161\u001b[1;33m                                                          return_distance=False)\n\u001b[0m\u001b[0;32m    162\u001b[0m \u001b[1;33m\u001b[0m\u001b[0m\n\u001b[0;32m    163\u001b[0m     \u001b[1;32mif\u001b[0m \u001b[0msample_weight\u001b[0m \u001b[1;32mis\u001b[0m \u001b[1;32mNone\u001b[0m\u001b[1;33m:\u001b[0m\u001b[1;33m\u001b[0m\u001b[1;33m\u001b[0m\u001b[0m\n",
      "\u001b[1;32mc:\\users\\cristina\\appdata\\local\\programs\\python\\python37\\lib\\site-packages\\sklearn\\neighbors\\base.py\u001b[0m in \u001b[0;36mradius_neighbors\u001b[1;34m(self, X, radius, return_distance)\u001b[0m\n\u001b[0;32m    745\u001b[0m             results = Parallel(n_jobs, **parallel_kwargs)(\n\u001b[0;32m    746\u001b[0m                 \u001b[0mdelayed_query\u001b[0m\u001b[1;33m(\u001b[0m\u001b[0mself\u001b[0m\u001b[1;33m.\u001b[0m\u001b[0m_tree\u001b[0m\u001b[1;33m,\u001b[0m \u001b[0mX\u001b[0m\u001b[1;33m[\u001b[0m\u001b[0ms\u001b[0m\u001b[1;33m]\u001b[0m\u001b[1;33m,\u001b[0m \u001b[0mradius\u001b[0m\u001b[1;33m,\u001b[0m \u001b[0mreturn_distance\u001b[0m\u001b[1;33m)\u001b[0m\u001b[1;33m\u001b[0m\u001b[1;33m\u001b[0m\u001b[0m\n\u001b[1;32m--> 747\u001b[1;33m                 \u001b[1;32mfor\u001b[0m \u001b[0ms\u001b[0m \u001b[1;32min\u001b[0m \u001b[0mgen_even_slices\u001b[0m\u001b[1;33m(\u001b[0m\u001b[0mX\u001b[0m\u001b[1;33m.\u001b[0m\u001b[0mshape\u001b[0m\u001b[1;33m[\u001b[0m\u001b[1;36m0\u001b[0m\u001b[1;33m]\u001b[0m\u001b[1;33m,\u001b[0m \u001b[0mn_jobs\u001b[0m\u001b[1;33m)\u001b[0m\u001b[1;33m\u001b[0m\u001b[1;33m\u001b[0m\u001b[0m\n\u001b[0m\u001b[0;32m    748\u001b[0m             )\n\u001b[0;32m    749\u001b[0m             \u001b[1;32mif\u001b[0m \u001b[0mreturn_distance\u001b[0m\u001b[1;33m:\u001b[0m\u001b[1;33m\u001b[0m\u001b[1;33m\u001b[0m\u001b[0m\n",
      "\u001b[1;32mc:\\users\\cristina\\appdata\\local\\programs\\python\\python37\\lib\\site-packages\\sklearn\\externals\\joblib\\parallel.py\u001b[0m in \u001b[0;36m__call__\u001b[1;34m(self, iterable)\u001b[0m\n\u001b[0;32m    915\u001b[0m             \u001b[1;31m# remaining jobs.\u001b[0m\u001b[1;33m\u001b[0m\u001b[1;33m\u001b[0m\u001b[1;33m\u001b[0m\u001b[0m\n\u001b[0;32m    916\u001b[0m             \u001b[0mself\u001b[0m\u001b[1;33m.\u001b[0m\u001b[0m_iterating\u001b[0m \u001b[1;33m=\u001b[0m \u001b[1;32mFalse\u001b[0m\u001b[1;33m\u001b[0m\u001b[1;33m\u001b[0m\u001b[0m\n\u001b[1;32m--> 917\u001b[1;33m             \u001b[1;32mif\u001b[0m \u001b[0mself\u001b[0m\u001b[1;33m.\u001b[0m\u001b[0mdispatch_one_batch\u001b[0m\u001b[1;33m(\u001b[0m\u001b[0miterator\u001b[0m\u001b[1;33m)\u001b[0m\u001b[1;33m:\u001b[0m\u001b[1;33m\u001b[0m\u001b[1;33m\u001b[0m\u001b[0m\n\u001b[0m\u001b[0;32m    918\u001b[0m                 \u001b[0mself\u001b[0m\u001b[1;33m.\u001b[0m\u001b[0m_iterating\u001b[0m \u001b[1;33m=\u001b[0m \u001b[0mself\u001b[0m\u001b[1;33m.\u001b[0m\u001b[0m_original_iterator\u001b[0m \u001b[1;32mis\u001b[0m \u001b[1;32mnot\u001b[0m \u001b[1;32mNone\u001b[0m\u001b[1;33m\u001b[0m\u001b[1;33m\u001b[0m\u001b[0m\n\u001b[0;32m    919\u001b[0m \u001b[1;33m\u001b[0m\u001b[0m\n",
      "\u001b[1;32mc:\\users\\cristina\\appdata\\local\\programs\\python\\python37\\lib\\site-packages\\sklearn\\externals\\joblib\\parallel.py\u001b[0m in \u001b[0;36mdispatch_one_batch\u001b[1;34m(self, iterator)\u001b[0m\n\u001b[0;32m    757\u001b[0m                 \u001b[1;32mreturn\u001b[0m \u001b[1;32mFalse\u001b[0m\u001b[1;33m\u001b[0m\u001b[1;33m\u001b[0m\u001b[0m\n\u001b[0;32m    758\u001b[0m             \u001b[1;32melse\u001b[0m\u001b[1;33m:\u001b[0m\u001b[1;33m\u001b[0m\u001b[1;33m\u001b[0m\u001b[0m\n\u001b[1;32m--> 759\u001b[1;33m                 \u001b[0mself\u001b[0m\u001b[1;33m.\u001b[0m\u001b[0m_dispatch\u001b[0m\u001b[1;33m(\u001b[0m\u001b[0mtasks\u001b[0m\u001b[1;33m)\u001b[0m\u001b[1;33m\u001b[0m\u001b[1;33m\u001b[0m\u001b[0m\n\u001b[0m\u001b[0;32m    760\u001b[0m                 \u001b[1;32mreturn\u001b[0m \u001b[1;32mTrue\u001b[0m\u001b[1;33m\u001b[0m\u001b[1;33m\u001b[0m\u001b[0m\n\u001b[0;32m    761\u001b[0m \u001b[1;33m\u001b[0m\u001b[0m\n",
      "\u001b[1;32mc:\\users\\cristina\\appdata\\local\\programs\\python\\python37\\lib\\site-packages\\sklearn\\externals\\joblib\\parallel.py\u001b[0m in \u001b[0;36m_dispatch\u001b[1;34m(self, batch)\u001b[0m\n\u001b[0;32m    714\u001b[0m         \u001b[1;32mwith\u001b[0m \u001b[0mself\u001b[0m\u001b[1;33m.\u001b[0m\u001b[0m_lock\u001b[0m\u001b[1;33m:\u001b[0m\u001b[1;33m\u001b[0m\u001b[1;33m\u001b[0m\u001b[0m\n\u001b[0;32m    715\u001b[0m             \u001b[0mjob_idx\u001b[0m \u001b[1;33m=\u001b[0m \u001b[0mlen\u001b[0m\u001b[1;33m(\u001b[0m\u001b[0mself\u001b[0m\u001b[1;33m.\u001b[0m\u001b[0m_jobs\u001b[0m\u001b[1;33m)\u001b[0m\u001b[1;33m\u001b[0m\u001b[1;33m\u001b[0m\u001b[0m\n\u001b[1;32m--> 716\u001b[1;33m             \u001b[0mjob\u001b[0m \u001b[1;33m=\u001b[0m \u001b[0mself\u001b[0m\u001b[1;33m.\u001b[0m\u001b[0m_backend\u001b[0m\u001b[1;33m.\u001b[0m\u001b[0mapply_async\u001b[0m\u001b[1;33m(\u001b[0m\u001b[0mbatch\u001b[0m\u001b[1;33m,\u001b[0m \u001b[0mcallback\u001b[0m\u001b[1;33m=\u001b[0m\u001b[0mcb\u001b[0m\u001b[1;33m)\u001b[0m\u001b[1;33m\u001b[0m\u001b[1;33m\u001b[0m\u001b[0m\n\u001b[0m\u001b[0;32m    717\u001b[0m             \u001b[1;31m# A job can complete so quickly than its callback is\u001b[0m\u001b[1;33m\u001b[0m\u001b[1;33m\u001b[0m\u001b[1;33m\u001b[0m\u001b[0m\n\u001b[0;32m    718\u001b[0m             \u001b[1;31m# called before we get here, causing self._jobs to\u001b[0m\u001b[1;33m\u001b[0m\u001b[1;33m\u001b[0m\u001b[1;33m\u001b[0m\u001b[0m\n",
      "\u001b[1;32mc:\\users\\cristina\\appdata\\local\\programs\\python\\python37\\lib\\site-packages\\sklearn\\externals\\joblib\\_parallel_backends.py\u001b[0m in \u001b[0;36mapply_async\u001b[1;34m(self, func, callback)\u001b[0m\n\u001b[0;32m    180\u001b[0m     \u001b[1;32mdef\u001b[0m \u001b[0mapply_async\u001b[0m\u001b[1;33m(\u001b[0m\u001b[0mself\u001b[0m\u001b[1;33m,\u001b[0m \u001b[0mfunc\u001b[0m\u001b[1;33m,\u001b[0m \u001b[0mcallback\u001b[0m\u001b[1;33m=\u001b[0m\u001b[1;32mNone\u001b[0m\u001b[1;33m)\u001b[0m\u001b[1;33m:\u001b[0m\u001b[1;33m\u001b[0m\u001b[1;33m\u001b[0m\u001b[0m\n\u001b[0;32m    181\u001b[0m         \u001b[1;34m\"\"\"Schedule a func to be run\"\"\"\u001b[0m\u001b[1;33m\u001b[0m\u001b[1;33m\u001b[0m\u001b[0m\n\u001b[1;32m--> 182\u001b[1;33m         \u001b[0mresult\u001b[0m \u001b[1;33m=\u001b[0m \u001b[0mImmediateResult\u001b[0m\u001b[1;33m(\u001b[0m\u001b[0mfunc\u001b[0m\u001b[1;33m)\u001b[0m\u001b[1;33m\u001b[0m\u001b[1;33m\u001b[0m\u001b[0m\n\u001b[0m\u001b[0;32m    183\u001b[0m         \u001b[1;32mif\u001b[0m \u001b[0mcallback\u001b[0m\u001b[1;33m:\u001b[0m\u001b[1;33m\u001b[0m\u001b[1;33m\u001b[0m\u001b[0m\n\u001b[0;32m    184\u001b[0m             \u001b[0mcallback\u001b[0m\u001b[1;33m(\u001b[0m\u001b[0mresult\u001b[0m\u001b[1;33m)\u001b[0m\u001b[1;33m\u001b[0m\u001b[1;33m\u001b[0m\u001b[0m\n",
      "\u001b[1;32mc:\\users\\cristina\\appdata\\local\\programs\\python\\python37\\lib\\site-packages\\sklearn\\externals\\joblib\\_parallel_backends.py\u001b[0m in \u001b[0;36m__init__\u001b[1;34m(self, batch)\u001b[0m\n\u001b[0;32m    547\u001b[0m         \u001b[1;31m# Don't delay the application, to avoid keeping the input\u001b[0m\u001b[1;33m\u001b[0m\u001b[1;33m\u001b[0m\u001b[1;33m\u001b[0m\u001b[0m\n\u001b[0;32m    548\u001b[0m         \u001b[1;31m# arguments in memory\u001b[0m\u001b[1;33m\u001b[0m\u001b[1;33m\u001b[0m\u001b[1;33m\u001b[0m\u001b[0m\n\u001b[1;32m--> 549\u001b[1;33m         \u001b[0mself\u001b[0m\u001b[1;33m.\u001b[0m\u001b[0mresults\u001b[0m \u001b[1;33m=\u001b[0m \u001b[0mbatch\u001b[0m\u001b[1;33m(\u001b[0m\u001b[1;33m)\u001b[0m\u001b[1;33m\u001b[0m\u001b[1;33m\u001b[0m\u001b[0m\n\u001b[0m\u001b[0;32m    550\u001b[0m \u001b[1;33m\u001b[0m\u001b[0m\n\u001b[0;32m    551\u001b[0m     \u001b[1;32mdef\u001b[0m \u001b[0mget\u001b[0m\u001b[1;33m(\u001b[0m\u001b[0mself\u001b[0m\u001b[1;33m)\u001b[0m\u001b[1;33m:\u001b[0m\u001b[1;33m\u001b[0m\u001b[1;33m\u001b[0m\u001b[0m\n",
      "\u001b[1;32mc:\\users\\cristina\\appdata\\local\\programs\\python\\python37\\lib\\site-packages\\sklearn\\externals\\joblib\\parallel.py\u001b[0m in \u001b[0;36m__call__\u001b[1;34m(self)\u001b[0m\n\u001b[0;32m    223\u001b[0m         \u001b[1;32mwith\u001b[0m \u001b[0mparallel_backend\u001b[0m\u001b[1;33m(\u001b[0m\u001b[0mself\u001b[0m\u001b[1;33m.\u001b[0m\u001b[0m_backend\u001b[0m\u001b[1;33m,\u001b[0m \u001b[0mn_jobs\u001b[0m\u001b[1;33m=\u001b[0m\u001b[0mself\u001b[0m\u001b[1;33m.\u001b[0m\u001b[0m_n_jobs\u001b[0m\u001b[1;33m)\u001b[0m\u001b[1;33m:\u001b[0m\u001b[1;33m\u001b[0m\u001b[1;33m\u001b[0m\u001b[0m\n\u001b[0;32m    224\u001b[0m             return [func(*args, **kwargs)\n\u001b[1;32m--> 225\u001b[1;33m                     for func, args, kwargs in self.items]\n\u001b[0m\u001b[0;32m    226\u001b[0m \u001b[1;33m\u001b[0m\u001b[0m\n\u001b[0;32m    227\u001b[0m     \u001b[1;32mdef\u001b[0m \u001b[0m__len__\u001b[0m\u001b[1;33m(\u001b[0m\u001b[0mself\u001b[0m\u001b[1;33m)\u001b[0m\u001b[1;33m:\u001b[0m\u001b[1;33m\u001b[0m\u001b[1;33m\u001b[0m\u001b[0m\n",
      "\u001b[1;32mc:\\users\\cristina\\appdata\\local\\programs\\python\\python37\\lib\\site-packages\\sklearn\\externals\\joblib\\parallel.py\u001b[0m in \u001b[0;36m<listcomp>\u001b[1;34m(.0)\u001b[0m\n\u001b[0;32m    223\u001b[0m         \u001b[1;32mwith\u001b[0m \u001b[0mparallel_backend\u001b[0m\u001b[1;33m(\u001b[0m\u001b[0mself\u001b[0m\u001b[1;33m.\u001b[0m\u001b[0m_backend\u001b[0m\u001b[1;33m,\u001b[0m \u001b[0mn_jobs\u001b[0m\u001b[1;33m=\u001b[0m\u001b[0mself\u001b[0m\u001b[1;33m.\u001b[0m\u001b[0m_n_jobs\u001b[0m\u001b[1;33m)\u001b[0m\u001b[1;33m:\u001b[0m\u001b[1;33m\u001b[0m\u001b[1;33m\u001b[0m\u001b[0m\n\u001b[0;32m    224\u001b[0m             return [func(*args, **kwargs)\n\u001b[1;32m--> 225\u001b[1;33m                     for func, args, kwargs in self.items]\n\u001b[0m\u001b[0;32m    226\u001b[0m \u001b[1;33m\u001b[0m\u001b[0m\n\u001b[0;32m    227\u001b[0m     \u001b[1;32mdef\u001b[0m \u001b[0m__len__\u001b[0m\u001b[1;33m(\u001b[0m\u001b[0mself\u001b[0m\u001b[1;33m)\u001b[0m\u001b[1;33m:\u001b[0m\u001b[1;33m\u001b[0m\u001b[1;33m\u001b[0m\u001b[0m\n",
      "\u001b[1;32mc:\\users\\cristina\\appdata\\local\\programs\\python\\python37\\lib\\site-packages\\sklearn\\neighbors\\base.py\u001b[0m in \u001b[0;36m_tree_query_radius_parallel_helper\u001b[1;34m(tree, data, radius, return_distance)\u001b[0m\n\u001b[0;32m    578\u001b[0m     \u001b[0mcloudpickle\u001b[0m \u001b[0munder\u001b[0m \u001b[0mPyPy\u001b[0m\u001b[1;33m.\u001b[0m\u001b[1;33m\u001b[0m\u001b[1;33m\u001b[0m\u001b[0m\n\u001b[0;32m    579\u001b[0m     \"\"\"\n\u001b[1;32m--> 580\u001b[1;33m     \u001b[1;32mreturn\u001b[0m \u001b[0mtree\u001b[0m\u001b[1;33m.\u001b[0m\u001b[0mquery_radius\u001b[0m\u001b[1;33m(\u001b[0m\u001b[0mdata\u001b[0m\u001b[1;33m,\u001b[0m \u001b[0mradius\u001b[0m\u001b[1;33m,\u001b[0m \u001b[0mreturn_distance\u001b[0m\u001b[1;33m)\u001b[0m\u001b[1;33m\u001b[0m\u001b[1;33m\u001b[0m\u001b[0m\n\u001b[0m\u001b[0;32m    581\u001b[0m \u001b[1;33m\u001b[0m\u001b[0m\n\u001b[0;32m    582\u001b[0m \u001b[1;33m\u001b[0m\u001b[0m\n",
      "\u001b[1;31mKeyboardInterrupt\u001b[0m: "
     ]
    }
   ],
   "source": [
    "eps = [1.0,1.1,1.2,1.3,1.4,1.5,1.6,1.7,1.8,1.9,\n",
    "      2.0,2.1,2.2,2.3,2.4,2.5,2.6,2.7,2.8,2.9,\n",
    "      3.0,3.1,3.2,3.3,3.4,3.5,3.6,3.7,3.8,3.9,\n",
    "      4.0,4.1,4.2,4.3,4.4,4.5,4.6,4.7,4.8,4.9,\n",
    "      5.0,5.1,5.2,5.3,5.4,5.5,5.6,5.7,5.8,5.9,\n",
    "      6.0,6.1,6.2,6.3,6.4,6.5,6.6,6.7,6.8,6.9,\n",
    "      7.0,7.1,7.2,7.3,7.4,7.5,7.6,7.7,7.8,7.9,\n",
    "      8.0,8.1,8.2,8.3,8.4,8.5,8.6,8.7,8.8,8.9,\n",
    "      9.0,9.1,9.2,9.3,9.4,9.5,9.6,9.7,9.8,9.9,\n",
    "      10.0,10.1,10.2,10.3,10.4,10.5,10.6,10.7,10.8,10.9]\n",
    "i = 0\n",
    "while i < 100:\n",
    "    min_s = 1\n",
    "    while min_s < 10:\n",
    "        clustering = DBSCAN(eps=eps[i], min_samples=min_s).fit(X)\n",
    "        l = []\n",
    "        cl = clustering.labels_\n",
    "        min_ones = 0\n",
    "        for element in cl:\n",
    "            if element == -1:\n",
    "                min_ones = min_ones + 1\n",
    "            else:\n",
    "                if element not in l:\n",
    "                    l.append(element)\n",
    "        print('eps=' + str(eps[i]) + ' min_s=' + str(min_s) + ' nr_clusters=' + str(len(l)) + ' nr_-1=' + str(min_ones))\n",
    "        min_s = min_s + 1\n",
    "    i = i + 1"
   ]
  },
  {
   "cell_type": "markdown",
   "metadata": {},
   "source": [
    "## Test DBScan"
   ]
  },
  {
   "cell_type": "code",
   "execution_count": 23,
   "metadata": {
    "scrolled": true
   },
   "outputs": [
    {
     "name": "stdout",
     "output_type": "stream",
     "text": [
      "[3007    1    1    1    1    1    1    1    1    2    1    1    1    1\n",
      "    1    1    1    1    1    1    1    1    1    1    1    1    1    1\n",
      "    1    1    1    1    1]\n"
     ]
    }
   ],
   "source": [
    "clustering = DBSCAN(eps=1.2, min_samples=1).fit(X)\n",
    "cl = clustering.labels_\n",
    "\n",
    "# Gaseste numarul de clustere\n",
    "clust = []\n",
    "noise = 0\n",
    "\n",
    "for elem in cl: \n",
    "    if elem == -1:\n",
    "        noise += 1\n",
    "    else:\n",
    "        if elem not in clust:\n",
    "            clust.append(elem)\n",
    "\n",
    "clustere = np.zeros(len(clust), dtype=np.int64)     \n",
    "for elem in cl:\n",
    "    if not ( elem == -1):\n",
    "        clustere[elem] += 1 \n",
    "        \n",
    "print(clustere)"
   ]
  },
  {
   "cell_type": "markdown",
   "metadata": {},
   "source": [
    "## Apply DBScan 2"
   ]
  },
  {
   "cell_type": "code",
   "execution_count": 18,
   "metadata": {
    "scrolled": true
   },
   "outputs": [
    {
     "name": "stdout",
     "output_type": "stream",
     "text": [
      "0.1 1 clusters=52 noise=2929\n",
      "0.1 2 clusters=7 noise=3019\n",
      "0.1 3 clusters=0 noise=3040\n",
      "0.1 4 clusters=0 noise=3040\n",
      "0.1 5 clusters=0 noise=3040\n",
      "0.1 6 clusters=0 noise=3040\n",
      "0.1 7 clusters=0 noise=3040\n",
      "0.1 8 clusters=0 noise=3040\n",
      "0.1 9 clusters=0 noise=3040\n",
      "0.2 1 clusters=52 noise=2929\n",
      "0.2 2 clusters=7 noise=3019\n",
      "0.2 3 clusters=0 noise=3040\n",
      "0.2 4 clusters=0 noise=3040\n",
      "0.2 5 clusters=0 noise=3040\n",
      "0.2 6 clusters=0 noise=3040\n",
      "0.2 7 clusters=0 noise=3040\n",
      "0.2 8 clusters=0 noise=3040\n",
      "0.2 9 clusters=0 noise=3040\n",
      "0.3 1 clusters=57 noise=2918\n",
      "0.3 2 clusters=8 noise=3016\n",
      "0.3 3 clusters=0 noise=3040\n",
      "0.3 4 clusters=0 noise=3040\n",
      "0.3 5 clusters=0 noise=3040\n",
      "0.3 6 clusters=0 noise=3040\n",
      "0.3 7 clusters=0 noise=3040\n",
      "0.3 8 clusters=0 noise=3040\n",
      "0.3 9 clusters=0 noise=3040\n",
      "0.4 1 clusters=105 noise=2790\n",
      "0.4 2 clusters=19 noise=2962\n",
      "0.4 3 clusters=8 noise=2999\n",
      "0.4 4 clusters=1 noise=3030\n",
      "0.4 5 clusters=1 noise=3031\n",
      "0.4 6 clusters=1 noise=3032\n",
      "0.4 7 clusters=1 noise=3032\n",
      "0.4 8 clusters=0 noise=3040\n",
      "0.4 9 clusters=0 noise=3040\n",
      "0.5 1 clusters=176 noise=2460\n",
      "0.5 2 clusters=44 noise=2724\n",
      "0.5 3 clusters=27 noise=2797\n",
      "0.5 4 clusters=12 noise=2874\n",
      "0.5 5 clusters=8 noise=2910\n",
      "0.5 6 clusters=7 noise=2940\n",
      "0.5 7 clusters=4 noise=2963\n",
      "0.5 8 clusters=2 noise=2984\n",
      "0.5 9 clusters=2 noise=2990\n",
      "0.6 1 clusters=203 noise=1875\n",
      "0.6 2 clusters=62 noise=2157\n",
      "0.6 3 clusters=31 noise=2319\n",
      "0.6 4 clusters=13 noise=2440\n",
      "0.6 5 clusters=5 noise=2519\n",
      "0.6 6 clusters=4 noise=2567\n",
      "0.6 7 clusters=5 noise=2593\n",
      "0.6 8 clusters=4 noise=2636\n",
      "0.6 9 clusters=3 noise=2678\n",
      "0.7 1 clusters=131 noise=1230\n",
      "0.7 2 clusters=42 noise=1408\n",
      "0.7 3 clusters=25 noise=1528\n",
      "0.7 4 clusters=17 noise=1647\n",
      "0.7 5 clusters=9 noise=1755\n",
      "0.7 6 clusters=5 noise=1839\n",
      "0.7 7 clusters=5 noise=1870\n",
      "0.7 8 clusters=2 noise=1944\n",
      "0.7 9 clusters=1 noise=1980\n",
      "0.8 1 clusters=62 noise=783\n",
      "0.8 2 clusters=16 noise=875\n",
      "0.8 3 clusters=5 noise=946\n",
      "0.8 4 clusters=3 noise=1006\n",
      "0.8 5 clusters=2 noise=1048\n",
      "0.8 6 clusters=1 noise=1099\n",
      "0.8 7 clusters=1 noise=1136\n",
      "0.8 8 clusters=2 noise=1166\n",
      "0.8 9 clusters=2 noise=1183\n",
      "0.9 1 clusters=20 noise=403\n",
      "0.9 2 clusters=3 noise=437\n",
      "0.9 3 clusters=4 noise=450\n",
      "0.9 4 clusters=1 noise=487\n",
      "0.9 5 clusters=1 noise=502\n",
      "0.9 6 clusters=1 noise=518\n",
      "0.9 7 clusters=1 noise=532\n",
      "0.9 8 clusters=1 noise=544\n",
      "0.9 9 clusters=1 noise=559\n",
      "1.0 1 clusters=10 noise=172\n"
     ]
    },
    {
     "ename": "KeyboardInterrupt",
     "evalue": "",
     "output_type": "error",
     "traceback": [
      "\u001b[1;31m---------------------------------------------------------------------------\u001b[0m",
      "\u001b[1;31mKeyboardInterrupt\u001b[0m                         Traceback (most recent call last)",
      "\u001b[1;32m<ipython-input-18-e5f46dac97be>\u001b[0m in \u001b[0;36m<module>\u001b[1;34m\u001b[0m\n\u001b[0;32m     18\u001b[0m \u001b[1;33m\u001b[0m\u001b[0m\n\u001b[0;32m     19\u001b[0m         \u001b[0mdbscan_instance\u001b[0m \u001b[1;33m=\u001b[0m \u001b[0mdbscan\u001b[0m\u001b[1;33m(\u001b[0m\u001b[0msample\u001b[0m\u001b[1;33m,\u001b[0m \u001b[0meps\u001b[0m\u001b[1;33m[\u001b[0m\u001b[0mi\u001b[0m\u001b[1;33m]\u001b[0m\u001b[1;33m,\u001b[0m \u001b[0mmin_s\u001b[0m\u001b[1;33m)\u001b[0m\u001b[1;33m\u001b[0m\u001b[1;33m\u001b[0m\u001b[0m\n\u001b[1;32m---> 20\u001b[1;33m         \u001b[0mdbscan_instance\u001b[0m\u001b[1;33m.\u001b[0m\u001b[0mprocess\u001b[0m\u001b[1;33m(\u001b[0m\u001b[1;33m)\u001b[0m\u001b[1;33m\u001b[0m\u001b[1;33m\u001b[0m\u001b[0m\n\u001b[0m\u001b[0;32m     21\u001b[0m         \u001b[0mclusters\u001b[0m \u001b[1;33m=\u001b[0m \u001b[0mdbscan_instance\u001b[0m\u001b[1;33m.\u001b[0m\u001b[0mget_clusters\u001b[0m\u001b[1;33m(\u001b[0m\u001b[1;33m)\u001b[0m\u001b[1;33m\u001b[0m\u001b[1;33m\u001b[0m\u001b[0m\n\u001b[0;32m     22\u001b[0m         \u001b[0mnoise\u001b[0m \u001b[1;33m=\u001b[0m \u001b[0mdbscan_instance\u001b[0m\u001b[1;33m.\u001b[0m\u001b[0mget_noise\u001b[0m\u001b[1;33m(\u001b[0m\u001b[1;33m)\u001b[0m\u001b[1;33m\u001b[0m\u001b[1;33m\u001b[0m\u001b[0m\n",
      "\u001b[1;32mc:\\users\\cristina\\appdata\\local\\programs\\python\\python37\\lib\\site-packages\\pyclustering\\cluster\\dbscan.py\u001b[0m in \u001b[0;36mprocess\u001b[1;34m(self)\u001b[0m\n\u001b[0;32m    117\u001b[0m \u001b[1;33m\u001b[0m\u001b[0m\n\u001b[0;32m    118\u001b[0m         \u001b[1;32mif\u001b[0m \u001b[0mself\u001b[0m\u001b[1;33m.\u001b[0m\u001b[0m__ccore\u001b[0m \u001b[1;32mis\u001b[0m \u001b[1;32mTrue\u001b[0m\u001b[1;33m:\u001b[0m\u001b[1;33m\u001b[0m\u001b[1;33m\u001b[0m\u001b[0m\n\u001b[1;32m--> 119\u001b[1;33m             \u001b[1;33m(\u001b[0m\u001b[0mself\u001b[0m\u001b[1;33m.\u001b[0m\u001b[0m__clusters\u001b[0m\u001b[1;33m,\u001b[0m \u001b[0mself\u001b[0m\u001b[1;33m.\u001b[0m\u001b[0m__noise\u001b[0m\u001b[1;33m)\u001b[0m \u001b[1;33m=\u001b[0m \u001b[0mwrapper\u001b[0m\u001b[1;33m.\u001b[0m\u001b[0mdbscan\u001b[0m\u001b[1;33m(\u001b[0m\u001b[0mself\u001b[0m\u001b[1;33m.\u001b[0m\u001b[0m__pointer_data\u001b[0m\u001b[1;33m,\u001b[0m \u001b[0mself\u001b[0m\u001b[1;33m.\u001b[0m\u001b[0m__eps\u001b[0m\u001b[1;33m,\u001b[0m \u001b[0mself\u001b[0m\u001b[1;33m.\u001b[0m\u001b[0m__neighbors\u001b[0m\u001b[1;33m,\u001b[0m \u001b[0mself\u001b[0m\u001b[1;33m.\u001b[0m\u001b[0m__data_type\u001b[0m\u001b[1;33m)\u001b[0m\u001b[1;33m\u001b[0m\u001b[1;33m\u001b[0m\u001b[0m\n\u001b[0m\u001b[0;32m    120\u001b[0m \u001b[1;33m\u001b[0m\u001b[0m\n\u001b[0;32m    121\u001b[0m         \u001b[1;32melse\u001b[0m\u001b[1;33m:\u001b[0m\u001b[1;33m\u001b[0m\u001b[1;33m\u001b[0m\u001b[0m\n",
      "\u001b[1;32mc:\\users\\cristina\\appdata\\local\\programs\\python\\python37\\lib\\site-packages\\pyclustering\\core\\dbscan_wrapper.py\u001b[0m in \u001b[0;36mdbscan\u001b[1;34m(sample, eps, min_neighbors, data_type)\u001b[0m\n\u001b[0;32m     38\u001b[0m \u001b[1;33m\u001b[0m\u001b[0m\n\u001b[0;32m     39\u001b[0m     \u001b[0mccore\u001b[0m\u001b[1;33m.\u001b[0m\u001b[0mdbscan_algorithm\u001b[0m\u001b[1;33m.\u001b[0m\u001b[0mrestype\u001b[0m \u001b[1;33m=\u001b[0m \u001b[0mPOINTER\u001b[0m\u001b[1;33m(\u001b[0m\u001b[0mpyclustering_package\u001b[0m\u001b[1;33m)\u001b[0m\u001b[1;33m\u001b[0m\u001b[1;33m\u001b[0m\u001b[0m\n\u001b[1;32m---> 40\u001b[1;33m     \u001b[0mpackage\u001b[0m \u001b[1;33m=\u001b[0m \u001b[0mccore\u001b[0m\u001b[1;33m.\u001b[0m\u001b[0mdbscan_algorithm\u001b[0m\u001b[1;33m(\u001b[0m\u001b[0mpointer_data\u001b[0m\u001b[1;33m,\u001b[0m \u001b[0mc_double\u001b[0m\u001b[1;33m(\u001b[0m\u001b[0meps\u001b[0m\u001b[1;33m)\u001b[0m\u001b[1;33m,\u001b[0m \u001b[0mc_size_t\u001b[0m\u001b[1;33m(\u001b[0m\u001b[0mmin_neighbors\u001b[0m\u001b[1;33m)\u001b[0m\u001b[1;33m,\u001b[0m \u001b[0mc_data_type\u001b[0m\u001b[1;33m)\u001b[0m\u001b[1;33m\u001b[0m\u001b[1;33m\u001b[0m\u001b[0m\n\u001b[0m\u001b[0;32m     41\u001b[0m \u001b[1;33m\u001b[0m\u001b[0m\n\u001b[0;32m     42\u001b[0m     \u001b[0mlist_of_clusters\u001b[0m \u001b[1;33m=\u001b[0m \u001b[0mpackage_extractor\u001b[0m\u001b[1;33m(\u001b[0m\u001b[0mpackage\u001b[0m\u001b[1;33m)\u001b[0m\u001b[1;33m.\u001b[0m\u001b[0mextract\u001b[0m\u001b[1;33m(\u001b[0m\u001b[1;33m)\u001b[0m\u001b[1;33m\u001b[0m\u001b[1;33m\u001b[0m\u001b[0m\n",
      "\u001b[1;31mKeyboardInterrupt\u001b[0m: "
     ]
    }
   ],
   "source": [
    "sample = X\n",
    "\n",
    "eps = [0.1,0.2,0.3,0.4,0.5,0.6,0.7,0.8,0.9,\n",
    "      1.0,1.1,1.2,1.3,1.4,1.5,1.6,1.7,1.8,1.9,\n",
    "      2.0,2.1,2.2,2.3,2.4,2.5,2.6,2.7,2.8,2.9,\n",
    "      3.0,3.1,3.2,3.3,3.4,3.5,3.6,3.7,3.8,3.9,\n",
    "      4.0,4.1,4.2,4.3,4.4,4.5,4.6,4.7,4.8,4.9,\n",
    "      5.0,5.1,5.2,5.3,5.4,5.5,5.6,5.7,5.8,5.9,\n",
    "      6.0,6.1,6.2,6.3,6.4,6.5,6.6,6.7,6.8,6.9,\n",
    "      7.0,7.1,7.2,7.3,7.4,7.5,7.6,7.7,7.8,7.9,\n",
    "      8.0,8.1,8.2,8.3,8.4,8.5,8.6,8.7,8.8,8.9,\n",
    "      9.0,9.1,9.2,9.3,9.4,9.5,9.6,9.7,9.8,9.9,\n",
    "      10.0,10.1,10.2,10.3,10.4,10.5,10.6,10.7,10.8,10.9]\n",
    "i = 0\n",
    "while i < 100:\n",
    "    min_s = 1\n",
    "    while min_s < 10:\n",
    "\n",
    "        dbscan_instance = dbscan(sample, eps[i], min_s)\n",
    "        dbscan_instance.process()\n",
    "        clusters = dbscan_instance.get_clusters()\n",
    "        noise = dbscan_instance.get_noise()\n",
    "        print(str(eps[i]) + ' ' + str(min_s) + ' clusters=' + str(len(clusters)) + ' noise=' + str(len(noise)))\n",
    "        min_s += 1\n",
    "    \n",
    "    i += 1\n"
   ]
  },
  {
   "cell_type": "markdown",
   "metadata": {},
   "source": [
    "## Test DBScan 2"
   ]
  },
  {
   "cell_type": "code",
   "execution_count": 19,
   "metadata": {},
   "outputs": [
    {
     "name": "stdout",
     "output_type": "stream",
     "text": [
      "0 2595\n",
      "1 2\n",
      "2 2\n",
      "3 5\n",
      "4 2\n",
      "5 2\n",
      "6 2\n",
      "7 2\n",
      "8 2\n",
      "9 2\n",
      "10 3\n",
      "11 2\n",
      "12 2\n",
      "13 2\n",
      "14 2\n",
      "15 2\n",
      "16 2\n",
      "17 2\n",
      "18 2\n",
      "19 2\n"
     ]
    }
   ],
   "source": [
    "dbscan_instance = dbscan(sample, 0.9, 1)\n",
    "dbscan_instance.process()\n",
    "clusters = dbscan_instance.get_clusters()\n",
    "noise = dbscan_instance.get_noise()\n",
    "\n",
    "clust = np.zeros(len(clusters))\n",
    "index = 0\n",
    "for elem in clusters:\n",
    "    print(index, len(elem))\n",
    "    index += 1"
   ]
  },
  {
   "cell_type": "markdown",
   "metadata": {},
   "source": [
    "## Pentru Tensorboard"
   ]
  },
  {
   "cell_type": "code",
   "execution_count": 13,
   "metadata": {},
   "outputs": [
    {
     "name": "stdout",
     "output_type": "stream",
     "text": [
      "WARNING:tensorflow:From c:\\users\\cristina\\appdata\\local\\programs\\python\\python37\\lib\\site-packages\\tensorflow\\python\\framework\\op_def_library.py:263: colocate_with (from tensorflow.python.framework.ops) is deprecated and will be removed in a future version.\n",
      "Instructions for updating:\n",
      "Colocations handled automatically by placer.\n"
     ]
    }
   ],
   "source": [
    "pca = sklearnPCA(n_components=50) #2-dimensional PCA\n",
    "pca_df = pd.DataFrame(pca.fit_transform(X))\n",
    "df_pca = pca_df.values\n",
    "\n",
    "tf_data = tf.Variable(df_pca)"
   ]
  },
  {
   "cell_type": "code",
   "execution_count": 14,
   "metadata": {},
   "outputs": [],
   "source": [
    "PATH = os.getcwd()\n",
    "\n",
    "LOG_DIR = PATH + './log-1'\n",
    "\n",
    "#metadata = os.path.join(LOG_DIR, 'cl.tsv')\n",
    "\n",
    "tf_data = tf.Variable(df_pca)\n",
    "\n",
    "with tf.Session() as sess:\n",
    "    saver = tf.train.Saver([tf_data])\n",
    "    sess.run(tf.global_variables_initializer())\n",
    "    saver.save(sess, os.path.join(LOG_DIR, 'tf_data.ckpt'))\n",
    "    config = projector.ProjectorConfig()\n",
    "    \n",
    "    embedding = config.embeddings.add()\n",
    "    embedding.tensor_name = tf_data.name\n",
    "    \n",
    "    #embedding.metadata_path = metadata\n",
    "    \n",
    "    projector.visualize_embeddings(tf.summary.FileWriter(LOG_DIR), config)"
   ]
  },
  {
   "cell_type": "code",
   "execution_count": null,
   "metadata": {},
   "outputs": [],
   "source": []
  }
 ],
 "metadata": {
  "kernelspec": {
   "display_name": "Python 3",
   "language": "python",
   "name": "python3"
  },
  "language_info": {
   "codemirror_mode": {
    "name": "ipython",
    "version": 3
   },
   "file_extension": ".py",
   "mimetype": "text/x-python",
   "name": "python",
   "nbconvert_exporter": "python",
   "pygments_lexer": "ipython3",
   "version": "3.7.1"
  }
 },
 "nbformat": 4,
 "nbformat_minor": 2
}
