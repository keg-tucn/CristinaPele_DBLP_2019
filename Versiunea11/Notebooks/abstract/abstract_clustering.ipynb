{
 "cells": [
  {
   "cell_type": "code",
   "execution_count": 1,
   "metadata": {},
   "outputs": [],
   "source": [
    "import json"
   ]
  },
  {
   "cell_type": "code",
   "execution_count": 2,
   "metadata": {},
   "outputs": [],
   "source": [
    "import sys\n",
    "sys.path.insert(0, '../library')\n",
    "\n",
    "from clustering import *"
   ]
  },
  {
   "cell_type": "code",
   "execution_count": 7,
   "metadata": {},
   "outputs": [],
   "source": [
    "def get_embeddings(cale, camp, print_ = False):\n",
    "    X = {}\n",
    "    p = 0\n",
    "    for i in range(0,196):\n",
    "        if print_ == True and p % 10 == 0:\n",
    "            print(p)\n",
    "        p += 1\n",
    "        fr = cale+str(i)+'.txt'\n",
    "        r = open(fr, 'r')\n",
    "        for linie in r:\n",
    "            articol_crt = json.loads(linie)\n",
    "            X[articol_crt['id']] = articol_crt[camp]\n",
    "        r.close()\n",
    "        \n",
    "    return X\n",
    "\n",
    "###\n",
    "### Exatrage valorile dintr-un dictionar.\n",
    "### param dict_: dictionarul.\n",
    "### param print_: decide daca se face log sau nu.(implicit False)\n",
    "### param interval: numarul de iteratii dupa care sa se faca log.\n",
    "### return v: lista de valori.\n",
    "###\n",
    "def get_values(dict_, print_ = False, interval = 100):\n",
    "    v = []\n",
    "    i = 0\n",
    "    for elem in dict_:\n",
    "        if print_ == True and i % interval == 0:\n",
    "            print(i)\n",
    "        i += 1\n",
    "        v.append(dict_[elem])\n",
    "        \n",
    "    return v\n",
    "\n",
    "def apply_xmeans_fuzzy(X, max_):\n",
    "    values = get_values(X)\n",
    "    xmeans = apply_XMeans(values,1,max_)\n",
    "    cls = len(xmeans.get_clusters())\n",
    "    print(cls)\n",
    "    \n",
    "def fuzzy(X, max_):\n",
    "    values = get_values(X)\n",
    "    print(len(values))\n",
    "    fcm = apply_fuzzy(values,max_)\n",
    "    return fcm\n",
    "\n",
    "def get_lables(list_, nr_elems):\n",
    "    label = np.zeros(nr_elems)\n",
    "    i = 0\n",
    "    for cluster in list_:\n",
    "        for elem in cluster:\n",
    "            label[elem] = i\n",
    "        i += 1\n",
    "    return label"
   ]
  },
  {
   "cell_type": "markdown",
   "metadata": {},
   "source": [
    "## doc2vec complete"
   ]
  },
  {
   "cell_type": "code",
   "execution_count": null,
   "metadata": {},
   "outputs": [],
   "source": [
    "X = get_embeddings_('../RESULTS/Abstract/doc2vec_complete/file','d2w',True)"
   ]
  },
  {
   "cell_type": "code",
   "execution_count": 14,
   "metadata": {},
   "outputs": [
    {
     "name": "stdout",
     "output_type": "stream",
     "text": [
      "1\n"
     ]
    },
    {
     "data": {
      "text/plain": [
       "<pyclustering.cluster.fcm.fcm at 0x26175ba20f0>"
      ]
     },
     "execution_count": 14,
     "metadata": {},
     "output_type": "execute_result"
    }
   ],
   "source": [
    "apply_xmeans_fuzzy(X)"
   ]
  },
  {
   "cell_type": "markdown",
   "metadata": {},
   "source": [
    "## word2vec pretained complete sum"
   ]
  },
  {
   "cell_type": "code",
   "execution_count": 6,
   "metadata": {},
   "outputs": [
    {
     "name": "stdout",
     "output_type": "stream",
     "text": [
      "0\n",
      "10\n",
      "20\n",
      "30\n",
      "40\n",
      "50\n",
      "60\n",
      "70\n",
      "80\n",
      "90\n",
      "100\n",
      "110\n",
      "120\n",
      "130\n",
      "140\n",
      "150\n",
      "160\n",
      "170\n",
      "180\n",
      "190\n"
     ]
    }
   ],
   "source": [
    "X = get_embeddings('../RESULTS/Abstract/word2vec_complete_sum/file','w2v',True)"
   ]
  },
  {
   "cell_type": "code",
   "execution_count": null,
   "metadata": {},
   "outputs": [
    {
     "name": "stdout",
     "output_type": "stream",
     "text": [
      "1959819\n"
     ]
    }
   ],
   "source": [
    "fcm = fuzzy(X, 100)"
   ]
  },
  {
   "cell_type": "code",
   "execution_count": 5,
   "metadata": {},
   "outputs": [
    {
     "ename": "NameError",
     "evalue": "name 'X' is not defined",
     "output_type": "error",
     "traceback": [
      "\u001b[1;31m---------------------------------------------------------------------------\u001b[0m",
      "\u001b[1;31mNameError\u001b[0m                                 Traceback (most recent call last)",
      "\u001b[1;32m<ipython-input-5-ca9c3adafdd8>\u001b[0m in \u001b[0;36m<module>\u001b[1;34m\u001b[0m\n\u001b[1;32m----> 1\u001b[1;33m \u001b[0mval\u001b[0m \u001b[1;33m=\u001b[0m \u001b[0mget_values\u001b[0m\u001b[1;33m(\u001b[0m\u001b[0mX\u001b[0m\u001b[1;33m)\u001b[0m\u001b[1;33m\u001b[0m\u001b[1;33m\u001b[0m\u001b[0m\n\u001b[0m\u001b[0;32m      2\u001b[0m \u001b[0mlabels\u001b[0m \u001b[1;33m=\u001b[0m \u001b[0mget_labels\u001b[0m\u001b[1;33m(\u001b[0m\u001b[0mfcm\u001b[0m\u001b[1;33m.\u001b[0m\u001b[0mget_clusters\u001b[0m\u001b[1;33m(\u001b[0m\u001b[1;33m)\u001b[0m\u001b[1;33m)\u001b[0m\u001b[1;33m\u001b[0m\u001b[1;33m\u001b[0m\u001b[0m\n\u001b[0;32m      3\u001b[0m \u001b[0mapply_silhouette\u001b[0m\u001b[1;33m(\u001b[0m\u001b[0mval\u001b[0m\u001b[1;33m)\u001b[0m\u001b[1;33m\u001b[0m\u001b[1;33m\u001b[0m\u001b[0m\n",
      "\u001b[1;31mNameError\u001b[0m: name 'X' is not defined"
     ]
    }
   ],
   "source": [
    "val = get_values(X)\n",
    "labels = get_labels(fcm.get_clusters())\n",
    "apply_silhouette(val)"
   ]
  },
  {
   "cell_type": "code",
   "execution_count": 13,
   "metadata": {},
   "outputs": [
    {
     "name": "stdout",
     "output_type": "stream",
     "text": [
      "0\n",
      "10\n",
      "20\n",
      "30\n",
      "40\n",
      "50\n",
      "60\n",
      "70\n",
      "80\n",
      "90\n",
      "100\n",
      "110\n",
      "120\n",
      "130\n",
      "140\n",
      "150\n",
      "160\n",
      "170\n",
      "180\n",
      "190\n"
     ]
    }
   ],
   "source": [
    "X = get_embeddings('../RESULTS/Abstract/word2vec_complete_avg/file','w2v',True)"
   ]
  },
  {
   "cell_type": "code",
   "execution_count": null,
   "metadata": {},
   "outputs": [],
   "source": [
    "apply_xmeans_fuzzy(X)"
   ]
  },
  {
   "cell_type": "code",
   "execution_count": null,
   "metadata": {},
   "outputs": [],
   "source": []
  }
 ],
 "metadata": {
  "kernelspec": {
   "display_name": "Python 3",
   "language": "python",
   "name": "python3"
  },
  "language_info": {
   "codemirror_mode": {
    "name": "ipython",
    "version": 3
   },
   "file_extension": ".py",
   "mimetype": "text/x-python",
   "name": "python",
   "nbconvert_exporter": "python",
   "pygments_lexer": "ipython3",
   "version": "3.7.3"
  }
 },
 "nbformat": 4,
 "nbformat_minor": 2
}
