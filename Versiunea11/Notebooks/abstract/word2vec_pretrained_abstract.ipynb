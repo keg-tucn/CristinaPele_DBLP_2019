{
 "cells": [
  {
   "cell_type": "markdown",
   "metadata": {},
   "source": [
    "## Citeste dictionar de cuvinte"
   ]
  },
  {
   "cell_type": "code",
   "execution_count": 1,
   "metadata": {},
   "outputs": [],
   "source": [
    "import json"
   ]
  },
  {
   "cell_type": "code",
   "execution_count": 2,
   "metadata": {},
   "outputs": [],
   "source": [
    "import sys\n",
    "sys.path.insert(0, '../library')\n",
    "\n",
    "from text_preprocessing import *\n",
    "from word2vec import *"
   ]
  },
  {
   "cell_type": "code",
   "execution_count": 4,
   "metadata": {},
   "outputs": [],
   "source": [
    "model_w2v = load_glove_50()"
   ]
  },
  {
   "cell_type": "code",
   "execution_count": 5,
   "metadata": {},
   "outputs": [],
   "source": [
    "def apply_model_w2v_prop(prop, model, size, func, print_ = False):\n",
    "    X = []\n",
    "    words = 0\n",
    "    for word in prop:\n",
    "        X_ = np.zeros(size)\n",
    "        \n",
    "        try:\n",
    "            embed = model[word]\n",
    "            for i in range(0,size):\n",
    "                X_[i] += embed[i]\n",
    "            words += 1\n",
    "        except:\n",
    "            if print_ == True:\n",
    "                print(word)\n",
    "        if words > 0 :\n",
    "            if func == 'avg':\n",
    "                for i in range(0, size):\n",
    "                    X_[i] /= words\n",
    "    return X_.tolist()\n",
    "            \n",
    "    "
   ]
  },
  {
   "cell_type": "markdown",
   "metadata": {},
   "source": [
    "## Complet"
   ]
  },
  {
   "cell_type": "code",
   "execution_count": 11,
   "metadata": {},
   "outputs": [],
   "source": [
    "for i in range(150,196):\n",
    "    fisier_citire = '../DATE/preprocess_abstract/final_abstract/file' + str(i) + '.txt'   \n",
    "    fisier_scriere = '../RESULTS/Abstract/word2vec_complete_avg/file' + str(i) + '.txt'\n",
    "    r = open(fisier_citire,'r')\n",
    "    w = open (fisier_scriere,'w')\n",
    "    \n",
    "    for linie in r:\n",
    "        linie_curenta = json.loads(linie)\n",
    "        linie_noua = {}\n",
    "        linie_noua['id'] = linie_curenta['id']\n",
    "        linie_noua['fos'] = linie_curenta['fos']\n",
    "        linie_noua['w2v'] = apply_model_w2v_prop(linie_curenta['abstract'], model_w2v, 50, 'avg')\n",
    "        w.write(json.dumps(linie_noua))\n",
    "        w.write('\\n')\n",
    "    r.close()\n",
    "    w.close()"
   ]
  },
  {
   "cell_type": "code",
   "execution_count": null,
   "metadata": {},
   "outputs": [],
   "source": []
  }
 ],
 "metadata": {
  "kernelspec": {
   "display_name": "Python 3",
   "language": "python",
   "name": "python3"
  },
  "language_info": {
   "codemirror_mode": {
    "name": "ipython",
    "version": 3
   },
   "file_extension": ".py",
   "mimetype": "text/x-python",
   "name": "python",
   "nbconvert_exporter": "python",
   "pygments_lexer": "ipython3",
   "version": "3.7.3"
  }
 },
 "nbformat": 4,
 "nbformat_minor": 2
}
