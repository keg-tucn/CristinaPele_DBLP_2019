{
 "cells": [
  {
   "cell_type": "code",
   "execution_count": 1,
   "metadata": {},
   "outputs": [],
   "source": [
    "import json"
   ]
  },
  {
   "cell_type": "code",
   "execution_count": 2,
   "metadata": {},
   "outputs": [],
   "source": [
    "import sys\n",
    "sys.path.append('../library')\n",
    "\n",
    "from helpers import *"
   ]
  },
  {
   "cell_type": "code",
   "execution_count": 3,
   "metadata": {},
   "outputs": [],
   "source": [
    "r = open('../DATE/preprocess_abstract/w2v_complete_50_sum.txt', 'r')\n",
    "X_dict = json.load(r)\n",
    "r.close()"
   ]
  },
  {
   "cell_type": "code",
   "execution_count": 4,
   "metadata": {},
   "outputs": [
    {
     "name": "stdout",
     "output_type": "stream",
     "text": [
      "1959819\n"
     ]
    }
   ],
   "source": [
    "print(len(X_dict))"
   ]
  },
  {
   "cell_type": "code",
   "execution_count": 20,
   "metadata": {},
   "outputs": [],
   "source": [
    "def get_dict_foses():\n",
    "    dict_ = {}\n",
    "    for i in range(0,196):\n",
    "        file = '../DATE/preprocess_abstract/final_abstract/file' + str(i) + '.txt'\n",
    "        r = open(file,'r')\n",
    "        \n",
    "        for linie in r:\n",
    "            articol_crt = json.loads(linie)\n",
    "            id_ = articol_crt['id']\n",
    "            fos = articol_crt['fos']\n",
    "            dict_[id_] = fos\n",
    "        r.close()\n",
    "    return dict_"
   ]
  },
  {
   "cell_type": "code",
   "execution_count": 21,
   "metadata": {},
   "outputs": [],
   "source": [
    "dict_1 = get_dict_foses()"
   ]
  },
  {
   "cell_type": "code",
   "execution_count": 22,
   "metadata": {},
   "outputs": [
    {
     "name": "stdout",
     "output_type": "stream",
     "text": [
      "1959819\n"
     ]
    }
   ],
   "source": [
    "print(len(dict_1))\n",
    "w = open('../DATE/preprocess_abstract/dict1.txt','w')\n",
    "w.write(json.dumps(dict_1))\n",
    "w.close()"
   ]
  },
  {
   "cell_type": "code",
   "execution_count": 44,
   "metadata": {},
   "outputs": [],
   "source": [
    "def calculeaza_distante_p(X, X_dict, nr):\n",
    "    distante = {}\n",
    "    for elem in X_dict:\n",
    "        distante[elem] = distance.euclidean(X, X_dict[elem])        \n",
    "    distante = sort_dict_value(distante)\n",
    "    return distante[0:nr]\n",
    "\n",
    "def get_dict_ids(X_dict):\n",
    "    dict_ = {}\n",
    "    i = 0 \n",
    "    for key in X_dict:\n",
    "        if i % 100 == 0:\n",
    "            print(i)\n",
    "        i += 1\n",
    "        new_X_dict = elimina_elem_dupa_cheie(X_dict, key)\n",
    "        # Calculeaza distantele\n",
    "        distante = calculeaza_distante_p(X_dict[key],new_X_dict, 5) \n",
    "        list_ = [] \n",
    "        for elem in distante:\n",
    "            list_.append(elem)\n",
    "        dict_[key] = list_\n",
    "    return dict_"
   ]
  },
  {
   "cell_type": "code",
   "execution_count": null,
   "metadata": {},
   "outputs": [
    {
     "name": "stdout",
     "output_type": "stream",
     "text": [
      "0\n"
     ]
    }
   ],
   "source": [
    "dict_2 = get_dict_ids(X_dict)"
   ]
  },
  {
   "cell_type": "code",
   "execution_count": null,
   "metadata": {},
   "outputs": [],
   "source": [
    "for elem in dict_1:\n",
    "    print(elem, dict_1[elem])\n",
    "    break"
   ]
  },
  {
   "cell_type": "code",
   "execution_count": 13,
   "metadata": {},
   "outputs": [
    {
     "name": "stdout",
     "output_type": "stream",
     "text": [
      "aaa authentication authorisation accounting framework define set model infrastructure protocol need interconnect aaa entity mainly deploy far radius protocol ipv network take aaa system ipv network interest issue appear need address main focus paper radius diameter protocol deploy different scenario deep analysis \n"
     ]
    }
   ],
   "source": [
    "procent1 = 0\n",
    "procent2 = 0\n",
    "total_elems = 0\n",
    "    \n",
    "for key in X_dict:\n",
    "    print(key)\n",
    "    break\n",
    "    new_X_dict = elimina_elem_dupa_cheie(X_dict, key)\n",
    "    # Calculeaza distantele\n",
    "    distante = calculeaza_distante(X_dict[key],new_X_dict, nr) \n",
    "    get_all()"
   ]
  },
  {
   "cell_type": "code",
   "execution_count": 12,
   "metadata": {},
   "outputs": [
    {
     "name": "stdout",
     "output_type": "stream",
     "text": [
      "001c58d3-26ad-46b3-ab3a-c1e557d16821\n"
     ]
    }
   ],
   "source": [
    "get_all([],[])"
   ]
  },
  {
   "cell_type": "code",
   "execution_count": null,
   "metadata": {},
   "outputs": [],
   "source": []
  }
 ],
 "metadata": {
  "kernelspec": {
   "display_name": "Python 3",
   "language": "python",
   "name": "python3"
  },
  "language_info": {
   "codemirror_mode": {
    "name": "ipython",
    "version": 3
   },
   "file_extension": ".py",
   "mimetype": "text/x-python",
   "name": "python",
   "nbconvert_exporter": "python",
   "pygments_lexer": "ipython3",
   "version": "3.7.1"
  }
 },
 "nbformat": 4,
 "nbformat_minor": 2
}
