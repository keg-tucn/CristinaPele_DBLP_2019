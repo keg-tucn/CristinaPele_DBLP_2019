{
 "cells": [
  {
   "cell_type": "markdown",
   "metadata": {},
   "source": [
    "# Preprocesare abstract\n",
    "- creeaza abstracte din indexed_abstract\n",
    "- lower + eliminarea punctuatiei \n",
    "- elimina stop_words + cuvinte cu len < 3\n",
    "- lemmatizare\n",
    "- calculeaza numarul de aparitii : dict {cuvant, nr_aparitii}\n",
    "- elimina cuvintele in functie de aparitii\n",
    "    - intre [50,3000]\n",
    "    - intre [100,10000]"
   ]
  },
  {
   "cell_type": "code",
   "execution_count": 1,
   "metadata": {},
   "outputs": [],
   "source": [
    "import json"
   ]
  },
  {
   "cell_type": "code",
   "execution_count": 2,
   "metadata": {},
   "outputs": [],
   "source": [
    "import sys\n",
    "sys.path.insert(0, '../../../library')\n",
    "\n",
    "from json_file_preprocessing import *\n",
    "from text_preprocessing import *\n",
    "from helpers import *"
   ]
  },
  {
   "cell_type": "markdown",
   "metadata": {},
   "source": [
    "## Creeaza abstracte"
   ]
  },
  {
   "cell_type": "code",
   "execution_count": null,
   "metadata": {
    "scrolled": true
   },
   "outputs": [],
   "source": [
    "j = 0\n",
    "for i in range(2,33):\n",
    "    print(i)\n",
    "    read_filePath = '../../dblp_data/preprocessedIA/file' + str(i) + '.txt'\n",
    "    write_file_path1 = '../RESULTS/Abstract/list_abstr/abstract_list' + str(j) + '.txt'\n",
    "    write_file_path2 = '../RESULTS/Abstract/list_abstr/abstract_list' + str(j + 1) + '.txt'\n",
    "    write_file_path3 = '../RESULTS/Abstract/list_abstr/abstract_list' + str(j + 2) + '.txt'\n",
    "    write_file_path4 = '../RESULTS/Abstract/list_abstr/abstract_list' + str(j + 3) + '.txt'\n",
    "    write_file_path5 = '../RESULTS/Abstract/list_abstr/abstract_list' + str(j + 4) + '.txt'\n",
    "    write_file_path6 = '../RESULTS/Abstract/list_abstr/abstract_list' + str(j + 5) + '.txt'\n",
    "    write_file_path7 = '../RESULTS/Abstract/list_abstr/abstract_list' + str(j + 6) + '.txt'\n",
    "    write_file_path8 = '../RESULTS/Abstract/list_abstr/abstract_list' + str(j + 7) + '.txt'\n",
    "    write_file_path9 = '../RESULTS/Abstract/list_abstr/abstract_list' + str(j + 8) + '.txt'\n",
    "    write_file_path10 = '../RESULTS/Abstract/list_abstr/abstract_list' + str(j + 9) + '.txt'\n",
    "    write_file_path11 = '../RESULTS/Abstract/list_abstr/abstract_list' + str(j + 10) + '.txt'\n",
    "    j += 11\n",
    "    l = [write_file_path1,write_file_path2,write_file_path3,write_file_path4,write_file_path5,write_file_path6,write_file_path7,\n",
    "        write_file_path8,write_file_path9,write_file_path10,write_file_path11]\n",
    "    creeaza_abstract(read_filePath,l)\n",
    "    "
   ]
  },
  {
   "cell_type": "markdown",
   "metadata": {},
   "source": [
    "## Lower + eliminarea punctuatiei"
   ]
  },
  {
   "cell_type": "code",
   "execution_count": null,
   "metadata": {
    "scrolled": true
   },
   "outputs": [],
   "source": [
    "for i in range(0,336):\n",
    "    if i % 10 == 0:\n",
    "        print(i)\n",
    "        \n",
    "    fisier_citire = '../RESULTS/Abstract/list_abstr/abstract_list' + str(i) + '.txt'\n",
    "    fisier_scriere = '../RESULTS/Abstract/lower_punct_abstr/abstract_list' + str(i) + '.txt'\n",
    "    r = open(fisier_citire,'r')\n",
    "    w = open(fisier_scriere,'w')\n",
    "    \n",
    "    for linie in r:\n",
    "        linie_crt = json.loads(linie)\n",
    "        abstr_crt = linie_crt['abstract']\n",
    "        linie_crt['abstract'] = elimina_punctuatia_propozitie(abstr_crt)\n",
    "        w.write(json.dumps(linie_crt))\n",
    "        w.write('\\n')\n",
    "        \n",
    "    r.close()\n",
    "    w.close()"
   ]
  },
  {
   "cell_type": "markdown",
   "metadata": {},
   "source": [
    "## Elimina stop_words + cuv cu len < 3"
   ]
  },
  {
   "cell_type": "code",
   "execution_count": null,
   "metadata": {},
   "outputs": [],
   "source": [
    "for i in range(0,336):\n",
    "    if i % 10 == 0:\n",
    "        print(i)\n",
    "        \n",
    "    fisier_citire = '../RESULTS/Abstract/lower_punct_abstr/abstract_list' + str(i) + '.txt'\n",
    "    fisier_scriere = '../RESULTS/Abstract/stop_len_abstr/abstract_list' + str(i) + '.txt'\n",
    "    r = open(fisier_citire,'r')\n",
    "    w = open(fisier_scriere,'w')\n",
    "\n",
    "    for linie in r:\n",
    "        linie_curenta = json.loads(linie)\n",
    "        abstr_crt = linie_curenta['abstract']\n",
    "        linie_curenta['abstract'] = elimina_stopwords_propozitie(abstr_crt)\n",
    "        w.write(json.dumps(linie_curenta))\n",
    "        w.write('\\n')\n",
    "        \n",
    "    r.close()\n",
    "    w.close()"
   ]
  },
  {
   "cell_type": "markdown",
   "metadata": {},
   "source": [
    "## Lemmatizare"
   ]
  },
  {
   "cell_type": "code",
   "execution_count": null,
   "metadata": {},
   "outputs": [],
   "source": [
    "for i in range(0,336):\n",
    "    if i % 10 == 0:\n",
    "        print(i)\n",
    "        \n",
    "    fisier_citire = '../RESULTS/Abstract/stop_len_abstr/abstract_list' + str(i) + '.txt'\n",
    "    fisier_scriere = '../RESULTS/Abstract/lemma_abstr/abstract_list' + str(i) + '.txt'\n",
    "    r = open(fisier_citire,'r')\n",
    "    w = open(fisier_scriere,'w')\n",
    "\n",
    "    for linie in r:\n",
    "        linie_curenta = json.loads(linie)\n",
    "        abstr_crt = linie_curenta['abstract']\n",
    "        linie_curenta['abstract'] = lemma_propozitie(abstr_crt)\n",
    "        w.write(json.dumps(linie_curenta))\n",
    "        w.write('\\n')\n",
    "    r.close()\n",
    "    w.close()"
   ]
  },
  {
   "cell_type": "markdown",
   "metadata": {},
   "source": [
    "## Creeaza dictionar de cuvinte"
   ]
  },
  {
   "cell_type": "code",
   "execution_count": null,
   "metadata": {},
   "outputs": [],
   "source": [
    "dict_apar_cuvinte = {}\n",
    "for i in range(0,336):\n",
    "    fisier_citire = '../RESULTS/Abstract/lemma_abstr/abstract_list' + str(i) + '.txt'\n",
    "    r = open(fisier_citire,'r')\n",
    "    \n",
    "    for linie in r:\n",
    "        linie_curenta = json.loads(linie)\n",
    "        abstr_crt = linie_curenta['abstract']\n",
    "        dict_apar_cuvinte = dict_aparitii_propozitie(abstr_crt, dict_apar_cuvinte)\n",
    "        \n",
    "    print(i, len(dict_apar_cuvinte))\n",
    "    r.close()"
   ]
  },
  {
   "cell_type": "code",
   "execution_count": 32,
   "metadata": {},
   "outputs": [],
   "source": [
    "print(len(dict_apar_cuvinte))\n",
    "dict_cuvinte_sort = sort_dict_value(dict_apar_cuvinte)\n",
    "print(len(dict_cuvinte_sort))\n",
    "w = open('../RESULTS/Abstract/dict_cuvinte_sort.txt','w')\n",
    "w.write(json.dumps(dict_cuvinte_sort))\n",
    "w.close()\n",
    "w = open('../RESULTS/Abstract/dict_cuvinte.txt','w')\n",
    "w.write(json.dumps(dict_apar_cuvinte))\n",
    "w.close()"
   ]
  },
  {
   "cell_type": "markdown",
   "metadata": {},
   "source": [
    "## Elimina dupa aparitii"
   ]
  },
  {
   "cell_type": "code",
   "execution_count": 33,
   "metadata": {},
   "outputs": [
    {
     "name": "stdout",
     "output_type": "stream",
     "text": [
      "6408\n"
     ]
    }
   ],
   "source": [
    "r = open('../RESULTS/Abstract/dict_cuvinte.txt','r')\n",
    "dict_cuv_final = json.load(r)\n",
    "r.close()\n",
    "print(len(dict_cuv_final))"
   ]
  },
  {
   "cell_type": "code",
   "execution_count": null,
   "metadata": {},
   "outputs": [],
   "source": [
    "empty = 0\n",
    "for i in range(0,336):\n",
    "    if i % 10 == 0:\n",
    "        print(i)\n",
    "    fisier_citire = '../RESULTS/Abstract/lemma_abstr/abstract_list' + str(i) + '.txt'\n",
    "    fisier_scriere = '../RESULTS/Abstract/eliminat_100_10000/abstract_list' + str(i) + '.txt'\n",
    "    r = open(fisier_citire,'r')\n",
    "    w = open(fisier_scriere,'w')\n",
    "    \n",
    "    for linie in r:\n",
    "        linie_curenta = json.loads(linie)\n",
    "        abstr_crt = linie_curenta['abstract']\n",
    "        linie_curenta['abstract'] = elimina_aparitii_propozitie(dict_apar_cuvinte, dict_cuv_final, 100, 10000)\n",
    "        if len(linie_curenta['abstract']) == 0:\n",
    "            empty += 1\n",
    "        w.write(json.dumps(linie_curenta))\n",
    "        w.write('\\n')\n",
    "        \n",
    "    r.close()\n",
    "    w.close()\n",
    "    \n",
    "print(empty, ' abstracte goale')"
   ]
  },
  {
   "cell_type": "markdown",
   "metadata": {},
   "source": [
    "## ELiminare cuvinte din dictionar dupa aparitii"
   ]
  },
  {
   "cell_type": "code",
   "execution_count": 43,
   "metadata": {},
   "outputs": [
    {
     "name": "stdout",
     "output_type": "stream",
     "text": [
      "2350\n",
      "2320\n"
     ]
    }
   ],
   "source": [
    "dict_nou1 = eliminare_aparitii_dict(dict_apar_cuvinte, 50, 3000)\n",
    "w = open('../RESULTS/Abstract/dict_cuvinte_50_3000.txt','w')\n",
    "w.write(json.dumps(dict_nou1))\n",
    "w.close()\n",
    "print(len(dict_nou1))\n",
    "dict_nou2 = eliminare_aparitii_dict(dict_apar_cuvinte, 100, 10000)\n",
    "w = open('../RESULTS/Abstract/dict_cuvinte_100_10000.txt','w')\n",
    "w.write(json.dumps(dict_nou2))\n",
    "w.close()\n",
    "print(len(dict_nou2))"
   ]
  },
  {
   "cell_type": "markdown",
   "metadata": {},
   "source": [
    "## Salveaza lista de cuvinte"
   ]
  },
  {
   "cell_type": "code",
   "execution_count": 45,
   "metadata": {},
   "outputs": [],
   "source": [
    "lista_cuv_completa = dict_to_lista(dict_apar_cuvinte)\n",
    "w = open('../RESULTS/Abstract/lista_cuvinte_completa.txt','w')\n",
    "w.write(json.dumps(lista_cuv_completa))\n",
    "w.close()\n",
    "\n",
    "\n",
    "lista_cuv_50_3000 = dict_to_lista(dict_nou1)\n",
    "w = open('../RESULTS/Abstract/lista_cuvinte_50_3000.txt','w')\n",
    "w.write(json.dumps(lista_cuv_50_3000))\n",
    "w.close()\n",
    "\n",
    "lista_cuv_100_10000 = dict_to_lista(dict_nou2)\n",
    "w = open('../RESULTS/Abstract/lista_cuvinte_100_10000.txt','w')\n",
    "w.write(json.dumps(lista_cuv_100_10000))\n",
    "w.close()"
   ]
  },
  {
   "cell_type": "code",
   "execution_count": null,
   "metadata": {},
   "outputs": [],
   "source": []
  }
 ],
 "metadata": {
  "kernelspec": {
   "display_name": "Python 3",
   "language": "python",
   "name": "python3"
  },
  "language_info": {
   "codemirror_mode": {
    "name": "ipython",
    "version": 3
   },
   "file_extension": ".py",
   "mimetype": "text/x-python",
   "name": "python",
   "nbconvert_exporter": "python",
   "pygments_lexer": "ipython3",
   "version": "3.7.3"
  }
 },
 "nbformat": 4,
 "nbformat_minor": 2
}
