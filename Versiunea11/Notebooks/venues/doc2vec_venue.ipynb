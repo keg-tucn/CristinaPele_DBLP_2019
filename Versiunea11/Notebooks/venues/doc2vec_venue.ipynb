{
 "cells": [
  {
   "cell_type": "code",
   "execution_count": 1,
   "metadata": {},
   "outputs": [],
   "source": [
    "import json"
   ]
  },
  {
   "cell_type": "code",
   "execution_count": 2,
   "metadata": {},
   "outputs": [],
   "source": [
    "import sys\n",
    "sys.path.append('../library')\n",
    "\n",
    "from json_file_preprocessing import *\n",
    "from text_preprocessing import *\n",
    "from helpers import *\n",
    "from doc2vec import *"
   ]
  },
  {
   "cell_type": "code",
   "execution_count": 6,
   "metadata": {},
   "outputs": [],
   "source": [
    "def get_lista_venue(cale):\n",
    "    lista_venue = []\n",
    "    for i in range(0,196):\n",
    "        file = cale +str(i)+'.txt'\n",
    "        r = open(file,'r')\n",
    "\n",
    "        for linie in r:\n",
    "            articol_curent = json.loads(linie)\n",
    "            venue = articol_curent['venue']\n",
    "            if venue not in lista_venue:\n",
    "                lista_venue.append(articol_curent['venue'])\n",
    "        r.close()\n",
    "    return lista_venue\n",
    "        \n",
    "    \n",
    "def calculeaza_doc2vec_documente(lista_,model, fisier,pas=0):\n",
    "    rezultate_d2v = {}\n",
    "    i = 0\n",
    "    for elem in lista_:\n",
    "        if pas!= 0 and i %pas == 0:\n",
    "            print(i)\n",
    "        i += 1\n",
    "        string_elem = \"\"\n",
    "        for e in elem:\n",
    "            string_elem += str(e) + \" \"\n",
    "        rezultate_d2v[string_elem[0:len(string_elem)-1]] = aplica_model_d2v(model_d2v, elem)\n",
    "    w = open(fisier,'w')\n",
    "    w.write(json.dumps(rezultate_d2v))\n",
    "    w.close()"
   ]
  },
  {
   "cell_type": "code",
   "execution_count": 4,
   "metadata": {},
   "outputs": [],
   "source": [
    "model_d2v = load_doc2vec_model('../models/enwiki_dbow/doc2vec.bin')"
   ]
  },
  {
   "cell_type": "markdown",
   "metadata": {},
   "source": [
    "## Complet"
   ]
  },
  {
   "cell_type": "code",
   "execution_count": 10,
   "metadata": {},
   "outputs": [
    {
     "name": "stdout",
     "output_type": "stream",
     "text": [
      "3694\n"
     ]
    }
   ],
   "source": [
    "lista_venue = get_lista_venue('../DATE/preprocess_venue/2/file')\n",
    "print(len(lista_venue))\n",
    "calculeaza_doc2vec_documente(lista_venue,model_d2v,'../DATE/preprocess_venue/venues_d2v.txt',100)"
   ]
  },
  {
   "cell_type": "markdown",
   "metadata": {},
   "source": [
    "## 5-1000 TF"
   ]
  },
  {
   "cell_type": "code",
   "execution_count": 7,
   "metadata": {
    "scrolled": true
   },
   "outputs": [
    {
     "name": "stdout",
     "output_type": "stream",
     "text": [
      "792\n"
     ]
    }
   ],
   "source": [
    "lista_venue = get_lista_venue('../DATE/preprocess_venue/5_1000/file')\n",
    "print(len(lista_venue))\n",
    "calculeaza_doc2vec_documente(lista_venue,model_d2v,'../DATE/preprocess_venue/venues_5_1000_d2v.txt')"
   ]
  },
  {
   "cell_type": "markdown",
   "metadata": {},
   "source": [
    "## 25-5000 TF"
   ]
  },
  {
   "cell_type": "code",
   "execution_count": 12,
   "metadata": {},
   "outputs": [
    {
     "name": "stdout",
     "output_type": "stream",
     "text": [
      "1095\n"
     ]
    }
   ],
   "source": [
    "lista_venue = get_lista_venue('../DATE/preprocess_venue/25_5000/file')\n",
    "print(len(lista_venue))\n",
    "calculeaza_doc2vec_documente(lista_venue,model_d2v,'../DATE/preprocess_venue/venues_25_500_d2v.txt')"
   ]
  },
  {
   "cell_type": "markdown",
   "metadata": {},
   "source": [
    "## TF-IDF"
   ]
  },
  {
   "cell_type": "code",
   "execution_count": null,
   "metadata": {},
   "outputs": [],
   "source": []
  }
 ],
 "metadata": {
  "kernelspec": {
   "display_name": "Python 3",
   "language": "python",
   "name": "python3"
  },
  "language_info": {
   "codemirror_mode": {
    "name": "ipython",
    "version": 3
   },
   "file_extension": ".py",
   "mimetype": "text/x-python",
   "name": "python",
   "nbconvert_exporter": "python",
   "pygments_lexer": "ipython3",
   "version": "3.7.1"
  }
 },
 "nbformat": 4,
 "nbformat_minor": 2
}
