{
 "cells": [
  {
   "cell_type": "code",
   "execution_count": 1,
   "metadata": {},
   "outputs": [],
   "source": [
    "import json\n",
    "import sys\n",
    "sys.path.append('../library')\n",
    "from clustering import *"
   ]
  },
  {
   "cell_type": "code",
   "execution_count": 2,
   "metadata": {},
   "outputs": [],
   "source": [
    "def apply_XMeans_p(X, nr_cluster_initial, kmax):\n",
    "    print(len(X))\n",
    "    initial_centers = kmeans_plusplus_initializer([1,2,3], 1).initialize()#, kmeans_plusplus_initializer.FARTHEST_CENTER_CANDIDATE).initialize()\n",
    "\n",
    "    xmeans_instance = xmeans(X, initial_centers, kmax)\n",
    "    xmeans_instance.process()\n",
    "\n",
    "    return xmeans_instance\n",
    "\n",
    "def get_list(X):\n",
    "    X_list = []\n",
    "    for elem in X:\n",
    "        X_list.append(X[elem])\n",
    "    return X_list\n",
    "\n",
    "def load_xmeans_fuzzy(path):\n",
    "    r = open(path)\n",
    "    X = json.load(r)\n",
    "    print('size vector ',len(X))\n",
    "    X_list = get_list(X)\n",
    "    print(X_list[0:3])\n",
    "    xmeans = apply_XMeans_p(X_list[:10],1,100)\n",
    "    print(type(xmeans.get_clusters()))\n",
    "    cls = len(xmeans.get_clusters())\n",
    "    print(cls)\n",
    "    fcm = apply_fuzzy(X,cls)\n",
    "    return [xmeans,fcm]"
   ]
  },
  {
   "cell_type": "markdown",
   "metadata": {},
   "source": [
    "## Apply doc2vec"
   ]
  },
  {
   "cell_type": "code",
   "execution_count": 16,
   "metadata": {},
   "outputs": [],
   "source": [
    "load_xmeans_fuzzy('../DATE/preprocess_venue/venues_d2v.txt')"
   ]
  },
  {
   "cell_type": "code",
   "execution_count": null,
   "metadata": {},
   "outputs": [],
   "source": [
    "print(len(X_dict))\n",
    "X = []\n",
    "for elem in X_dict:\n",
    "    X.append(X_dict[elem])\n",
    "print(len(X))"
   ]
  },
  {
   "cell_type": "code",
   "execution_count": 14,
   "metadata": {},
   "outputs": [],
   "source": [
    "xmeans = apply_XMeans(X,1,100)"
   ]
  },
  {
   "cell_type": "code",
   "execution_count": 15,
   "metadata": {},
   "outputs": [
    {
     "name": "stdout",
     "output_type": "stream",
     "text": [
      "2\n"
     ]
    }
   ],
   "source": [
    "print(len(xmeans.get_clusters()))"
   ]
  },
  {
   "cell_type": "code",
   "execution_count": 8,
   "metadata": {},
   "outputs": [],
   "source": [
    "fcm = apply_fuzzy(X,56)"
   ]
  },
  {
   "cell_type": "code",
   "execution_count": 9,
   "metadata": {},
   "outputs": [
    {
     "name": "stdout",
     "output_type": "stream",
     "text": [
      "56\n"
     ]
    }
   ],
   "source": [
    "print(len(fcm.get_clusters()))"
   ]
  },
  {
   "cell_type": "markdown",
   "metadata": {},
   "source": [
    "## Apply w2v complete"
   ]
  },
  {
   "cell_type": "code",
   "execution_count": 4,
   "metadata": {},
   "outputs": [
    {
     "name": "stdout",
     "output_type": "stream",
     "text": [
      "size vector  3692\n",
      "[[2.359600067138672, -0.14389200694859028, 0.252780020236969, 0.4560500383377075, -0.9565399885177612, 1.6973079536110163, 1.4733299612998962, -0.30069994926452637, 1.7283999919891357, -0.008270025253295898, 2.309560000896454, -0.9071899950504303, 0.030579984188079834, 1.0303800106048584, -1.4831300377845764, 1.1615340411663055, -3.16349995136261, -0.8831700012087822, -0.755432989448309, -0.35860700719058514, -0.8010500073432922, 0.12255001068115234, 0.4437299966812134, -1.1961200088262558, -0.5809099972248077, 0.28425701148808, -1.0372900068759918, 0.34160998463630676, -0.15588000416755676, -0.19221997261047363, 3.262700080871582, 1.3549500182271004, 1.0802299976348877, -1.5726099908351898, -0.5894595244899392, 1.4457099437713623, 1.5208099484443665, 2.5382299423217773, 1.9386900067329407, 0.4656129777431488, 0.9432899504899979, 1.1942400336265564, -1.1594859436154366, 1.2285400032997131, 0.9095999896526337, -0.21160899847745895, 2.579900026321411, 0.7149340026080608, -0.692922011949122, 1.4418100118637085], [-1.34817598387599, 1.1992399841547012, -1.6629599928855896, -0.7282499819993973, -0.27139899507164955, -0.9742099940776825, 0.03271001577377319, -1.2671699821949005, 0.9744599871337414, -0.5251375192310661, 0.8452549949288368, -0.38809400610625744, 0.42885997891426086, 0.5365099906921387, -0.7767129987478256, -0.032929956912994385, -1.3895099759101868, 0.6274000108242035, 0.7732800245285034, 0.8298300206661224, 0.9332700073719025, 1.312880039215088, -0.4046170115470886, -0.3753162072971463, -0.8982499986886978, -0.9375079907476902, -1.3147900104522705, -1.9324299693107605, -2.3979600071907043, 0.7346249781548977, 2.9274399876594543, 0.0692100077867508, 0.15636430541053414, -2.9215999841690063, 0.4186200052499771, 1.416949987411499, 0.17680001258850098, 2.434499979019165, 1.337280996143818, 0.30229997634887695, -0.026249989867210388, -0.4926000088453293, 0.2605779841542244, 2.0381199717521667, 0.1611500084400177, 0.1322699785232544, 1.3256400227546692, 1.6849600076675415, -1.1839099824428558, 1.3057989552617073], [-1.109739989042282, 1.5997699946165085, -2.746479980647564, 0.26681001484394073, -0.4871699810028076, -0.6733199805021286, 0.26562000811100006, -0.6699750050902367, 0.7212980054318905, -0.9312709793448448, 2.1800601184368134, -0.3153889998793602, -0.46296000480651855, 0.34223101381212473, -1.894499957561493, -0.8791249915957451, -1.1064683734439313, 2.4237900376319885, -1.2117899656295776, 0.42844997346401215, 4.906559944152832, 2.2355899810791016, -0.42625002562999725, -1.413479968905449, -1.258745988830924, -4.626269996166229, -3.070580005645752, -3.931329995393753, -5.600529909133911, -0.09987999498844147, 8.5621999502182, -1.2671000063419342, -1.9161359872668982, -5.829499959945679, 0.3507499694824219, 0.3733200132846832, -0.0635400116443634, 3.0323899686336517, 3.280989959836006, 0.3261699974536896, 0.17743099108338356, -2.166140004992485, 0.8695719968527555, 0.2838100418448448, -1.4775889590382576, 1.0520399808883667, 1.4906099885702133, 1.3835967970080674, -1.1279039978981018, -0.1643490009009838]]\n",
      "10\n"
     ]
    },
    {
     "ename": "OSError",
     "evalue": "[WinError -529697949] Windows Error 0xe06d7363",
     "output_type": "error",
     "traceback": [
      "\u001b[1;31m---------------------------------------------------------------------------\u001b[0m",
      "\u001b[1;31mOSError\u001b[0m                                   Traceback (most recent call last)",
      "\u001b[1;32m<ipython-input-4-2cfe229b577c>\u001b[0m in \u001b[0;36m<module>\u001b[1;34m\u001b[0m\n\u001b[1;32m----> 1\u001b[1;33m \u001b[1;33m[\u001b[0m\u001b[0mxm\u001b[0m\u001b[1;33m,\u001b[0m\u001b[0mfcm\u001b[0m\u001b[1;33m]\u001b[0m \u001b[1;33m=\u001b[0m \u001b[0mload_xmeans_fuzzy\u001b[0m\u001b[1;33m(\u001b[0m\u001b[1;34m'../DATE/preprocess_venue/w2v_sum_50_c.txt'\u001b[0m\u001b[1;33m)\u001b[0m\u001b[1;33m\u001b[0m\u001b[1;33m\u001b[0m\u001b[0m\n\u001b[0m",
      "\u001b[1;32m<ipython-input-2-da19091964eb>\u001b[0m in \u001b[0;36mload_xmeans_fuzzy\u001b[1;34m(path)\u001b[0m\n\u001b[0;32m     20\u001b[0m     \u001b[0mX_list\u001b[0m \u001b[1;33m=\u001b[0m \u001b[0mget_list\u001b[0m\u001b[1;33m(\u001b[0m\u001b[0mX\u001b[0m\u001b[1;33m)\u001b[0m\u001b[1;33m\u001b[0m\u001b[1;33m\u001b[0m\u001b[0m\n\u001b[0;32m     21\u001b[0m     \u001b[0mprint\u001b[0m\u001b[1;33m(\u001b[0m\u001b[0mX_list\u001b[0m\u001b[1;33m[\u001b[0m\u001b[1;36m0\u001b[0m\u001b[1;33m:\u001b[0m\u001b[1;36m3\u001b[0m\u001b[1;33m]\u001b[0m\u001b[1;33m)\u001b[0m\u001b[1;33m\u001b[0m\u001b[1;33m\u001b[0m\u001b[0m\n\u001b[1;32m---> 22\u001b[1;33m     \u001b[0mxmeans\u001b[0m \u001b[1;33m=\u001b[0m \u001b[0mapply_XMeans_p\u001b[0m\u001b[1;33m(\u001b[0m\u001b[0mX_list\u001b[0m\u001b[1;33m[\u001b[0m\u001b[1;33m:\u001b[0m\u001b[1;36m10\u001b[0m\u001b[1;33m]\u001b[0m\u001b[1;33m,\u001b[0m\u001b[1;36m1\u001b[0m\u001b[1;33m,\u001b[0m\u001b[1;36m100\u001b[0m\u001b[1;33m)\u001b[0m\u001b[1;33m\u001b[0m\u001b[1;33m\u001b[0m\u001b[0m\n\u001b[0m\u001b[0;32m     23\u001b[0m     \u001b[0mprint\u001b[0m\u001b[1;33m(\u001b[0m\u001b[0mtype\u001b[0m\u001b[1;33m(\u001b[0m\u001b[0mxmeans\u001b[0m\u001b[1;33m.\u001b[0m\u001b[0mget_clusters\u001b[0m\u001b[1;33m(\u001b[0m\u001b[1;33m)\u001b[0m\u001b[1;33m)\u001b[0m\u001b[1;33m)\u001b[0m\u001b[1;33m\u001b[0m\u001b[1;33m\u001b[0m\u001b[0m\n\u001b[0;32m     24\u001b[0m     \u001b[0mcls\u001b[0m \u001b[1;33m=\u001b[0m \u001b[0mlen\u001b[0m\u001b[1;33m(\u001b[0m\u001b[0mxmeans\u001b[0m\u001b[1;33m.\u001b[0m\u001b[0mget_clusters\u001b[0m\u001b[1;33m(\u001b[0m\u001b[1;33m)\u001b[0m\u001b[1;33m)\u001b[0m\u001b[1;33m\u001b[0m\u001b[1;33m\u001b[0m\u001b[0m\n",
      "\u001b[1;32m<ipython-input-2-da19091964eb>\u001b[0m in \u001b[0;36mapply_XMeans_p\u001b[1;34m(X, nr_cluster_initial, kmax)\u001b[0m\n\u001b[0;32m      4\u001b[0m \u001b[1;33m\u001b[0m\u001b[0m\n\u001b[0;32m      5\u001b[0m     \u001b[0mxmeans_instance\u001b[0m \u001b[1;33m=\u001b[0m \u001b[0mxmeans\u001b[0m\u001b[1;33m(\u001b[0m\u001b[0mX\u001b[0m\u001b[1;33m,\u001b[0m \u001b[0minitial_centers\u001b[0m\u001b[1;33m,\u001b[0m \u001b[0mkmax\u001b[0m\u001b[1;33m)\u001b[0m\u001b[1;33m\u001b[0m\u001b[1;33m\u001b[0m\u001b[0m\n\u001b[1;32m----> 6\u001b[1;33m     \u001b[0mxmeans_instance\u001b[0m\u001b[1;33m.\u001b[0m\u001b[0mprocess\u001b[0m\u001b[1;33m(\u001b[0m\u001b[1;33m)\u001b[0m\u001b[1;33m\u001b[0m\u001b[1;33m\u001b[0m\u001b[0m\n\u001b[0m\u001b[0;32m      7\u001b[0m \u001b[1;33m\u001b[0m\u001b[0m\n\u001b[0;32m      8\u001b[0m     \u001b[1;32mreturn\u001b[0m \u001b[0mxmeans_instance\u001b[0m\u001b[1;33m\u001b[0m\u001b[1;33m\u001b[0m\u001b[0m\n",
      "\u001b[1;32mc:\\users\\cristina\\appdata\\local\\programs\\python\\python37\\lib\\site-packages\\pyclustering\\cluster\\xmeans.py\u001b[0m in \u001b[0;36mprocess\u001b[1;34m(self)\u001b[0m\n\u001b[0;32m    167\u001b[0m \u001b[1;33m\u001b[0m\u001b[0m\n\u001b[0;32m    168\u001b[0m         \u001b[1;32mif\u001b[0m \u001b[1;33m(\u001b[0m\u001b[0mself\u001b[0m\u001b[1;33m.\u001b[0m\u001b[0m__ccore\u001b[0m \u001b[1;32mis\u001b[0m \u001b[1;32mTrue\u001b[0m\u001b[1;33m)\u001b[0m\u001b[1;33m:\u001b[0m\u001b[1;33m\u001b[0m\u001b[1;33m\u001b[0m\u001b[0m\n\u001b[1;32m--> 169\u001b[1;33m             \u001b[0mself\u001b[0m\u001b[1;33m.\u001b[0m\u001b[0m__clusters\u001b[0m\u001b[1;33m,\u001b[0m \u001b[0mself\u001b[0m\u001b[1;33m.\u001b[0m\u001b[0m__centers\u001b[0m \u001b[1;33m=\u001b[0m \u001b[0mwrapper\u001b[0m\u001b[1;33m.\u001b[0m\u001b[0mxmeans\u001b[0m\u001b[1;33m(\u001b[0m\u001b[0mself\u001b[0m\u001b[1;33m.\u001b[0m\u001b[0m__pointer_data\u001b[0m\u001b[1;33m,\u001b[0m \u001b[0mself\u001b[0m\u001b[1;33m.\u001b[0m\u001b[0m__centers\u001b[0m\u001b[1;33m,\u001b[0m \u001b[0mself\u001b[0m\u001b[1;33m.\u001b[0m\u001b[0m__kmax\u001b[0m\u001b[1;33m,\u001b[0m \u001b[0mself\u001b[0m\u001b[1;33m.\u001b[0m\u001b[0m__tolerance\u001b[0m\u001b[1;33m,\u001b[0m \u001b[0mself\u001b[0m\u001b[1;33m.\u001b[0m\u001b[0m__criterion\u001b[0m\u001b[1;33m)\u001b[0m\u001b[1;33m\u001b[0m\u001b[1;33m\u001b[0m\u001b[0m\n\u001b[0m\u001b[0;32m    170\u001b[0m \u001b[1;33m\u001b[0m\u001b[0m\n\u001b[0;32m    171\u001b[0m         \u001b[1;32melse\u001b[0m\u001b[1;33m:\u001b[0m\u001b[1;33m\u001b[0m\u001b[1;33m\u001b[0m\u001b[0m\n",
      "\u001b[1;32mc:\\users\\cristina\\appdata\\local\\programs\\python\\python37\\lib\\site-packages\\pyclustering\\core\\xmeans_wrapper.py\u001b[0m in \u001b[0;36mxmeans\u001b[1;34m(sample, centers, kmax, tolerance, criterion)\u001b[0m\n\u001b[0;32m     38\u001b[0m \u001b[1;33m\u001b[0m\u001b[0m\n\u001b[0;32m     39\u001b[0m     \u001b[0mccore\u001b[0m\u001b[1;33m.\u001b[0m\u001b[0mxmeans_algorithm\u001b[0m\u001b[1;33m.\u001b[0m\u001b[0mrestype\u001b[0m \u001b[1;33m=\u001b[0m \u001b[0mPOINTER\u001b[0m\u001b[1;33m(\u001b[0m\u001b[0mpyclustering_package\u001b[0m\u001b[1;33m)\u001b[0m\u001b[1;33m;\u001b[0m\u001b[1;33m\u001b[0m\u001b[1;33m\u001b[0m\u001b[0m\n\u001b[1;32m---> 40\u001b[1;33m     \u001b[0mpackage\u001b[0m \u001b[1;33m=\u001b[0m \u001b[0mccore\u001b[0m\u001b[1;33m.\u001b[0m\u001b[0mxmeans_algorithm\u001b[0m\u001b[1;33m(\u001b[0m\u001b[0mpointer_data\u001b[0m\u001b[1;33m,\u001b[0m \u001b[0mpointer_centers\u001b[0m\u001b[1;33m,\u001b[0m \u001b[0mc_size_t\u001b[0m\u001b[1;33m(\u001b[0m\u001b[0mkmax\u001b[0m\u001b[1;33m)\u001b[0m\u001b[1;33m,\u001b[0m \u001b[0mc_double\u001b[0m\u001b[1;33m(\u001b[0m\u001b[0mtolerance\u001b[0m\u001b[1;33m)\u001b[0m\u001b[1;33m,\u001b[0m \u001b[0mc_uint\u001b[0m\u001b[1;33m(\u001b[0m\u001b[0mcriterion\u001b[0m\u001b[1;33m)\u001b[0m\u001b[1;33m)\u001b[0m\u001b[1;33m;\u001b[0m\u001b[1;33m\u001b[0m\u001b[1;33m\u001b[0m\u001b[0m\n\u001b[0m\u001b[0;32m     41\u001b[0m \u001b[1;33m\u001b[0m\u001b[0m\n\u001b[0;32m     42\u001b[0m     \u001b[0mresult\u001b[0m \u001b[1;33m=\u001b[0m \u001b[0mpackage_extractor\u001b[0m\u001b[1;33m(\u001b[0m\u001b[0mpackage\u001b[0m\u001b[1;33m)\u001b[0m\u001b[1;33m.\u001b[0m\u001b[0mextract\u001b[0m\u001b[1;33m(\u001b[0m\u001b[1;33m)\u001b[0m\u001b[1;33m;\u001b[0m\u001b[1;33m\u001b[0m\u001b[1;33m\u001b[0m\u001b[0m\n",
      "\u001b[1;31mOSError\u001b[0m: [WinError -529697949] Windows Error 0xe06d7363"
     ]
    }
   ],
   "source": [
    "[xm,fcm] = load_xmeans_fuzzy('../DATE/preprocess_venue/w2v_sum_50_c.txt')"
   ]
  },
  {
   "cell_type": "code",
   "execution_count": 21,
   "metadata": {},
   "outputs": [
    {
     "name": "stdout",
     "output_type": "stream",
     "text": [
      "3692\n",
      "12\n"
     ]
    }
   ],
   "source": [
    "[xm,fcm] = load_xmeans_fuzzy ('../DATE/preprocess_venue/w2v_avg_50_c.txt')"
   ]
  },
  {
   "cell_type": "markdown",
   "metadata": {},
   "source": [
    "## Apply w2v 5-1000"
   ]
  },
  {
   "cell_type": "code",
   "execution_count": 6,
   "metadata": {},
   "outputs": [
    {
     "name": "stdout",
     "output_type": "stream",
     "text": [
      "size vector  790\n",
      "[[1.1632000207901, 0.02956799976527691, -0.7263000011444092, -0.3935999870300293, -0.525189995765686, 1.6785999536514282, 1.3172999620437622, 1.1164000034332275, 0.6660000085830688, -0.7813000082969666, 0.670960009098053, -0.627839982509613, -0.4358600080013275, 0.4359099864959717, -0.3190299868583679, 0.022633999586105347, -1.7690999507904053, -0.8016600012779236, -0.05613299831748009, -0.020887000486254692, -1.180400013923645, -0.2183299958705902, 0.7109299898147583, -0.2225400060415268, -0.3499099910259247, 0.26548001170158386, 0.21491000056266785, 0.7854999899864197, 0.2306700050830841, 0.39581000804901123, 1.682800054550171, 1.4606000185012817, 1.4138000011444092, 0.13999000191688538, -0.5802500247955322, 1.1663999557495117, 0.8393399715423584, 0.8610299825668335, 1.2071000337600708, 0.5377299785614014, -0.13691000640392303, 0.6486300230026245, -1.0714999437332153, 0.5534999966621399, 0.5929999947547913, -0.0996989980340004, 1.0604000091552734, 0.04336399957537651, -0.6781600117683411, 0.6779400110244751], [-0.24617999792099, 0.39671000838279724, -0.48976999521255493, -0.7463300228118896, -0.024914000183343887, -0.17840999364852905, 0.7646499872207642, -1.0753999948501587, -0.89274001121521, 1.6777000427246094, 0.6962000131607056, 0.03989100083708763, 0.3435400128364563, 0.2326499968767166, -0.8515200018882751, -0.28929001092910767, 0.13714000582695007, -0.1406800001859665, 0.45048999786376953, -0.4858599901199341, 0.1614599972963333, -0.2783600091934204, -0.5592700242996216, -0.29837000370025635, 0.31088998913764954, 0.4124000072479248, -0.7217199802398682, 0.4826500117778778, 0.9427899718284607, 0.4112800061702728, 1.3420000076293945, -1.148800015449524, -0.1192300021648407, -1.301800012588501, -0.35102999210357666, 0.11984000355005264, -0.7166799902915955, 0.6650999784469604, 0.20927000045776367, 0.440310001373291, 0.8745599985122681, -0.39201998710632324, 0.32986000180244446, 0.5461199879646301, -0.9416000247001648, -0.6210600137710571, 1.3990999460220337, -0.09632200002670288, 0.37446001172065735, -0.513729989528656], [-1.3899999856948853, 1.3669999837875366, -0.935920000076294, -0.917389988899231, 0.026590999215841293, -0.2511099874973297, -0.24393999576568604, -0.8470699787139893, 0.026480000466108322, -0.0010275000240653753, -0.03395500034093857, -0.35690000653266907, -0.27522000670433044, -0.15189999341964722, 0.09082700312137604, -0.5682299733161926, 0.10029000043869019, 0.4302400052547455, 0.6636000275611877, 0.44328001141548157, 0.5543000102043152, 0.5562400221824646, 0.09519299864768982, 0.008203799836337566, -0.2473600059747696, -0.9069899916648865, -0.47255998849868774, -1.0321999788284302, -1.5612000226974487, 0.7946199774742126, 2.746299982070923, 0.20201000571250916, 0.16106000542640686, -1.792799949645996, 0.21071000397205353, 0.7831699848175049, -0.5706300139427185, 1.344499945640564, -0.0499190017580986, -0.2856900095939636, -0.2473199963569641, -0.6304500102996826, -0.06207200139760971, 0.9441199898719788, -0.35580000281333923, -0.53507000207901, 0.5118100047111511, 1.2422000169754028, -0.4522300064563751, 0.08909899741411209]]\n",
      "10\n"
     ]
    },
    {
     "ename": "OSError",
     "evalue": "[WinError -529697949] Windows Error 0xe06d7363",
     "output_type": "error",
     "traceback": [
      "\u001b[1;31m---------------------------------------------------------------------------\u001b[0m",
      "\u001b[1;31mOSError\u001b[0m                                   Traceback (most recent call last)",
      "\u001b[1;32m<ipython-input-6-b984c17f6a3c>\u001b[0m in \u001b[0;36m<module>\u001b[1;34m\u001b[0m\n\u001b[1;32m----> 1\u001b[1;33m \u001b[1;33m[\u001b[0m\u001b[0mxm\u001b[0m\u001b[1;33m,\u001b[0m\u001b[0mfcm\u001b[0m\u001b[1;33m]\u001b[0m \u001b[1;33m=\u001b[0m \u001b[0mload_xmeans_fuzzy\u001b[0m\u001b[1;33m(\u001b[0m\u001b[1;34m'../DATE/preprocess_venue/w2v_avg_50_5-1000.txt'\u001b[0m\u001b[1;33m)\u001b[0m\u001b[1;33m\u001b[0m\u001b[1;33m\u001b[0m\u001b[0m\n\u001b[0m",
      "\u001b[1;32m<ipython-input-2-da19091964eb>\u001b[0m in \u001b[0;36mload_xmeans_fuzzy\u001b[1;34m(path)\u001b[0m\n\u001b[0;32m     20\u001b[0m     \u001b[0mX_list\u001b[0m \u001b[1;33m=\u001b[0m \u001b[0mget_list\u001b[0m\u001b[1;33m(\u001b[0m\u001b[0mX\u001b[0m\u001b[1;33m)\u001b[0m\u001b[1;33m\u001b[0m\u001b[1;33m\u001b[0m\u001b[0m\n\u001b[0;32m     21\u001b[0m     \u001b[0mprint\u001b[0m\u001b[1;33m(\u001b[0m\u001b[0mX_list\u001b[0m\u001b[1;33m[\u001b[0m\u001b[1;36m0\u001b[0m\u001b[1;33m:\u001b[0m\u001b[1;36m3\u001b[0m\u001b[1;33m]\u001b[0m\u001b[1;33m)\u001b[0m\u001b[1;33m\u001b[0m\u001b[1;33m\u001b[0m\u001b[0m\n\u001b[1;32m---> 22\u001b[1;33m     \u001b[0mxmeans\u001b[0m \u001b[1;33m=\u001b[0m \u001b[0mapply_XMeans_p\u001b[0m\u001b[1;33m(\u001b[0m\u001b[0mX_list\u001b[0m\u001b[1;33m[\u001b[0m\u001b[1;33m:\u001b[0m\u001b[1;36m10\u001b[0m\u001b[1;33m]\u001b[0m\u001b[1;33m,\u001b[0m\u001b[1;36m1\u001b[0m\u001b[1;33m,\u001b[0m\u001b[1;36m100\u001b[0m\u001b[1;33m)\u001b[0m\u001b[1;33m\u001b[0m\u001b[1;33m\u001b[0m\u001b[0m\n\u001b[0m\u001b[0;32m     23\u001b[0m     \u001b[0mprint\u001b[0m\u001b[1;33m(\u001b[0m\u001b[0mtype\u001b[0m\u001b[1;33m(\u001b[0m\u001b[0mxmeans\u001b[0m\u001b[1;33m.\u001b[0m\u001b[0mget_clusters\u001b[0m\u001b[1;33m(\u001b[0m\u001b[1;33m)\u001b[0m\u001b[1;33m)\u001b[0m\u001b[1;33m)\u001b[0m\u001b[1;33m\u001b[0m\u001b[1;33m\u001b[0m\u001b[0m\n\u001b[0;32m     24\u001b[0m     \u001b[0mcls\u001b[0m \u001b[1;33m=\u001b[0m \u001b[0mlen\u001b[0m\u001b[1;33m(\u001b[0m\u001b[0mxmeans\u001b[0m\u001b[1;33m.\u001b[0m\u001b[0mget_clusters\u001b[0m\u001b[1;33m(\u001b[0m\u001b[1;33m)\u001b[0m\u001b[1;33m)\u001b[0m\u001b[1;33m\u001b[0m\u001b[1;33m\u001b[0m\u001b[0m\n",
      "\u001b[1;32m<ipython-input-2-da19091964eb>\u001b[0m in \u001b[0;36mapply_XMeans_p\u001b[1;34m(X, nr_cluster_initial, kmax)\u001b[0m\n\u001b[0;32m      4\u001b[0m \u001b[1;33m\u001b[0m\u001b[0m\n\u001b[0;32m      5\u001b[0m     \u001b[0mxmeans_instance\u001b[0m \u001b[1;33m=\u001b[0m \u001b[0mxmeans\u001b[0m\u001b[1;33m(\u001b[0m\u001b[0mX\u001b[0m\u001b[1;33m,\u001b[0m \u001b[0minitial_centers\u001b[0m\u001b[1;33m,\u001b[0m \u001b[0mkmax\u001b[0m\u001b[1;33m)\u001b[0m\u001b[1;33m\u001b[0m\u001b[1;33m\u001b[0m\u001b[0m\n\u001b[1;32m----> 6\u001b[1;33m     \u001b[0mxmeans_instance\u001b[0m\u001b[1;33m.\u001b[0m\u001b[0mprocess\u001b[0m\u001b[1;33m(\u001b[0m\u001b[1;33m)\u001b[0m\u001b[1;33m\u001b[0m\u001b[1;33m\u001b[0m\u001b[0m\n\u001b[0m\u001b[0;32m      7\u001b[0m \u001b[1;33m\u001b[0m\u001b[0m\n\u001b[0;32m      8\u001b[0m     \u001b[1;32mreturn\u001b[0m \u001b[0mxmeans_instance\u001b[0m\u001b[1;33m\u001b[0m\u001b[1;33m\u001b[0m\u001b[0m\n",
      "\u001b[1;32mc:\\users\\cristina\\appdata\\local\\programs\\python\\python37\\lib\\site-packages\\pyclustering\\cluster\\xmeans.py\u001b[0m in \u001b[0;36mprocess\u001b[1;34m(self)\u001b[0m\n\u001b[0;32m    167\u001b[0m \u001b[1;33m\u001b[0m\u001b[0m\n\u001b[0;32m    168\u001b[0m         \u001b[1;32mif\u001b[0m \u001b[1;33m(\u001b[0m\u001b[0mself\u001b[0m\u001b[1;33m.\u001b[0m\u001b[0m__ccore\u001b[0m \u001b[1;32mis\u001b[0m \u001b[1;32mTrue\u001b[0m\u001b[1;33m)\u001b[0m\u001b[1;33m:\u001b[0m\u001b[1;33m\u001b[0m\u001b[1;33m\u001b[0m\u001b[0m\n\u001b[1;32m--> 169\u001b[1;33m             \u001b[0mself\u001b[0m\u001b[1;33m.\u001b[0m\u001b[0m__clusters\u001b[0m\u001b[1;33m,\u001b[0m \u001b[0mself\u001b[0m\u001b[1;33m.\u001b[0m\u001b[0m__centers\u001b[0m \u001b[1;33m=\u001b[0m \u001b[0mwrapper\u001b[0m\u001b[1;33m.\u001b[0m\u001b[0mxmeans\u001b[0m\u001b[1;33m(\u001b[0m\u001b[0mself\u001b[0m\u001b[1;33m.\u001b[0m\u001b[0m__pointer_data\u001b[0m\u001b[1;33m,\u001b[0m \u001b[0mself\u001b[0m\u001b[1;33m.\u001b[0m\u001b[0m__centers\u001b[0m\u001b[1;33m,\u001b[0m \u001b[0mself\u001b[0m\u001b[1;33m.\u001b[0m\u001b[0m__kmax\u001b[0m\u001b[1;33m,\u001b[0m \u001b[0mself\u001b[0m\u001b[1;33m.\u001b[0m\u001b[0m__tolerance\u001b[0m\u001b[1;33m,\u001b[0m \u001b[0mself\u001b[0m\u001b[1;33m.\u001b[0m\u001b[0m__criterion\u001b[0m\u001b[1;33m)\u001b[0m\u001b[1;33m\u001b[0m\u001b[1;33m\u001b[0m\u001b[0m\n\u001b[0m\u001b[0;32m    170\u001b[0m \u001b[1;33m\u001b[0m\u001b[0m\n\u001b[0;32m    171\u001b[0m         \u001b[1;32melse\u001b[0m\u001b[1;33m:\u001b[0m\u001b[1;33m\u001b[0m\u001b[1;33m\u001b[0m\u001b[0m\n",
      "\u001b[1;32mc:\\users\\cristina\\appdata\\local\\programs\\python\\python37\\lib\\site-packages\\pyclustering\\core\\xmeans_wrapper.py\u001b[0m in \u001b[0;36mxmeans\u001b[1;34m(sample, centers, kmax, tolerance, criterion)\u001b[0m\n\u001b[0;32m     38\u001b[0m \u001b[1;33m\u001b[0m\u001b[0m\n\u001b[0;32m     39\u001b[0m     \u001b[0mccore\u001b[0m\u001b[1;33m.\u001b[0m\u001b[0mxmeans_algorithm\u001b[0m\u001b[1;33m.\u001b[0m\u001b[0mrestype\u001b[0m \u001b[1;33m=\u001b[0m \u001b[0mPOINTER\u001b[0m\u001b[1;33m(\u001b[0m\u001b[0mpyclustering_package\u001b[0m\u001b[1;33m)\u001b[0m\u001b[1;33m;\u001b[0m\u001b[1;33m\u001b[0m\u001b[1;33m\u001b[0m\u001b[0m\n\u001b[1;32m---> 40\u001b[1;33m     \u001b[0mpackage\u001b[0m \u001b[1;33m=\u001b[0m \u001b[0mccore\u001b[0m\u001b[1;33m.\u001b[0m\u001b[0mxmeans_algorithm\u001b[0m\u001b[1;33m(\u001b[0m\u001b[0mpointer_data\u001b[0m\u001b[1;33m,\u001b[0m \u001b[0mpointer_centers\u001b[0m\u001b[1;33m,\u001b[0m \u001b[0mc_size_t\u001b[0m\u001b[1;33m(\u001b[0m\u001b[0mkmax\u001b[0m\u001b[1;33m)\u001b[0m\u001b[1;33m,\u001b[0m \u001b[0mc_double\u001b[0m\u001b[1;33m(\u001b[0m\u001b[0mtolerance\u001b[0m\u001b[1;33m)\u001b[0m\u001b[1;33m,\u001b[0m \u001b[0mc_uint\u001b[0m\u001b[1;33m(\u001b[0m\u001b[0mcriterion\u001b[0m\u001b[1;33m)\u001b[0m\u001b[1;33m)\u001b[0m\u001b[1;33m;\u001b[0m\u001b[1;33m\u001b[0m\u001b[1;33m\u001b[0m\u001b[0m\n\u001b[0m\u001b[0;32m     41\u001b[0m \u001b[1;33m\u001b[0m\u001b[0m\n\u001b[0;32m     42\u001b[0m     \u001b[0mresult\u001b[0m \u001b[1;33m=\u001b[0m \u001b[0mpackage_extractor\u001b[0m\u001b[1;33m(\u001b[0m\u001b[0mpackage\u001b[0m\u001b[1;33m)\u001b[0m\u001b[1;33m.\u001b[0m\u001b[0mextract\u001b[0m\u001b[1;33m(\u001b[0m\u001b[1;33m)\u001b[0m\u001b[1;33m;\u001b[0m\u001b[1;33m\u001b[0m\u001b[1;33m\u001b[0m\u001b[0m\n",
      "\u001b[1;31mOSError\u001b[0m: [WinError -529697949] Windows Error 0xe06d7363"
     ]
    }
   ],
   "source": [
    "[xm,fcm] = load_xmeans_fuzzy('../DATE/preprocess_venue/w2v_avg_50_5-1000.txt')"
   ]
  },
  {
   "cell_type": "code",
   "execution_count": 28,
   "metadata": {},
   "outputs": [
    {
     "name": "stdout",
     "output_type": "stream",
     "text": [
      "790\n",
      "2\n"
     ]
    }
   ],
   "source": [
    "[xm,fcm] = load_xmeans_fuzzy('../DATE/preprocess_venue/w2v_avg_50_5-1000.txt')"
   ]
  },
  {
   "cell_type": "markdown",
   "metadata": {},
   "source": [
    "## Apply w2v 25-5000"
   ]
  },
  {
   "cell_type": "code",
   "execution_count": 29,
   "metadata": {},
   "outputs": [
    {
     "name": "stdout",
     "output_type": "stream",
     "text": [
      "1094\n",
      "4\n"
     ]
    }
   ],
   "source": [
    "[xm,fcm] = load_xmeans_fuzzy('../DATE/preprocess_venue/w2v_sum_50_25-5000.txt')"
   ]
  },
  {
   "cell_type": "code",
   "execution_count": 31,
   "metadata": {},
   "outputs": [
    {
     "name": "stdout",
     "output_type": "stream",
     "text": [
      "1094\n",
      "3\n"
     ]
    }
   ],
   "source": [
    "[xm,fcm] = load_xmeans_fuzzy('../DATE/preprocess_venue/w2v_avg_50_25-5000.txt')"
   ]
  },
  {
   "cell_type": "code",
   "execution_count": null,
   "metadata": {},
   "outputs": [],
   "source": []
  }
 ],
 "metadata": {
  "kernelspec": {
   "display_name": "Python 3",
   "language": "python",
   "name": "python3"
  },
  "language_info": {
   "codemirror_mode": {
    "name": "ipython",
    "version": 3
   },
   "file_extension": ".py",
   "mimetype": "text/x-python",
   "name": "python",
   "nbconvert_exporter": "python",
   "pygments_lexer": "ipython3",
   "version": "3.7.3"
  }
 },
 "nbformat": 4,
 "nbformat_minor": 2
}
