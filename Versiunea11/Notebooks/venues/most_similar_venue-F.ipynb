{
 "cells": [
  {
   "cell_type": "code",
   "execution_count": 1,
   "metadata": {},
   "outputs": [],
   "source": [
    "import json"
   ]
  },
  {
   "cell_type": "code",
   "execution_count": 9,
   "metadata": {},
   "outputs": [],
   "source": [
    "import sys\n",
    "sys.path.append('Library')\n",
    "\n",
    "from helpers import *"
   ]
  },
  {
   "cell_type": "code",
   "execution_count": 3,
   "metadata": {},
   "outputs": [],
   "source": [
    "###\n",
    "### Concatenteaza o lista de string.\n",
    "### param list_: lista de string.\n",
    "### return string-ul rezultat dupa concatenare.\n",
    "###\n",
    "def get_key_from_lists(list_):\n",
    "    key = \"\"\n",
    "    for elem in list_:\n",
    "        key += elem + ' '\n",
    "    return key[0:len(key)-1]\n",
    "\n",
    "###\n",
    "### Calculeaza distanta euclidiana dintre un vector si o lista de vectori si returneaza o lista cu cei mai aporpiati nr.\n",
    "### param X: dictionar {cheie:vector}. -> vectorul\n",
    "### param X_dict: dictionar {chei:vectori} -> vectorii.\n",
    "### param nr: numarul de vecini cei mai apropiati pe care ii va returna.\n",
    "### return distante: dictionar {chei:vectori}.\n",
    "### \n",
    "def calculeaza_distante_p(X, X_dict, nr):\n",
    "    distante = {}\n",
    "    for elem in X_dict:\n",
    "        distante[elem] = distance.euclidean(X, X_dict[elem])        \n",
    "    distante = sort_dict_value(distante)\n",
    "    return distante[0:nr]\n",
    "\n",
    "###\n",
    "### Parcurge toate fisierele si creeaza un dictionar {venue:[list_of_fos]}.\n",
    "### file_path: calea spre fisiere.\n",
    "### param print_: printeaza log la 10 iteratii.\n",
    "### return dict_: dictionarul.\n",
    "###\n",
    "def get_dict_foses(file_path, print_ = False):\n",
    "    dict_ = {}\n",
    "    j = 0\n",
    "    for i in range(0,196):\n",
    "        if (print_):\n",
    "            if j % 10 == 0:\n",
    "                print(j)\n",
    "            j += 1\n",
    "        file = file_path + str(i) + '.txt'\n",
    "        r = open(file,'r')\n",
    "        \n",
    "        for linie in r:\n",
    "            articol_crt = json.loads(linie)\n",
    "            venue = articol_crt['venue']\n",
    "            venue = get_key_from_lists(venue)\n",
    "            fos = articol_crt['fos']\n",
    "            try:\n",
    "                fos_list = dict_[venue]\n",
    "            except KeyError:\n",
    "                fos_list = []\n",
    "            \n",
    "            for elem in fos:\n",
    "                fos_list.append(elem['name'])\n",
    "            \n",
    "            dict_[venue] = remove_duplicates(fos_list)\n",
    "\n",
    "        r.close()\n",
    "    return dict_\n",
    "\n",
    "###\n",
    "### Parcurge toate elementele unui dictionar de tipul {venues:[]}\n",
    "### param dict_1:\n",
    "### return dict_2:\n",
    "###\n",
    "def get_dict_similar_p(dict_1):\n",
    "    dict_2 = {}\n",
    "    k = 0\n",
    "    print(len(dict_1))\n",
    "    \n",
    "    for key in dict_1:\n",
    "        if k % 100 == 0:\n",
    "            print(k)\n",
    "        k += 1\n",
    "        new_X_dict = elimina_elem_dupa_cheie(dict_1, key)\n",
    "        distante = calculeaza_distante_p(dict_1[key],new_X_dict, 5) \n",
    "        list_ = []\n",
    "        key = key[0:len(key)-1]\n",
    "        for elem in distante:\n",
    "            list_.append(elem[0][0:len(elem[0])-1])\n",
    "        dict_2[key] = list_\n",
    "    print(len(dict_2), k)\n",
    "    return dict_2\n",
    "    "
   ]
  },
  {
   "cell_type": "code",
   "execution_count": 4,
   "metadata": {},
   "outputs": [
    {
     "name": "stdout",
     "output_type": "stream",
     "text": [
      "3692\n"
     ]
    }
   ],
   "source": [
    "r = open('../../DATE/preprocess_venue/w2v_avg_50_c.txt', 'r')\n",
    "X_dict = json.load(r)\n",
    "r.close()\n",
    "print(len(X_dict))"
   ]
  },
  {
   "cell_type": "code",
   "execution_count": 10,
   "metadata": {},
   "outputs": [
    {
     "name": "stdout",
     "output_type": "stream",
     "text": [
      "3692\n",
      "0\n",
      "100\n",
      "200\n",
      "300\n",
      "400\n",
      "500\n",
      "600\n",
      "700\n",
      "800\n",
      "900\n",
      "1000\n",
      "1100\n",
      "1200\n",
      "1300\n",
      "1400\n",
      "1500\n",
      "1600\n",
      "1700\n",
      "1800\n",
      "1900\n",
      "2000\n",
      "2100\n",
      "2200\n",
      "2300\n",
      "2400\n",
      "2500\n",
      "2600\n",
      "2700\n",
      "2800\n",
      "2900\n",
      "3000\n",
      "3100\n",
      "3200\n",
      "3300\n",
      "3400\n",
      "3500\n",
      "3600\n",
      "3692 3692\n"
     ]
    }
   ],
   "source": [
    "dict_2 = get_dict_similar_p(X_dict)"
   ]
  },
  {
   "cell_type": "code",
   "execution_count": 11,
   "metadata": {},
   "outputs": [
    {
     "ename": "FileNotFoundError",
     "evalue": "[Errno 2] No such file or directory: '../DATE/preprocess_venue/venue_final/file0.txt'",
     "output_type": "error",
     "traceback": [
      "\u001b[1;31m---------------------------------------------------------------------------\u001b[0m",
      "\u001b[1;31mFileNotFoundError\u001b[0m                         Traceback (most recent call last)",
      "\u001b[1;32m<ipython-input-11-5b77c7820a4a>\u001b[0m in \u001b[0;36m<module>\u001b[1;34m\u001b[0m\n\u001b[1;32m----> 1\u001b[1;33m \u001b[0mdict_1\u001b[0m \u001b[1;33m=\u001b[0m \u001b[0mget_dict_foses\u001b[0m\u001b[1;33m(\u001b[0m\u001b[1;34m'../DATE/preprocess_venue/venue_final/file'\u001b[0m\u001b[1;33m)\u001b[0m\u001b[1;33m\u001b[0m\u001b[1;33m\u001b[0m\u001b[0m\n\u001b[0m\u001b[0;32m      2\u001b[0m \u001b[1;31m# w = open('../DATE/preprocess_venue/d1_5-1000.txt','w')\u001b[0m\u001b[1;33m\u001b[0m\u001b[1;33m\u001b[0m\u001b[1;33m\u001b[0m\u001b[0m\n\u001b[0;32m      3\u001b[0m \u001b[1;31m# w.write(json.dumps(dict_1))\u001b[0m\u001b[1;33m\u001b[0m\u001b[1;33m\u001b[0m\u001b[1;33m\u001b[0m\u001b[0m\n\u001b[0;32m      4\u001b[0m \u001b[1;31m# w.close()\u001b[0m\u001b[1;33m\u001b[0m\u001b[1;33m\u001b[0m\u001b[1;33m\u001b[0m\u001b[0m\n",
      "\u001b[1;32m<ipython-input-3-9d16de8da68d>\u001b[0m in \u001b[0;36mget_dict_foses\u001b[1;34m(file_path, print_)\u001b[0m\n\u001b[0;32m     39\u001b[0m             \u001b[0mj\u001b[0m \u001b[1;33m+=\u001b[0m \u001b[1;36m1\u001b[0m\u001b[1;33m\u001b[0m\u001b[1;33m\u001b[0m\u001b[0m\n\u001b[0;32m     40\u001b[0m         \u001b[0mfile\u001b[0m \u001b[1;33m=\u001b[0m \u001b[0mfile_path\u001b[0m \u001b[1;33m+\u001b[0m \u001b[0mstr\u001b[0m\u001b[1;33m(\u001b[0m\u001b[0mi\u001b[0m\u001b[1;33m)\u001b[0m \u001b[1;33m+\u001b[0m \u001b[1;34m'.txt'\u001b[0m\u001b[1;33m\u001b[0m\u001b[1;33m\u001b[0m\u001b[0m\n\u001b[1;32m---> 41\u001b[1;33m         \u001b[0mr\u001b[0m \u001b[1;33m=\u001b[0m \u001b[0mopen\u001b[0m\u001b[1;33m(\u001b[0m\u001b[0mfile\u001b[0m\u001b[1;33m,\u001b[0m\u001b[1;34m'r'\u001b[0m\u001b[1;33m)\u001b[0m\u001b[1;33m\u001b[0m\u001b[1;33m\u001b[0m\u001b[0m\n\u001b[0m\u001b[0;32m     42\u001b[0m \u001b[1;33m\u001b[0m\u001b[0m\n\u001b[0;32m     43\u001b[0m         \u001b[1;32mfor\u001b[0m \u001b[0mlinie\u001b[0m \u001b[1;32min\u001b[0m \u001b[0mr\u001b[0m\u001b[1;33m:\u001b[0m\u001b[1;33m\u001b[0m\u001b[1;33m\u001b[0m\u001b[0m\n",
      "\u001b[1;31mFileNotFoundError\u001b[0m: [Errno 2] No such file or directory: '../DATE/preprocess_venue/venue_final/file0.txt'"
     ]
    }
   ],
   "source": [
    "dict_1 = get_dict_foses('../DATE/preprocess_venue/venue_final/file')\n",
    "# w = open('../DATE/preprocess_venue/d1_5-1000.txt','w')\n",
    "# w.write(json.dumps(dict_1))\n",
    "# w.close()"
   ]
  },
  {
   "cell_type": "code",
   "execution_count": null,
   "metadata": {},
   "outputs": [],
   "source": [
    "print(len(dict_1))\n",
    "print(len(dict_2))"
   ]
  },
  {
   "cell_type": "code",
   "execution_count": 8,
   "metadata": {},
   "outputs": [],
   "source": [
    "w = open('../DATE/preprocess_venue/d2_complete.txt','w')\n",
    "w.write(json.dumps(dict_2))\n",
    "w.close()"
   ]
  },
  {
   "cell_type": "code",
   "execution_count": null,
   "metadata": {},
   "outputs": [],
   "source": [
    "def process(d1, d2):   \n",
    "    procent_total = 0\n",
    "    w = open('../DATE/preprocess_venue/results_complete_avg.txt','w')\n",
    "    k = 0\n",
    "    valids = 0\n",
    "    for elem in d1:\n",
    "        if k % 100 == 0:\n",
    "            print(k)\n",
    "        k += 1\n",
    "        print_dict = {}\n",
    "        l2 = []\n",
    "        l1 = d1[elem]\n",
    "        \n",
    "        # Iau fos pentru most simiar venues\n",
    "        try:\n",
    "            for fos in d2[elem]:\n",
    "                l2 += d1[fos]\n",
    "            l2 = remove_duplicates(l2)\n",
    "            l_comun = elemente_comune_lista(l1,l2)\n",
    "            proc = len(l_comun) * 100 / len(l1)\n",
    "            procent_total += proc\n",
    "            print_dict['venue'] = elem\n",
    "            print_dict['fos'] = len(l1)\n",
    "            print_dict['similar_fos'] = len(l2)\n",
    "            print_dict['common_fos'] = len(l_comun)\n",
    "            print_dict['procent'] = proc\n",
    "            w.write(json.dumps(print_dict))\n",
    "            w.write('\\n')\n",
    "            valids+=1\n",
    "        except KeyError:\n",
    "            continue\n",
    "\n",
    "    procent_total /= valids\n",
    "    w.close()\n",
    "    return procent_total\n",
    "procent = process(dict_1, dict_2)"
   ]
  },
  {
   "cell_type": "code",
   "execution_count": 10,
   "metadata": {},
   "outputs": [
    {
     "name": "stdout",
     "output_type": "stream",
     "text": [
      "56.88619350042881\n"
     ]
    }
   ],
   "source": [
    "print(procent)"
   ]
  },
  {
   "cell_type": "code",
   "execution_count": null,
   "metadata": {},
   "outputs": [],
   "source": []
  }
 ],
 "metadata": {
  "kernelspec": {
   "display_name": "Python 3",
   "language": "python",
   "name": "python3"
  },
  "language_info": {
   "codemirror_mode": {
    "name": "ipython",
    "version": 3
   },
   "file_extension": ".py",
   "mimetype": "text/x-python",
   "name": "python",
   "nbconvert_exporter": "python",
   "pygments_lexer": "ipython3",
   "version": "3.7.3"
  }
 },
 "nbformat": 4,
 "nbformat_minor": 2
}
