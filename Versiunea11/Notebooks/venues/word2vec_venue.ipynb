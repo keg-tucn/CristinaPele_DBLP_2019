{
 "cells": [
  {
   "cell_type": "code",
   "execution_count": 1,
   "metadata": {},
   "outputs": [],
   "source": [
    "import json"
   ]
  },
  {
   "cell_type": "code",
   "execution_count": 2,
   "metadata": {},
   "outputs": [],
   "source": [
    "import sys\n",
    "sys.path.append('../library')\n",
    "\n",
    "from json_file_preprocessing import *\n",
    "from text_preprocessing import *\n",
    "from helpers import *\n",
    "from word2vec import *"
   ]
  },
  {
   "cell_type": "code",
   "execution_count": 11,
   "metadata": {},
   "outputs": [],
   "source": [
    "def get_lista_venue(cale):\n",
    "    lista_venue = []\n",
    "    for i in range(0,196):\n",
    "        file = cale +str(i)+'.txt'\n",
    "        r = open(file,'r')\n",
    "\n",
    "        for linie in r:\n",
    "            articol_curent = json.loads(linie)\n",
    "            venue = articol_curent['venue']\n",
    "            lista_venue.append(articol_curent['venue'])\n",
    "        r.close()\n",
    "        lista_venue = remove_duplicates_lol_p(lista_venue)\n",
    "    return lista_venue\n",
    "\n",
    "\n",
    "def apply_(doc_list, model, size, func, wf):\n",
    "    X = apply_model_w2v(doc_list, model, size, func)\n",
    "    w = open(wf,'w')\n",
    "    w.write(json.dumps(X))\n",
    "    w.close()\n",
    "    print(len(X))"
   ]
  },
  {
   "cell_type": "code",
   "execution_count": 4,
   "metadata": {},
   "outputs": [],
   "source": [
    "model_w2v = load_glove_50()"
   ]
  },
  {
   "cell_type": "markdown",
   "metadata": {},
   "source": [
    "## Complet"
   ]
  },
  {
   "cell_type": "code",
   "execution_count": 12,
   "metadata": {},
   "outputs": [
    {
     "name": "stdout",
     "output_type": "stream",
     "text": [
      "3693\n",
      "sum\n",
      "anaphor\n",
      "precedings\n",
      "psychometrika\n",
      "Not found 3 words from 13029 words.\n",
      "3692\n",
      "avg\n",
      "anaphor\n",
      "precedings\n",
      "psychometrika\n",
      "Not found 3 words from 13029 words.\n",
      "3692\n"
     ]
    }
   ],
   "source": [
    "doc_list = get_lista_venue('../DATE/preprocess_venue/venue_final/file')\n",
    "print(len(doc_list))\n",
    "print('sum')\n",
    "apply_(doc_list, model_w2v, 50, 'sum', '../DATE/preprocess_venue/w2v_sum_50_c.txt')\n",
    "print('avg')\n",
    "apply_(doc_list, model_w2v, 50, 'avg', '../DATE/preprocess_venue/w2v_avg_50_c.txt')"
   ]
  },
  {
   "cell_type": "markdown",
   "metadata": {},
   "source": [
    "## TF 5-1000"
   ]
  },
  {
   "cell_type": "code",
   "execution_count": 13,
   "metadata": {},
   "outputs": [
    {
     "name": "stdout",
     "output_type": "stream",
     "text": [
      "792\n",
      "sum:\n",
      "anaphor\n",
      "precedings\n",
      "Not found 2 words from 1155 words.\n",
      "790\n",
      "avg:\n",
      "anaphor\n",
      "precedings\n",
      "Not found 2 words from 1155 words.\n",
      "790\n"
     ]
    }
   ],
   "source": [
    "doc_list_5 = get_lista_venue('../DATE/preprocess_venue/5_1000/file')\n",
    "print(len(doc_list_5))\n",
    "print('sum:')\n",
    "apply_(doc_list_5, model_w2v, 50, 'sum', '../DATE/preprocess_venue/w2v_sum_50_5-1000.txt')\n",
    "print('avg:')\n",
    "apply_(doc_list_5, model_w2v, 50, 'avg', '../DATE/preprocess_venue/w2v_avg_50_5-1000.txt')"
   ]
  },
  {
   "cell_type": "markdown",
   "metadata": {},
   "source": [
    "## TF 25-5000"
   ]
  },
  {
   "cell_type": "code",
   "execution_count": 14,
   "metadata": {},
   "outputs": [
    {
     "name": "stdout",
     "output_type": "stream",
     "text": [
      "1095\n",
      "sum:\n",
      "anaphor\n",
      "Not found 1 words from 1846 words.\n",
      "1094\n",
      "avg:\n",
      "anaphor\n",
      "Not found 1 words from 1846 words.\n",
      "1094\n"
     ]
    }
   ],
   "source": [
    "doc_list_25 = get_lista_venue('../DATE/preprocess_venue/25_5000/file')\n",
    "print(len(doc_list_25))\n",
    "print('sum:')\n",
    "apply_(doc_list_25, model_w2v, 50, 'sum', '../DATE/preprocess_venue/w2v_sum_50_25-5000.txt')\n",
    "print('avg:')\n",
    "apply_(doc_list_25, model_w2v, 50, 'avg', '../DATE/preprocess_venue/w2v_avg_50_25-5000.txt')"
   ]
  },
  {
   "cell_type": "code",
   "execution_count": null,
   "metadata": {},
   "outputs": [],
   "source": []
  }
 ],
 "metadata": {
  "kernelspec": {
   "display_name": "Python 3",
   "language": "python",
   "name": "python3"
  },
  "language_info": {
   "codemirror_mode": {
    "name": "ipython",
    "version": 3
   },
   "file_extension": ".py",
   "mimetype": "text/x-python",
   "name": "python",
   "nbconvert_exporter": "python",
   "pygments_lexer": "ipython3",
   "version": "3.7.1"
  }
 },
 "nbformat": 4,
 "nbformat_minor": 2
}
