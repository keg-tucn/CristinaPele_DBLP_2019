{
 "cells": [
  {
   "cell_type": "code",
   "execution_count": 1,
   "metadata": {},
   "outputs": [],
   "source": [
    "import json"
   ]
  },
  {
   "cell_type": "code",
   "execution_count": 2,
   "metadata": {},
   "outputs": [],
   "source": [
    "import sys\n",
    "sys.path.append('../library')\n",
    "\n",
    "from helpers import *"
   ]
  },
  {
   "cell_type": "code",
   "execution_count": 3,
   "metadata": {},
   "outputs": [],
   "source": [
    "def get_key(list_):\n",
    "    key = \"\"\n",
    "    for elem in list_:\n",
    "        key += elem + ' '\n",
    "    return key[0:len(key)-1]\n",
    "\n",
    "def calculeaza_distante_p(X, X_dict, nr):\n",
    "    distante = {}\n",
    "    for elem in X_dict:\n",
    "        distante[elem] = distance.euclidean(X, X_dict[elem])        \n",
    "    distante = sort_dict_value(distante)\n",
    "    return distante[0:nr]\n",
    "\n",
    "def get_dict_foses():\n",
    "    dict_ = {}\n",
    "    j = 0\n",
    "    for i in range(0,196):\n",
    "        if j % 10 == 0:\n",
    "            print(j)\n",
    "        j += 1\n",
    "        file = '../DATE/preprocess_venue/venue_final/file' + str(i) + '.txt'\n",
    "        r = open(file,'r')\n",
    "        \n",
    "        for linie in r:\n",
    "            articol_crt = json.loads(linie)\n",
    "            venue = articol_crt['venue']\n",
    "            venue = get_key(venue)\n",
    "            fos = articol_crt['fos']\n",
    "            try:\n",
    "                fos_list = dict_[venue]\n",
    "            except KeyError:\n",
    "                fos_list = []\n",
    "            \n",
    "            max_w = 0\n",
    "            max_name = \"\"\n",
    "            for elem in fos:\n",
    "                if max_w < elem['w']:\n",
    "                    max_w = elem['w']\n",
    "                    max_name = elem['name']\n",
    "            fos_list.append(max_name)\n",
    "            dict_[venue] = remove_duplicates(fos_list)         \n",
    "       \n",
    "        r.close()\n",
    "    return dict_   "
   ]
  },
  {
   "cell_type": "code",
   "execution_count": 4,
   "metadata": {},
   "outputs": [
    {
     "name": "stdout",
     "output_type": "stream",
     "text": [
      "3692\n"
     ]
    }
   ],
   "source": [
    "r = open('../DATE/preprocess_venue/w2v_avg_50_c.txt', 'r')\n",
    "X_dict = json.load(r)\n",
    "r.close()\n",
    "print(len(X_dict))"
   ]
  },
  {
   "cell_type": "code",
   "execution_count": 5,
   "metadata": {},
   "outputs": [
    {
     "name": "stdout",
     "output_type": "stream",
     "text": [
      "0\n",
      "10\n",
      "20\n",
      "30\n",
      "40\n",
      "50\n",
      "60\n",
      "70\n",
      "80\n",
      "90\n",
      "100\n",
      "110\n",
      "120\n",
      "130\n",
      "140\n",
      "150\n",
      "160\n",
      "170\n",
      "180\n",
      "190\n",
      "3693\n"
     ]
    }
   ],
   "source": [
    "dict_1 = get_dict_foses()\n",
    "print(len(dict_1))"
   ]
  },
  {
   "cell_type": "code",
   "execution_count": 6,
   "metadata": {},
   "outputs": [],
   "source": [
    "r = open('../DATE/preprocess_venue/d2_complete.txt','r')\n",
    "dict_2 = json.load(r)\n",
    "r.close()"
   ]
  },
  {
   "cell_type": "code",
   "execution_count": 8,
   "metadata": {},
   "outputs": [
    {
     "name": "stdout",
     "output_type": "stream",
     "text": [
      "0\n",
      "100\n",
      "200\n",
      "300\n",
      "400\n",
      "500\n",
      "600\n",
      "700\n",
      "800\n",
      "900\n",
      "1000\n",
      "1100\n",
      "1200\n",
      "1300\n",
      "1400\n",
      "1500\n",
      "1600\n",
      "1700\n",
      "1800\n",
      "1900\n",
      "2000\n",
      "2100\n",
      "2200\n",
      "2300\n",
      "2400\n",
      "2500\n",
      "2600\n",
      "2700\n",
      "2800\n",
      "2900\n",
      "3000\n",
      "3100\n",
      "3200\n",
      "3300\n",
      "3400\n",
      "3500\n",
      "3600\n"
     ]
    }
   ],
   "source": [
    "def process(d1, d2):   \n",
    "    procent_total = 0\n",
    "    w = open('../DATE/preprocess_venue/results_complete_max_sum.txt','w')\n",
    "    k = 0\n",
    "    for elem in d1:\n",
    "        if k % 100 == 0:\n",
    "            print(k)\n",
    "        k += 1\n",
    "        print_dict = {}\n",
    "        l2 = []\n",
    "        l1 = d1[elem]\n",
    "        \n",
    "        # Iau fos pentru most simiar venues\n",
    "        if elem == 'psychometrika':\n",
    "            continue\n",
    "        for fos in d2[elem]:\n",
    "            l2 += d1[fos]\n",
    "        l2 = remove_duplicates(l2)\n",
    "        l_comun = elemente_comune_lista(l1,l2)\n",
    "        proc = len(l_comun) * 100 / len(l1)\n",
    "        procent_total += proc\n",
    "        print_dict['venue'] = elem\n",
    "        print_dict['fos'] = len(l1)\n",
    "        print_dict['similar_fos'] = len(l2)\n",
    "        print_dict['common_fos'] = len(l_comun)\n",
    "        print_dict['procent'] = proc\n",
    "        w.write(json.dumps(print_dict))\n",
    "        w.write('\\n')\n",
    "\n",
    "    procent_total /= len(dict_1)\n",
    "    w.close()\n",
    "    return procent_total\n",
    "procent = process(dict_1, dict_2)"
   ]
  },
  {
   "cell_type": "code",
   "execution_count": 9,
   "metadata": {},
   "outputs": [
    {
     "name": "stdout",
     "output_type": "stream",
     "text": [
      "32.60149992917406\n"
     ]
    }
   ],
   "source": [
    "print(procent)"
   ]
  },
  {
   "cell_type": "code",
   "execution_count": null,
   "metadata": {},
   "outputs": [],
   "source": []
  }
 ],
 "metadata": {
  "kernelspec": {
   "display_name": "Python 3",
   "language": "python",
   "name": "python3"
  },
  "language_info": {
   "codemirror_mode": {
    "name": "ipython",
    "version": 3
   },
   "file_extension": ".py",
   "mimetype": "text/x-python",
   "name": "python",
   "nbconvert_exporter": "python",
   "pygments_lexer": "ipython3",
   "version": "3.7.1"
  }
 },
 "nbformat": 4,
 "nbformat_minor": 2
}
